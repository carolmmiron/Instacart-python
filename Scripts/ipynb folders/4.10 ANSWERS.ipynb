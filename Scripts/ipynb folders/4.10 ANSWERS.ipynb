{
 "cells": [
  {
   "cell_type": "markdown",
   "id": "3d0d681c-8202-47dd-8d0f-0d289e63d26e",
   "metadata": {},
   "source": [
    "# 4.10 . ANSWERS 2.0"
   ]
  },
  {
   "cell_type": "code",
   "execution_count": 1,
   "id": "b711b96c-addd-47fd-9f2a-d6747fd40e3d",
   "metadata": {},
   "outputs": [],
   "source": [
    "# import all libraries\n",
    "\n",
    "import pandas as pd\n",
    "import numpy as np\n",
    "import os\n",
    "import matplotlib.pyplot as plt\n",
    "import seaborn as sns\n",
    "import scipy"
   ]
  },
  {
   "cell_type": "code",
   "execution_count": 2,
   "id": "c1eeb9da-e485-415a-927e-bdfd2d638486",
   "metadata": {},
   "outputs": [],
   "source": [
    "# creating a shortcut to access the Instacart Basket data as path\n",
    "\n",
    "path= r'C:\\Users\\carol\\Documents\\20.06 Instacart Basket Analysis'"
   ]
  },
  {
   "cell_type": "code",
   "execution_count": 3,
   "id": "0cd1a614-85eb-4cbd-841d-f5b44158c3ab",
   "metadata": {},
   "outputs": [],
   "source": [
    "# importing data merge with customers\n",
    "\n",
    "df_total = pd.read_pickle(os.path.join(path, '02 Data', 'Prepared Data', 'ords_prods_cust_agg_2.pkl'))"
   ]
  },
  {
   "cell_type": "code",
   "execution_count": 4,
   "id": "27968fd0-83e8-4c7c-b3aa-57e707cef203",
   "metadata": {},
   "outputs": [
    {
     "data": {
      "text/html": [
       "<div>\n",
       "<style scoped>\n",
       "    .dataframe tbody tr th:only-of-type {\n",
       "        vertical-align: middle;\n",
       "    }\n",
       "\n",
       "    .dataframe tbody tr th {\n",
       "        vertical-align: top;\n",
       "    }\n",
       "\n",
       "    .dataframe thead th {\n",
       "        text-align: right;\n",
       "    }\n",
       "</style>\n",
       "<table border=\"1\" class=\"dataframe\">\n",
       "  <thead>\n",
       "    <tr style=\"text-align: right;\">\n",
       "      <th></th>\n",
       "      <th>Unnamed: 0</th>\n",
       "      <th>product_id</th>\n",
       "      <th>product_name</th>\n",
       "      <th>aisle_id</th>\n",
       "      <th>department_id</th>\n",
       "      <th>prices</th>\n",
       "      <th>order_id</th>\n",
       "      <th>user_id</th>\n",
       "      <th>order_number</th>\n",
       "      <th>order_dow</th>\n",
       "      <th>...</th>\n",
       "      <th>first_name</th>\n",
       "      <th>last_name</th>\n",
       "      <th>gender</th>\n",
       "      <th>state</th>\n",
       "      <th>age</th>\n",
       "      <th>date_joined</th>\n",
       "      <th>n_dependants</th>\n",
       "      <th>marital_status</th>\n",
       "      <th>income</th>\n",
       "      <th>_merge</th>\n",
       "    </tr>\n",
       "  </thead>\n",
       "  <tbody>\n",
       "    <tr>\n",
       "      <th>0</th>\n",
       "      <td>0</td>\n",
       "      <td>1</td>\n",
       "      <td>Chocolate Sandwich Cookies</td>\n",
       "      <td>61</td>\n",
       "      <td>19</td>\n",
       "      <td>5.8</td>\n",
       "      <td>3139998</td>\n",
       "      <td>138</td>\n",
       "      <td>28</td>\n",
       "      <td>6</td>\n",
       "      <td>...</td>\n",
       "      <td>Charles</td>\n",
       "      <td>Cox</td>\n",
       "      <td>Male</td>\n",
       "      <td>Minnesota</td>\n",
       "      <td>81</td>\n",
       "      <td>8/1/2019</td>\n",
       "      <td>1</td>\n",
       "      <td>married</td>\n",
       "      <td>49620</td>\n",
       "      <td>both</td>\n",
       "    </tr>\n",
       "    <tr>\n",
       "      <th>1</th>\n",
       "      <td>0</td>\n",
       "      <td>1</td>\n",
       "      <td>Chocolate Sandwich Cookies</td>\n",
       "      <td>61</td>\n",
       "      <td>19</td>\n",
       "      <td>5.8</td>\n",
       "      <td>1977647</td>\n",
       "      <td>138</td>\n",
       "      <td>30</td>\n",
       "      <td>6</td>\n",
       "      <td>...</td>\n",
       "      <td>Charles</td>\n",
       "      <td>Cox</td>\n",
       "      <td>Male</td>\n",
       "      <td>Minnesota</td>\n",
       "      <td>81</td>\n",
       "      <td>8/1/2019</td>\n",
       "      <td>1</td>\n",
       "      <td>married</td>\n",
       "      <td>49620</td>\n",
       "      <td>both</td>\n",
       "    </tr>\n",
       "    <tr>\n",
       "      <th>2</th>\n",
       "      <td>0</td>\n",
       "      <td>1</td>\n",
       "      <td>Chocolate Sandwich Cookies</td>\n",
       "      <td>61</td>\n",
       "      <td>19</td>\n",
       "      <td>5.8</td>\n",
       "      <td>389851</td>\n",
       "      <td>709</td>\n",
       "      <td>2</td>\n",
       "      <td>0</td>\n",
       "      <td>...</td>\n",
       "      <td>Deborah</td>\n",
       "      <td>Glass</td>\n",
       "      <td>Female</td>\n",
       "      <td>Vermont</td>\n",
       "      <td>66</td>\n",
       "      <td>6/16/2018</td>\n",
       "      <td>2</td>\n",
       "      <td>married</td>\n",
       "      <td>158302</td>\n",
       "      <td>both</td>\n",
       "    </tr>\n",
       "    <tr>\n",
       "      <th>3</th>\n",
       "      <td>0</td>\n",
       "      <td>1</td>\n",
       "      <td>Chocolate Sandwich Cookies</td>\n",
       "      <td>61</td>\n",
       "      <td>19</td>\n",
       "      <td>5.8</td>\n",
       "      <td>652770</td>\n",
       "      <td>764</td>\n",
       "      <td>1</td>\n",
       "      <td>3</td>\n",
       "      <td>...</td>\n",
       "      <td>Heather</td>\n",
       "      <td>Myers</td>\n",
       "      <td>Female</td>\n",
       "      <td>Wisconsin</td>\n",
       "      <td>40</td>\n",
       "      <td>2/9/2020</td>\n",
       "      <td>3</td>\n",
       "      <td>married</td>\n",
       "      <td>31308</td>\n",
       "      <td>both</td>\n",
       "    </tr>\n",
       "    <tr>\n",
       "      <th>4</th>\n",
       "      <td>0</td>\n",
       "      <td>1</td>\n",
       "      <td>Chocolate Sandwich Cookies</td>\n",
       "      <td>61</td>\n",
       "      <td>19</td>\n",
       "      <td>5.8</td>\n",
       "      <td>1813452</td>\n",
       "      <td>764</td>\n",
       "      <td>3</td>\n",
       "      <td>4</td>\n",
       "      <td>...</td>\n",
       "      <td>Heather</td>\n",
       "      <td>Myers</td>\n",
       "      <td>Female</td>\n",
       "      <td>Wisconsin</td>\n",
       "      <td>40</td>\n",
       "      <td>2/9/2020</td>\n",
       "      <td>3</td>\n",
       "      <td>married</td>\n",
       "      <td>31308</td>\n",
       "      <td>both</td>\n",
       "    </tr>\n",
       "  </tbody>\n",
       "</table>\n",
       "<p>5 rows × 30 columns</p>\n",
       "</div>"
      ],
      "text/plain": [
       "   Unnamed: 0  product_id                product_name  aisle_id  \\\n",
       "0           0           1  Chocolate Sandwich Cookies        61   \n",
       "1           0           1  Chocolate Sandwich Cookies        61   \n",
       "2           0           1  Chocolate Sandwich Cookies        61   \n",
       "3           0           1  Chocolate Sandwich Cookies        61   \n",
       "4           0           1  Chocolate Sandwich Cookies        61   \n",
       "\n",
       "   department_id  prices  order_id  user_id  order_number  order_dow  ...  \\\n",
       "0             19     5.8   3139998      138            28          6  ...   \n",
       "1             19     5.8   1977647      138            30          6  ...   \n",
       "2             19     5.8    389851      709             2          0  ...   \n",
       "3             19     5.8    652770      764             1          3  ...   \n",
       "4             19     5.8   1813452      764             3          4  ...   \n",
       "\n",
       "   first_name  last_name  gender      state  age date_joined  n_dependants  \\\n",
       "0     Charles        Cox    Male  Minnesota   81    8/1/2019             1   \n",
       "1     Charles        Cox    Male  Minnesota   81    8/1/2019             1   \n",
       "2     Deborah      Glass  Female    Vermont   66   6/16/2018             2   \n",
       "3     Heather      Myers  Female  Wisconsin   40    2/9/2020             3   \n",
       "4     Heather      Myers  Female  Wisconsin   40    2/9/2020             3   \n",
       "\n",
       "  marital_status  income _merge  \n",
       "0        married   49620   both  \n",
       "1        married   49620   both  \n",
       "2        married  158302   both  \n",
       "3        married   31308   both  \n",
       "4        married   31308   both  \n",
       "\n",
       "[5 rows x 30 columns]"
      ]
     },
     "execution_count": 4,
     "metadata": {},
     "output_type": "execute_result"
    }
   ],
   "source": [
    "# checking DF data\n",
    "\n",
    "df_total.head(5)"
   ]
  },
  {
   "cell_type": "markdown",
   "id": "199fff69-c29f-4e41-95e2-6b78d0cb7379",
   "metadata": {},
   "source": [
    "# QUESTION 2. PII"
   ]
  },
  {
   "cell_type": "markdown",
   "id": "889f5805-c81c-46fd-b063-51c8392f6568",
   "metadata": {},
   "source": [
    "**NOTE**:As part of the data set we have some personal information (PII) such us First and Last name and gender that will need to be addressed to keep data privacy regulation in the European Union that governs the storage, usage, and sharing of data. However, before doing so this will need to be checked a collegue or the client to double check the correct approach to this. *For this exercise I am not removing any information from the DF*."
   ]
  },
  {
   "cell_type": "markdown",
   "id": "d8e0b9ba-2732-4b58-b172-49c9c51d7829",
   "metadata": {},
   "source": [
    "# QUESTION 3. CREATE 'REGION' COLUMN AND ANALYSE CUSTOMER SPENDING BEHAVIOUR"
   ]
  },
  {
   "cell_type": "code",
   "execution_count": 5,
   "id": "b46f547f-5a9e-4710-80d5-71f5d6369fcd",
   "metadata": {},
   "outputs": [],
   "source": [
    "# Define regions based on states\n",
    "\n",
    "northeast_states = [\n",
    "    'Maine', 'New Hampshire', 'Vermont', 'Massachusetts',\n",
    "    'Rhode Island', 'Connecticut', 'New York', 'Pennsylvania', 'New Jersey'\n",
    "]\n",
    "midwest_states = [\n",
    "    'Ohio', 'Michigan', 'Indiana', 'Illinois', 'Wisconsin', 'Minnesota',\n",
    "    'Iowa', 'Missouri', 'North Dakota', 'South Dakota', 'Nebraska', 'Kansas'\n",
    "]\n",
    "south_states = [\n",
    "    'Delaware', 'Maryland', 'District of Columbia', 'Virginia', 'West Virginia',\n",
    "    'North Carolina', 'South Carolina', 'Georgia', 'Florida', 'Kentucky',\n",
    "    'Tennessee', 'Mississippi', 'Alabama', 'Oklahoma', 'Texas', 'Arkansas',\n",
    "    'Louisiana'\n",
    "]\n",
    "west_states = [\n",
    "    'Idaho', 'Montana', 'Wyoming', 'Colorado', 'New Mexico', 'Arizona', 'Utah',\n",
    "    'Nevada', 'Washington', 'Oregon', 'California', 'Alaska', 'Hawaii'\n",
    "]"
   ]
  },
  {
   "cell_type": "code",
   "execution_count": 6,
   "id": "cd7cf502-2da6-4a24-8071-3b9857b0cd7a",
   "metadata": {},
   "outputs": [],
   "source": [
    "# Create the 'Region' column\n",
    "\n",
    "df_total.loc[df_total['state'].isin(northeast_states), 'region'] = 'Northeast'\n",
    "df_total.loc[df_total['state'].isin(midwest_states), 'region'] = 'Midwest'\n",
    "df_total.loc[df_total['state'].isin(south_states), 'region'] = 'South'\n",
    "df_total.loc[df_total['state'].isin(west_states), 'region'] = 'West'"
   ]
  },
  {
   "cell_type": "code",
   "execution_count": 7,
   "id": "c7095b5f-9a97-40de-b6c3-aa25aa95a8db",
   "metadata": {},
   "outputs": [
    {
     "data": {
      "text/html": [
       "<div>\n",
       "<style scoped>\n",
       "    .dataframe tbody tr th:only-of-type {\n",
       "        vertical-align: middle;\n",
       "    }\n",
       "\n",
       "    .dataframe tbody tr th {\n",
       "        vertical-align: top;\n",
       "    }\n",
       "\n",
       "    .dataframe thead th {\n",
       "        text-align: right;\n",
       "    }\n",
       "</style>\n",
       "<table border=\"1\" class=\"dataframe\">\n",
       "  <thead>\n",
       "    <tr style=\"text-align: right;\">\n",
       "      <th></th>\n",
       "      <th>Unnamed: 0</th>\n",
       "      <th>product_id</th>\n",
       "      <th>product_name</th>\n",
       "      <th>aisle_id</th>\n",
       "      <th>department_id</th>\n",
       "      <th>prices</th>\n",
       "      <th>order_id</th>\n",
       "      <th>user_id</th>\n",
       "      <th>order_number</th>\n",
       "      <th>order_dow</th>\n",
       "      <th>...</th>\n",
       "      <th>last_name</th>\n",
       "      <th>gender</th>\n",
       "      <th>state</th>\n",
       "      <th>age</th>\n",
       "      <th>date_joined</th>\n",
       "      <th>n_dependants</th>\n",
       "      <th>marital_status</th>\n",
       "      <th>income</th>\n",
       "      <th>_merge</th>\n",
       "      <th>region</th>\n",
       "    </tr>\n",
       "  </thead>\n",
       "  <tbody>\n",
       "    <tr>\n",
       "      <th>0</th>\n",
       "      <td>0</td>\n",
       "      <td>1</td>\n",
       "      <td>Chocolate Sandwich Cookies</td>\n",
       "      <td>61</td>\n",
       "      <td>19</td>\n",
       "      <td>5.8</td>\n",
       "      <td>3139998</td>\n",
       "      <td>138</td>\n",
       "      <td>28</td>\n",
       "      <td>6</td>\n",
       "      <td>...</td>\n",
       "      <td>Cox</td>\n",
       "      <td>Male</td>\n",
       "      <td>Minnesota</td>\n",
       "      <td>81</td>\n",
       "      <td>8/1/2019</td>\n",
       "      <td>1</td>\n",
       "      <td>married</td>\n",
       "      <td>49620</td>\n",
       "      <td>both</td>\n",
       "      <td>Midwest</td>\n",
       "    </tr>\n",
       "    <tr>\n",
       "      <th>1</th>\n",
       "      <td>0</td>\n",
       "      <td>1</td>\n",
       "      <td>Chocolate Sandwich Cookies</td>\n",
       "      <td>61</td>\n",
       "      <td>19</td>\n",
       "      <td>5.8</td>\n",
       "      <td>1977647</td>\n",
       "      <td>138</td>\n",
       "      <td>30</td>\n",
       "      <td>6</td>\n",
       "      <td>...</td>\n",
       "      <td>Cox</td>\n",
       "      <td>Male</td>\n",
       "      <td>Minnesota</td>\n",
       "      <td>81</td>\n",
       "      <td>8/1/2019</td>\n",
       "      <td>1</td>\n",
       "      <td>married</td>\n",
       "      <td>49620</td>\n",
       "      <td>both</td>\n",
       "      <td>Midwest</td>\n",
       "    </tr>\n",
       "    <tr>\n",
       "      <th>2</th>\n",
       "      <td>0</td>\n",
       "      <td>1</td>\n",
       "      <td>Chocolate Sandwich Cookies</td>\n",
       "      <td>61</td>\n",
       "      <td>19</td>\n",
       "      <td>5.8</td>\n",
       "      <td>389851</td>\n",
       "      <td>709</td>\n",
       "      <td>2</td>\n",
       "      <td>0</td>\n",
       "      <td>...</td>\n",
       "      <td>Glass</td>\n",
       "      <td>Female</td>\n",
       "      <td>Vermont</td>\n",
       "      <td>66</td>\n",
       "      <td>6/16/2018</td>\n",
       "      <td>2</td>\n",
       "      <td>married</td>\n",
       "      <td>158302</td>\n",
       "      <td>both</td>\n",
       "      <td>Northeast</td>\n",
       "    </tr>\n",
       "    <tr>\n",
       "      <th>3</th>\n",
       "      <td>0</td>\n",
       "      <td>1</td>\n",
       "      <td>Chocolate Sandwich Cookies</td>\n",
       "      <td>61</td>\n",
       "      <td>19</td>\n",
       "      <td>5.8</td>\n",
       "      <td>652770</td>\n",
       "      <td>764</td>\n",
       "      <td>1</td>\n",
       "      <td>3</td>\n",
       "      <td>...</td>\n",
       "      <td>Myers</td>\n",
       "      <td>Female</td>\n",
       "      <td>Wisconsin</td>\n",
       "      <td>40</td>\n",
       "      <td>2/9/2020</td>\n",
       "      <td>3</td>\n",
       "      <td>married</td>\n",
       "      <td>31308</td>\n",
       "      <td>both</td>\n",
       "      <td>Midwest</td>\n",
       "    </tr>\n",
       "    <tr>\n",
       "      <th>4</th>\n",
       "      <td>0</td>\n",
       "      <td>1</td>\n",
       "      <td>Chocolate Sandwich Cookies</td>\n",
       "      <td>61</td>\n",
       "      <td>19</td>\n",
       "      <td>5.8</td>\n",
       "      <td>1813452</td>\n",
       "      <td>764</td>\n",
       "      <td>3</td>\n",
       "      <td>4</td>\n",
       "      <td>...</td>\n",
       "      <td>Myers</td>\n",
       "      <td>Female</td>\n",
       "      <td>Wisconsin</td>\n",
       "      <td>40</td>\n",
       "      <td>2/9/2020</td>\n",
       "      <td>3</td>\n",
       "      <td>married</td>\n",
       "      <td>31308</td>\n",
       "      <td>both</td>\n",
       "      <td>Midwest</td>\n",
       "    </tr>\n",
       "  </tbody>\n",
       "</table>\n",
       "<p>5 rows × 31 columns</p>\n",
       "</div>"
      ],
      "text/plain": [
       "   Unnamed: 0  product_id                product_name  aisle_id  \\\n",
       "0           0           1  Chocolate Sandwich Cookies        61   \n",
       "1           0           1  Chocolate Sandwich Cookies        61   \n",
       "2           0           1  Chocolate Sandwich Cookies        61   \n",
       "3           0           1  Chocolate Sandwich Cookies        61   \n",
       "4           0           1  Chocolate Sandwich Cookies        61   \n",
       "\n",
       "   department_id  prices  order_id  user_id  order_number  order_dow  ...  \\\n",
       "0             19     5.8   3139998      138            28          6  ...   \n",
       "1             19     5.8   1977647      138            30          6  ...   \n",
       "2             19     5.8    389851      709             2          0  ...   \n",
       "3             19     5.8    652770      764             1          3  ...   \n",
       "4             19     5.8   1813452      764             3          4  ...   \n",
       "\n",
       "   last_name  gender      state  age  date_joined n_dependants  \\\n",
       "0        Cox    Male  Minnesota   81     8/1/2019            1   \n",
       "1        Cox    Male  Minnesota   81     8/1/2019            1   \n",
       "2      Glass  Female    Vermont   66    6/16/2018            2   \n",
       "3      Myers  Female  Wisconsin   40     2/9/2020            3   \n",
       "4      Myers  Female  Wisconsin   40     2/9/2020            3   \n",
       "\n",
       "   marital_status  income  _merge     region  \n",
       "0         married   49620    both    Midwest  \n",
       "1         married   49620    both    Midwest  \n",
       "2         married  158302    both  Northeast  \n",
       "3         married   31308    both    Midwest  \n",
       "4         married   31308    both    Midwest  \n",
       "\n",
       "[5 rows x 31 columns]"
      ]
     },
     "execution_count": 7,
     "metadata": {},
     "output_type": "execute_result"
    }
   ],
   "source": [
    "#Checking the creation of the new column 'region'\n",
    "\n",
    "df_total.head(5)"
   ]
  },
  {
   "cell_type": "code",
   "execution_count": 8,
   "id": "c3ae07a2-1f5b-4766-8a0d-b17d7ad5685f",
   "metadata": {},
   "outputs": [
    {
     "data": {
      "text/plain": [
       "region\n",
       "South        10791885\n",
       "West          8292913\n",
       "Midwest       7597325\n",
       "Northeast     5722736\n",
       "Name: count, dtype: int64"
      ]
     },
     "execution_count": 8,
     "metadata": {},
     "output_type": "execute_result"
    }
   ],
   "source": [
    "# Checking region data number\n",
    "\n",
    "df_total['region'].value_counts(dropna = False)"
   ]
  },
  {
   "cell_type": "code",
   "execution_count": 9,
   "id": "51da9e71-c46a-4da0-98ed-6dd673dc191c",
   "metadata": {},
   "outputs": [],
   "source": [
    "#Create a crossbar \n",
    "\n",
    "Region_spending_flag = pd.crosstab(df_total['region'],df_total['spending_flag'], dropna = False)"
   ]
  },
  {
   "cell_type": "code",
   "execution_count": 10,
   "id": "93cda5af-e2c9-499d-beb8-eed8f11f4f9f",
   "metadata": {},
   "outputs": [
    {
     "data": {
      "text/html": [
       "<div>\n",
       "<style scoped>\n",
       "    .dataframe tbody tr th:only-of-type {\n",
       "        vertical-align: middle;\n",
       "    }\n",
       "\n",
       "    .dataframe tbody tr th {\n",
       "        vertical-align: top;\n",
       "    }\n",
       "\n",
       "    .dataframe thead th {\n",
       "        text-align: right;\n",
       "    }\n",
       "</style>\n",
       "<table border=\"1\" class=\"dataframe\">\n",
       "  <thead>\n",
       "    <tr style=\"text-align: right;\">\n",
       "      <th>spending_flag</th>\n",
       "      <th>High spender</th>\n",
       "      <th>Low spender</th>\n",
       "    </tr>\n",
       "    <tr>\n",
       "      <th>region</th>\n",
       "      <th></th>\n",
       "      <th></th>\n",
       "    </tr>\n",
       "  </thead>\n",
       "  <tbody>\n",
       "    <tr>\n",
       "      <th>Midwest</th>\n",
       "      <td>155975</td>\n",
       "      <td>7441350</td>\n",
       "    </tr>\n",
       "    <tr>\n",
       "      <th>Northeast</th>\n",
       "      <td>108225</td>\n",
       "      <td>5614511</td>\n",
       "    </tr>\n",
       "    <tr>\n",
       "      <th>South</th>\n",
       "      <td>209691</td>\n",
       "      <td>10582194</td>\n",
       "    </tr>\n",
       "    <tr>\n",
       "      <th>West</th>\n",
       "      <td>160354</td>\n",
       "      <td>8132559</td>\n",
       "    </tr>\n",
       "  </tbody>\n",
       "</table>\n",
       "</div>"
      ],
      "text/plain": [
       "spending_flag  High spender  Low spender\n",
       "region                                  \n",
       "Midwest              155975      7441350\n",
       "Northeast            108225      5614511\n",
       "South                209691     10582194\n",
       "West                 160354      8132559"
      ]
     },
     "execution_count": 10,
     "metadata": {},
     "output_type": "execute_result"
    }
   ],
   "source": [
    "#Checking data from Region_spending _flag\n",
    "\n",
    "Region_spending_flag"
   ]
  },
  {
   "cell_type": "markdown",
   "id": "94a2639d-09e4-4787-bc48-43a1ccc3716b",
   "metadata": {},
   "source": [
    "**NOTE**:\r\n",
    "**\r\n",
    "The South regi**on has the highest number of both high spenders (209,691) and low spenders (10,582,194), indicating it has the largest customer base**.\r\n",
    "The Northeast reg**ion has the fewest high spenders (108,225) and low spenders (5,614,511), indicating it has the smallest customer base.\r\n",
    "\r\n",
    "In all regions, the number of low spenders significantly outweighs the number of high spenders.\r\n",
    "The ratio of high spenders to low spenders is roughly consistent across the regions.\r\n",
    "\r\n",
    "Marketing efforts could be tailored to regions with fewer high spenders to potentially increase their n*umbers.\r\n",
    "Further analysis might be needed to understand the factors contributing to high spending in ea*ch region."
   ]
  },
  {
   "cell_type": "code",
   "execution_count": 11,
   "id": "ac88dcfb-0a31-4b0f-a17e-29984b0af9e5",
   "metadata": {},
   "outputs": [],
   "source": [
    "# Creating crosstab for data visualization\n",
    "\n",
    "crosstab = pd.crosstab(df_total['region'], df_total['spending_flag'], dropna = False)"
   ]
  },
  {
   "cell_type": "code",
   "execution_count": 12,
   "id": "b7c47896-1c48-40ba-97e1-c414da2d50a7",
   "metadata": {},
   "outputs": [
    {
     "data": {
      "image/png": "[encoded data removed]",
      "text/plain": [
       "<Figure size 640x480 with 1 Axes>"
      ]
     },
     "metadata": {},
     "output_type": "display_data"
    }
   ],
   "source": [
    "Bar3 = crosstab.plot(kind = 'bar')"
   ]
  },
  {
   "cell_type": "markdown",
   "id": "2ce19b84-278b-4032-aac6-220000a6ed57",
   "metadata": {},
   "source": [
    "# QUESTION 4. CREATE EXCLUSION FLAG FOR LOW ACTIVITY CUSTOMERS"
   ]
  },
  {
   "cell_type": "code",
   "execution_count": 13,
   "id": "af29889e-cc5d-4ef3-bfc6-5cf064ec0116",
   "metadata": {},
   "outputs": [],
   "source": [
    "#Create an exlcusion flag based on users orders (<5 to exlude and > 5 include)\n",
    "\n",
    "df_total.loc[df_total['max_order'] < 5, 'exclusion_flag'] = 'Exclude'\n",
    "df_total.loc[df_total['max_order'] >= 5, 'exclusion_flag'] = 'Include'\n"
   ]
  },
  {
   "cell_type": "code",
   "execution_count": 14,
   "id": "4d2b89d2-21b1-4d32-b498-362978b8e516",
   "metadata": {},
   "outputs": [
    {
     "data": {
      "text/html": [
       "<div>\n",
       "<style scoped>\n",
       "    .dataframe tbody tr th:only-of-type {\n",
       "        vertical-align: middle;\n",
       "    }\n",
       "\n",
       "    .dataframe tbody tr th {\n",
       "        vertical-align: top;\n",
       "    }\n",
       "\n",
       "    .dataframe thead th {\n",
       "        text-align: right;\n",
       "    }\n",
       "</style>\n",
       "<table border=\"1\" class=\"dataframe\">\n",
       "  <thead>\n",
       "    <tr style=\"text-align: right;\">\n",
       "      <th></th>\n",
       "      <th>Unnamed: 0</th>\n",
       "      <th>product_id</th>\n",
       "      <th>product_name</th>\n",
       "      <th>aisle_id</th>\n",
       "      <th>department_id</th>\n",
       "      <th>prices</th>\n",
       "      <th>order_id</th>\n",
       "      <th>user_id</th>\n",
       "      <th>order_number</th>\n",
       "      <th>order_dow</th>\n",
       "      <th>...</th>\n",
       "      <th>gender</th>\n",
       "      <th>state</th>\n",
       "      <th>age</th>\n",
       "      <th>date_joined</th>\n",
       "      <th>n_dependants</th>\n",
       "      <th>marital_status</th>\n",
       "      <th>income</th>\n",
       "      <th>_merge</th>\n",
       "      <th>region</th>\n",
       "      <th>exclusion_flag</th>\n",
       "    </tr>\n",
       "  </thead>\n",
       "  <tbody>\n",
       "    <tr>\n",
       "      <th>0</th>\n",
       "      <td>0</td>\n",
       "      <td>1</td>\n",
       "      <td>Chocolate Sandwich Cookies</td>\n",
       "      <td>61</td>\n",
       "      <td>19</td>\n",
       "      <td>5.8</td>\n",
       "      <td>3139998</td>\n",
       "      <td>138</td>\n",
       "      <td>28</td>\n",
       "      <td>6</td>\n",
       "      <td>...</td>\n",
       "      <td>Male</td>\n",
       "      <td>Minnesota</td>\n",
       "      <td>81</td>\n",
       "      <td>8/1/2019</td>\n",
       "      <td>1</td>\n",
       "      <td>married</td>\n",
       "      <td>49620</td>\n",
       "      <td>both</td>\n",
       "      <td>Midwest</td>\n",
       "      <td>Include</td>\n",
       "    </tr>\n",
       "    <tr>\n",
       "      <th>1</th>\n",
       "      <td>0</td>\n",
       "      <td>1</td>\n",
       "      <td>Chocolate Sandwich Cookies</td>\n",
       "      <td>61</td>\n",
       "      <td>19</td>\n",
       "      <td>5.8</td>\n",
       "      <td>1977647</td>\n",
       "      <td>138</td>\n",
       "      <td>30</td>\n",
       "      <td>6</td>\n",
       "      <td>...</td>\n",
       "      <td>Male</td>\n",
       "      <td>Minnesota</td>\n",
       "      <td>81</td>\n",
       "      <td>8/1/2019</td>\n",
       "      <td>1</td>\n",
       "      <td>married</td>\n",
       "      <td>49620</td>\n",
       "      <td>both</td>\n",
       "      <td>Midwest</td>\n",
       "      <td>Include</td>\n",
       "    </tr>\n",
       "    <tr>\n",
       "      <th>2</th>\n",
       "      <td>0</td>\n",
       "      <td>1</td>\n",
       "      <td>Chocolate Sandwich Cookies</td>\n",
       "      <td>61</td>\n",
       "      <td>19</td>\n",
       "      <td>5.8</td>\n",
       "      <td>389851</td>\n",
       "      <td>709</td>\n",
       "      <td>2</td>\n",
       "      <td>0</td>\n",
       "      <td>...</td>\n",
       "      <td>Female</td>\n",
       "      <td>Vermont</td>\n",
       "      <td>66</td>\n",
       "      <td>6/16/2018</td>\n",
       "      <td>2</td>\n",
       "      <td>married</td>\n",
       "      <td>158302</td>\n",
       "      <td>both</td>\n",
       "      <td>Northeast</td>\n",
       "      <td>Include</td>\n",
       "    </tr>\n",
       "    <tr>\n",
       "      <th>3</th>\n",
       "      <td>0</td>\n",
       "      <td>1</td>\n",
       "      <td>Chocolate Sandwich Cookies</td>\n",
       "      <td>61</td>\n",
       "      <td>19</td>\n",
       "      <td>5.8</td>\n",
       "      <td>652770</td>\n",
       "      <td>764</td>\n",
       "      <td>1</td>\n",
       "      <td>3</td>\n",
       "      <td>...</td>\n",
       "      <td>Female</td>\n",
       "      <td>Wisconsin</td>\n",
       "      <td>40</td>\n",
       "      <td>2/9/2020</td>\n",
       "      <td>3</td>\n",
       "      <td>married</td>\n",
       "      <td>31308</td>\n",
       "      <td>both</td>\n",
       "      <td>Midwest</td>\n",
       "      <td>Exclude</td>\n",
       "    </tr>\n",
       "    <tr>\n",
       "      <th>4</th>\n",
       "      <td>0</td>\n",
       "      <td>1</td>\n",
       "      <td>Chocolate Sandwich Cookies</td>\n",
       "      <td>61</td>\n",
       "      <td>19</td>\n",
       "      <td>5.8</td>\n",
       "      <td>1813452</td>\n",
       "      <td>764</td>\n",
       "      <td>3</td>\n",
       "      <td>4</td>\n",
       "      <td>...</td>\n",
       "      <td>Female</td>\n",
       "      <td>Wisconsin</td>\n",
       "      <td>40</td>\n",
       "      <td>2/9/2020</td>\n",
       "      <td>3</td>\n",
       "      <td>married</td>\n",
       "      <td>31308</td>\n",
       "      <td>both</td>\n",
       "      <td>Midwest</td>\n",
       "      <td>Exclude</td>\n",
       "    </tr>\n",
       "  </tbody>\n",
       "</table>\n",
       "<p>5 rows × 32 columns</p>\n",
       "</div>"
      ],
      "text/plain": [
       "   Unnamed: 0  product_id                product_name  aisle_id  \\\n",
       "0           0           1  Chocolate Sandwich Cookies        61   \n",
       "1           0           1  Chocolate Sandwich Cookies        61   \n",
       "2           0           1  Chocolate Sandwich Cookies        61   \n",
       "3           0           1  Chocolate Sandwich Cookies        61   \n",
       "4           0           1  Chocolate Sandwich Cookies        61   \n",
       "\n",
       "   department_id  prices  order_id  user_id  order_number  order_dow  ...  \\\n",
       "0             19     5.8   3139998      138            28          6  ...   \n",
       "1             19     5.8   1977647      138            30          6  ...   \n",
       "2             19     5.8    389851      709             2          0  ...   \n",
       "3             19     5.8    652770      764             1          3  ...   \n",
       "4             19     5.8   1813452      764             3          4  ...   \n",
       "\n",
       "   gender      state  age  date_joined  n_dependants marital_status  income  \\\n",
       "0    Male  Minnesota   81     8/1/2019             1        married   49620   \n",
       "1    Male  Minnesota   81     8/1/2019             1        married   49620   \n",
       "2  Female    Vermont   66    6/16/2018             2        married  158302   \n",
       "3  Female  Wisconsin   40     2/9/2020             3        married   31308   \n",
       "4  Female  Wisconsin   40     2/9/2020             3        married   31308   \n",
       "\n",
       "  _merge     region exclusion_flag  \n",
       "0   both    Midwest        Include  \n",
       "1   both    Midwest        Include  \n",
       "2   both  Northeast        Include  \n",
       "3   both    Midwest        Exclude  \n",
       "4   both    Midwest        Exclude  \n",
       "\n",
       "[5 rows x 32 columns]"
      ]
     },
     "execution_count": 14,
     "metadata": {},
     "output_type": "execute_result"
    }
   ],
   "source": [
    "#Checking creation of exclusion flag\n",
    "\n",
    "df_total.head()"
   ]
  },
  {
   "cell_type": "code",
   "execution_count": 15,
   "id": "65e5cc8a-5543-4ec7-ad45-b89a6dfbcb51",
   "metadata": {},
   "outputs": [
    {
     "data": {
      "text/plain": [
       "exclusion_flag\n",
       "Include    30964564\n",
       "Exclude     1440295\n",
       "Name: count, dtype: int64"
      ]
     },
     "execution_count": 15,
     "metadata": {},
     "output_type": "execute_result"
    }
   ],
   "source": [
    "# Creating a sample with the 'include' data. This DF will show the activity of the highly engaged customers (CS purchasing over 5 orders)\n",
    "\n",
    "# 1. counting the number of records under the exclusion flag\n",
    "\n",
    "df_total['exclusion_flag'].value_counts(dropna = False)"
   ]
  },
  {
   "cell_type": "markdown",
   "id": "3d975add-bca1-4744-b6e3-95d80a8bc664",
   "metadata": {},
   "source": [
    "**NOTE**: there will be 1,440,295 records removed"
   ]
  },
  {
   "cell_type": "code",
   "execution_count": 16,
   "id": "2bcebdd5-85b7-4bfa-a831-fbbb5e2dbc5a",
   "metadata": {},
   "outputs": [],
   "source": [
    "# 2. Creating a new DF df_total_high_act that will only contain the data from the 'include' column ( CS purchasing over 5 orders)\n",
    "\n",
    "df_total_high_act = df_total[df_total['exclusion_flag'] == 'Include']"
   ]
  },
  {
   "cell_type": "code",
   "execution_count": 17,
   "id": "463196c7-e4fa-4412-8df8-9ea3025b452b",
   "metadata": {},
   "outputs": [
    {
     "data": {
      "text/plain": [
       "(30964564, 32)"
      ]
     },
     "execution_count": 17,
     "metadata": {},
     "output_type": "execute_result"
    }
   ],
   "source": [
    "# checking data from new DF \n",
    "\n",
    "df_total_high_act.shape"
   ]
  },
  {
   "cell_type": "code",
   "execution_count": 18,
   "id": "036a2b74-296f-4bd2-b69b-a109a5ceced8",
   "metadata": {},
   "outputs": [],
   "source": [
    "# Exporting DF as pickle\n",
    "\n",
    "df_total_high_act.to_pickle(os.path.join(path, '02 Data', 'Prepared data', 'df_total_high_act.pkl'))"
   ]
  },
  {
   "cell_type": "markdown",
   "id": "ffc86326-5242-4972-a31b-d3d025ebdd97",
   "metadata": {},
   "source": [
    "# QUESTION 5. "
   ]
  },
  {
   "cell_type": "code",
   "execution_count": 19,
   "id": "5a938e53-2295-41d5-9ebe-586080870ef1",
   "metadata": {},
   "outputs": [],
   "source": [
    "# import newly created DF with highly engaged customers\n",
    "\n",
    "df_total_high_act=pd.read_pickle(os.path.join(path, '02 Data', 'Prepared data', 'df_total_high_act.pkl'))"
   ]
  },
  {
   "cell_type": "code",
   "execution_count": 20,
   "id": "507a58ec-f4fa-4978-8aaf-e4213579f33f",
   "metadata": {},
   "outputs": [
    {
     "data": {
      "text/html": [
       "<div>\n",
       "<style scoped>\n",
       "    .dataframe tbody tr th:only-of-type {\n",
       "        vertical-align: middle;\n",
       "    }\n",
       "\n",
       "    .dataframe tbody tr th {\n",
       "        vertical-align: top;\n",
       "    }\n",
       "\n",
       "    .dataframe thead th {\n",
       "        text-align: right;\n",
       "    }\n",
       "</style>\n",
       "<table border=\"1\" class=\"dataframe\">\n",
       "  <thead>\n",
       "    <tr style=\"text-align: right;\">\n",
       "      <th></th>\n",
       "      <th>Unnamed: 0</th>\n",
       "      <th>product_id</th>\n",
       "      <th>product_name</th>\n",
       "      <th>aisle_id</th>\n",
       "      <th>department_id</th>\n",
       "      <th>prices</th>\n",
       "      <th>order_id</th>\n",
       "      <th>user_id</th>\n",
       "      <th>order_number</th>\n",
       "      <th>order_dow</th>\n",
       "      <th>...</th>\n",
       "      <th>gender</th>\n",
       "      <th>state</th>\n",
       "      <th>age</th>\n",
       "      <th>date_joined</th>\n",
       "      <th>n_dependants</th>\n",
       "      <th>marital_status</th>\n",
       "      <th>income</th>\n",
       "      <th>_merge</th>\n",
       "      <th>region</th>\n",
       "      <th>exclusion_flag</th>\n",
       "    </tr>\n",
       "  </thead>\n",
       "  <tbody>\n",
       "    <tr>\n",
       "      <th>0</th>\n",
       "      <td>0</td>\n",
       "      <td>1</td>\n",
       "      <td>Chocolate Sandwich Cookies</td>\n",
       "      <td>61</td>\n",
       "      <td>19</td>\n",
       "      <td>5.8</td>\n",
       "      <td>3139998</td>\n",
       "      <td>138</td>\n",
       "      <td>28</td>\n",
       "      <td>6</td>\n",
       "      <td>...</td>\n",
       "      <td>Male</td>\n",
       "      <td>Minnesota</td>\n",
       "      <td>81</td>\n",
       "      <td>8/1/2019</td>\n",
       "      <td>1</td>\n",
       "      <td>married</td>\n",
       "      <td>49620</td>\n",
       "      <td>both</td>\n",
       "      <td>Midwest</td>\n",
       "      <td>Include</td>\n",
       "    </tr>\n",
       "    <tr>\n",
       "      <th>1</th>\n",
       "      <td>0</td>\n",
       "      <td>1</td>\n",
       "      <td>Chocolate Sandwich Cookies</td>\n",
       "      <td>61</td>\n",
       "      <td>19</td>\n",
       "      <td>5.8</td>\n",
       "      <td>1977647</td>\n",
       "      <td>138</td>\n",
       "      <td>30</td>\n",
       "      <td>6</td>\n",
       "      <td>...</td>\n",
       "      <td>Male</td>\n",
       "      <td>Minnesota</td>\n",
       "      <td>81</td>\n",
       "      <td>8/1/2019</td>\n",
       "      <td>1</td>\n",
       "      <td>married</td>\n",
       "      <td>49620</td>\n",
       "      <td>both</td>\n",
       "      <td>Midwest</td>\n",
       "      <td>Include</td>\n",
       "    </tr>\n",
       "    <tr>\n",
       "      <th>2</th>\n",
       "      <td>0</td>\n",
       "      <td>1</td>\n",
       "      <td>Chocolate Sandwich Cookies</td>\n",
       "      <td>61</td>\n",
       "      <td>19</td>\n",
       "      <td>5.8</td>\n",
       "      <td>389851</td>\n",
       "      <td>709</td>\n",
       "      <td>2</td>\n",
       "      <td>0</td>\n",
       "      <td>...</td>\n",
       "      <td>Female</td>\n",
       "      <td>Vermont</td>\n",
       "      <td>66</td>\n",
       "      <td>6/16/2018</td>\n",
       "      <td>2</td>\n",
       "      <td>married</td>\n",
       "      <td>158302</td>\n",
       "      <td>both</td>\n",
       "      <td>Northeast</td>\n",
       "      <td>Include</td>\n",
       "    </tr>\n",
       "    <tr>\n",
       "      <th>5</th>\n",
       "      <td>0</td>\n",
       "      <td>1</td>\n",
       "      <td>Chocolate Sandwich Cookies</td>\n",
       "      <td>61</td>\n",
       "      <td>19</td>\n",
       "      <td>5.8</td>\n",
       "      <td>1701441</td>\n",
       "      <td>777</td>\n",
       "      <td>16</td>\n",
       "      <td>1</td>\n",
       "      <td>...</td>\n",
       "      <td>Female</td>\n",
       "      <td>Hawaii</td>\n",
       "      <td>51</td>\n",
       "      <td>1/4/2019</td>\n",
       "      <td>2</td>\n",
       "      <td>married</td>\n",
       "      <td>57797</td>\n",
       "      <td>both</td>\n",
       "      <td>West</td>\n",
       "      <td>Include</td>\n",
       "    </tr>\n",
       "    <tr>\n",
       "      <th>6</th>\n",
       "      <td>0</td>\n",
       "      <td>1</td>\n",
       "      <td>Chocolate Sandwich Cookies</td>\n",
       "      <td>61</td>\n",
       "      <td>19</td>\n",
       "      <td>5.8</td>\n",
       "      <td>1871483</td>\n",
       "      <td>825</td>\n",
       "      <td>3</td>\n",
       "      <td>2</td>\n",
       "      <td>...</td>\n",
       "      <td>Male</td>\n",
       "      <td>District of Columbia</td>\n",
       "      <td>20</td>\n",
       "      <td>5/8/2019</td>\n",
       "      <td>3</td>\n",
       "      <td>living with parents and siblings</td>\n",
       "      <td>34171</td>\n",
       "      <td>both</td>\n",
       "      <td>South</td>\n",
       "      <td>Include</td>\n",
       "    </tr>\n",
       "  </tbody>\n",
       "</table>\n",
       "<p>5 rows × 32 columns</p>\n",
       "</div>"
      ],
      "text/plain": [
       "   Unnamed: 0  product_id                product_name  aisle_id  \\\n",
       "0           0           1  Chocolate Sandwich Cookies        61   \n",
       "1           0           1  Chocolate Sandwich Cookies        61   \n",
       "2           0           1  Chocolate Sandwich Cookies        61   \n",
       "5           0           1  Chocolate Sandwich Cookies        61   \n",
       "6           0           1  Chocolate Sandwich Cookies        61   \n",
       "\n",
       "   department_id  prices  order_id  user_id  order_number  order_dow  ...  \\\n",
       "0             19     5.8   3139998      138            28          6  ...   \n",
       "1             19     5.8   1977647      138            30          6  ...   \n",
       "2             19     5.8    389851      709             2          0  ...   \n",
       "5             19     5.8   1701441      777            16          1  ...   \n",
       "6             19     5.8   1871483      825             3          2  ...   \n",
       "\n",
       "   gender                 state  age  date_joined  n_dependants  \\\n",
       "0    Male             Minnesota   81     8/1/2019             1   \n",
       "1    Male             Minnesota   81     8/1/2019             1   \n",
       "2  Female               Vermont   66    6/16/2018             2   \n",
       "5  Female                Hawaii   51     1/4/2019             2   \n",
       "6    Male  District of Columbia   20     5/8/2019             3   \n",
       "\n",
       "                     marital_status  income _merge     region exclusion_flag  \n",
       "0                           married   49620   both    Midwest        Include  \n",
       "1                           married   49620   both    Midwest        Include  \n",
       "2                           married  158302   both  Northeast        Include  \n",
       "5                           married   57797   both       West        Include  \n",
       "6  living with parents and siblings   34171   both      South        Include  \n",
       "\n",
       "[5 rows x 32 columns]"
      ]
     },
     "execution_count": 20,
     "metadata": {},
     "output_type": "execute_result"
    }
   ],
   "source": [
    "# Checking DF data\n",
    "\n",
    "df_total_high_act.head()"
   ]
  },
  {
   "cell_type": "code",
   "execution_count": 21,
   "id": "c849caf2-f35a-43a5-b4f0-9315137a20fe",
   "metadata": {},
   "outputs": [],
   "source": [
    "# Create a profiling variable based on age, income, certain goods in the “department_id” column, and number of dependents.\n",
    "\n",
    "#1. Profiling based on age. \n",
    "\n",
    "df_total_high_act.loc[df_total_high_act['age'] <= 20, 'age_group'] = 'Young '\n",
    "df_total_high_act.loc[(df_total_high_act['age'] > 20) & (df_total_high_act['age'] <= 30), 'age_group'] = 'Young- Adult'\n",
    "df_total_high_act.loc[(df_total_high_act['age'] > 30) & (df_total_high_act['age'] <= 60), 'age_group'] = 'Middle-aged Adult'\n",
    "df_total_high_act.loc[df_total_high_act['age'] > 60, 'age_group'] = 'Senior'"
   ]
  },
  {
   "cell_type": "code",
   "execution_count": 22,
   "id": "436371be-e678-40d9-bba1-b586ad747017",
   "metadata": {},
   "outputs": [
    {
     "data": {
      "text/html": [
       "<div>\n",
       "<style scoped>\n",
       "    .dataframe tbody tr th:only-of-type {\n",
       "        vertical-align: middle;\n",
       "    }\n",
       "\n",
       "    .dataframe tbody tr th {\n",
       "        vertical-align: top;\n",
       "    }\n",
       "\n",
       "    .dataframe thead th {\n",
       "        text-align: right;\n",
       "    }\n",
       "</style>\n",
       "<table border=\"1\" class=\"dataframe\">\n",
       "  <thead>\n",
       "    <tr style=\"text-align: right;\">\n",
       "      <th></th>\n",
       "      <th>Unnamed: 0</th>\n",
       "      <th>product_id</th>\n",
       "      <th>product_name</th>\n",
       "      <th>aisle_id</th>\n",
       "      <th>department_id</th>\n",
       "      <th>prices</th>\n",
       "      <th>order_id</th>\n",
       "      <th>user_id</th>\n",
       "      <th>order_number</th>\n",
       "      <th>order_dow</th>\n",
       "      <th>...</th>\n",
       "      <th>state</th>\n",
       "      <th>age</th>\n",
       "      <th>date_joined</th>\n",
       "      <th>n_dependants</th>\n",
       "      <th>marital_status</th>\n",
       "      <th>income</th>\n",
       "      <th>_merge</th>\n",
       "      <th>region</th>\n",
       "      <th>exclusion_flag</th>\n",
       "      <th>age_group</th>\n",
       "    </tr>\n",
       "  </thead>\n",
       "  <tbody>\n",
       "    <tr>\n",
       "      <th>0</th>\n",
       "      <td>0</td>\n",
       "      <td>1</td>\n",
       "      <td>Chocolate Sandwich Cookies</td>\n",
       "      <td>61</td>\n",
       "      <td>19</td>\n",
       "      <td>5.8</td>\n",
       "      <td>3139998</td>\n",
       "      <td>138</td>\n",
       "      <td>28</td>\n",
       "      <td>6</td>\n",
       "      <td>...</td>\n",
       "      <td>Minnesota</td>\n",
       "      <td>81</td>\n",
       "      <td>8/1/2019</td>\n",
       "      <td>1</td>\n",
       "      <td>married</td>\n",
       "      <td>49620</td>\n",
       "      <td>both</td>\n",
       "      <td>Midwest</td>\n",
       "      <td>Include</td>\n",
       "      <td>Senior</td>\n",
       "    </tr>\n",
       "    <tr>\n",
       "      <th>1</th>\n",
       "      <td>0</td>\n",
       "      <td>1</td>\n",
       "      <td>Chocolate Sandwich Cookies</td>\n",
       "      <td>61</td>\n",
       "      <td>19</td>\n",
       "      <td>5.8</td>\n",
       "      <td>1977647</td>\n",
       "      <td>138</td>\n",
       "      <td>30</td>\n",
       "      <td>6</td>\n",
       "      <td>...</td>\n",
       "      <td>Minnesota</td>\n",
       "      <td>81</td>\n",
       "      <td>8/1/2019</td>\n",
       "      <td>1</td>\n",
       "      <td>married</td>\n",
       "      <td>49620</td>\n",
       "      <td>both</td>\n",
       "      <td>Midwest</td>\n",
       "      <td>Include</td>\n",
       "      <td>Senior</td>\n",
       "    </tr>\n",
       "    <tr>\n",
       "      <th>2</th>\n",
       "      <td>0</td>\n",
       "      <td>1</td>\n",
       "      <td>Chocolate Sandwich Cookies</td>\n",
       "      <td>61</td>\n",
       "      <td>19</td>\n",
       "      <td>5.8</td>\n",
       "      <td>389851</td>\n",
       "      <td>709</td>\n",
       "      <td>2</td>\n",
       "      <td>0</td>\n",
       "      <td>...</td>\n",
       "      <td>Vermont</td>\n",
       "      <td>66</td>\n",
       "      <td>6/16/2018</td>\n",
       "      <td>2</td>\n",
       "      <td>married</td>\n",
       "      <td>158302</td>\n",
       "      <td>both</td>\n",
       "      <td>Northeast</td>\n",
       "      <td>Include</td>\n",
       "      <td>Senior</td>\n",
       "    </tr>\n",
       "    <tr>\n",
       "      <th>5</th>\n",
       "      <td>0</td>\n",
       "      <td>1</td>\n",
       "      <td>Chocolate Sandwich Cookies</td>\n",
       "      <td>61</td>\n",
       "      <td>19</td>\n",
       "      <td>5.8</td>\n",
       "      <td>1701441</td>\n",
       "      <td>777</td>\n",
       "      <td>16</td>\n",
       "      <td>1</td>\n",
       "      <td>...</td>\n",
       "      <td>Hawaii</td>\n",
       "      <td>51</td>\n",
       "      <td>1/4/2019</td>\n",
       "      <td>2</td>\n",
       "      <td>married</td>\n",
       "      <td>57797</td>\n",
       "      <td>both</td>\n",
       "      <td>West</td>\n",
       "      <td>Include</td>\n",
       "      <td>Middle-aged Adult</td>\n",
       "    </tr>\n",
       "    <tr>\n",
       "      <th>6</th>\n",
       "      <td>0</td>\n",
       "      <td>1</td>\n",
       "      <td>Chocolate Sandwich Cookies</td>\n",
       "      <td>61</td>\n",
       "      <td>19</td>\n",
       "      <td>5.8</td>\n",
       "      <td>1871483</td>\n",
       "      <td>825</td>\n",
       "      <td>3</td>\n",
       "      <td>2</td>\n",
       "      <td>...</td>\n",
       "      <td>District of Columbia</td>\n",
       "      <td>20</td>\n",
       "      <td>5/8/2019</td>\n",
       "      <td>3</td>\n",
       "      <td>living with parents and siblings</td>\n",
       "      <td>34171</td>\n",
       "      <td>both</td>\n",
       "      <td>South</td>\n",
       "      <td>Include</td>\n",
       "      <td>Young</td>\n",
       "    </tr>\n",
       "  </tbody>\n",
       "</table>\n",
       "<p>5 rows × 33 columns</p>\n",
       "</div>"
      ],
      "text/plain": [
       "   Unnamed: 0  product_id                product_name  aisle_id  \\\n",
       "0           0           1  Chocolate Sandwich Cookies        61   \n",
       "1           0           1  Chocolate Sandwich Cookies        61   \n",
       "2           0           1  Chocolate Sandwich Cookies        61   \n",
       "5           0           1  Chocolate Sandwich Cookies        61   \n",
       "6           0           1  Chocolate Sandwich Cookies        61   \n",
       "\n",
       "   department_id  prices  order_id  user_id  order_number  order_dow  ...  \\\n",
       "0             19     5.8   3139998      138            28          6  ...   \n",
       "1             19     5.8   1977647      138            30          6  ...   \n",
       "2             19     5.8    389851      709             2          0  ...   \n",
       "5             19     5.8   1701441      777            16          1  ...   \n",
       "6             19     5.8   1871483      825             3          2  ...   \n",
       "\n",
       "                  state  age  date_joined  n_dependants  \\\n",
       "0             Minnesota   81     8/1/2019             1   \n",
       "1             Minnesota   81     8/1/2019             1   \n",
       "2               Vermont   66    6/16/2018             2   \n",
       "5                Hawaii   51     1/4/2019             2   \n",
       "6  District of Columbia   20     5/8/2019             3   \n",
       "\n",
       "                     marital_status  income  _merge     region  \\\n",
       "0                           married   49620    both    Midwest   \n",
       "1                           married   49620    both    Midwest   \n",
       "2                           married  158302    both  Northeast   \n",
       "5                           married   57797    both       West   \n",
       "6  living with parents and siblings   34171    both      South   \n",
       "\n",
       "   exclusion_flag          age_group  \n",
       "0         Include             Senior  \n",
       "1         Include             Senior  \n",
       "2         Include             Senior  \n",
       "5         Include  Middle-aged Adult  \n",
       "6         Include             Young   \n",
       "\n",
       "[5 rows x 33 columns]"
      ]
     },
     "execution_count": 22,
     "metadata": {},
     "output_type": "execute_result"
    }
   ],
   "source": [
    "# Checking creation of the new column 'age-group'\n",
    "\n",
    "df_total_high_act.head()"
   ]
  },
  {
   "cell_type": "code",
   "execution_count": 23,
   "id": "cbab44d3-88ce-4ed0-ae11-e5aa6dabbb96",
   "metadata": {},
   "outputs": [
    {
     "data": {
      "text/plain": [
       "age_group\n",
       "Middle-aged Adult    14547717\n",
       "Senior               10112607\n",
       "Young- Adult          4849512\n",
       "Young                 1454728\n",
       "Name: count, dtype: int64"
      ]
     },
     "execution_count": 23,
     "metadata": {},
     "output_type": "execute_result"
    }
   ],
   "source": [
    "# Counting data from new column 'age-group'\n",
    "\n",
    "df_total_high_act['age_group'].value_counts(dropna = False)"
   ]
  },
  {
   "cell_type": "markdown",
   "id": "71a3ddde-26b2-438c-9afd-1a673fcb8c51",
   "metadata": {},
   "source": [
    "**NOTE**: Middle-aged adult ( people between 30-60) is the group with the highest number of customers. Marketing strategies could focus more on middle-aged adults and seniors, as they represent the majority of the customer base. Consider campaigns that specifically cater to the needs and preferences of these age groups.\r\n",
    "*\r\n",
    "Market opportunities within younger demographi*cs."
   ]
  },
  {
   "cell_type": "code",
   "execution_count": 24,
   "id": "5d917968-3574-4294-a9fc-e385802d1f5a",
   "metadata": {},
   "outputs": [],
   "source": [
    "# checking min,max and mean from 'income'\n",
    "\n",
    "income_agg = df_total_high_act.agg({'income': ['mean', 'min', 'max']})"
   ]
  },
  {
   "cell_type": "code",
   "execution_count": 25,
   "id": "beb4e7ed-f618-4a5b-8e04-a719d088d7c8",
   "metadata": {},
   "outputs": [
    {
     "data": {
      "text/html": [
       "<div>\n",
       "<style scoped>\n",
       "    .dataframe tbody tr th:only-of-type {\n",
       "        vertical-align: middle;\n",
       "    }\n",
       "\n",
       "    .dataframe tbody tr th {\n",
       "        vertical-align: top;\n",
       "    }\n",
       "\n",
       "    .dataframe thead th {\n",
       "        text-align: right;\n",
       "    }\n",
       "</style>\n",
       "<table border=\"1\" class=\"dataframe\">\n",
       "  <thead>\n",
       "    <tr style=\"text-align: right;\">\n",
       "      <th></th>\n",
       "      <th>income</th>\n",
       "    </tr>\n",
       "  </thead>\n",
       "  <tbody>\n",
       "    <tr>\n",
       "      <th>mean</th>\n",
       "      <td>99675.865108</td>\n",
       "    </tr>\n",
       "    <tr>\n",
       "      <th>min</th>\n",
       "      <td>25903.000000</td>\n",
       "    </tr>\n",
       "    <tr>\n",
       "      <th>max</th>\n",
       "      <td>593901.000000</td>\n",
       "    </tr>\n",
       "  </tbody>\n",
       "</table>\n",
       "</div>"
      ],
      "text/plain": [
       "             income\n",
       "mean   99675.865108\n",
       "min    25903.000000\n",
       "max   593901.000000"
      ]
     },
     "execution_count": 25,
     "metadata": {},
     "output_type": "execute_result"
    }
   ],
   "source": [
    "# Checking data\n",
    "\n",
    "income_agg"
   ]
  },
  {
   "cell_type": "code",
   "execution_count": 26,
   "id": "20adeadb-d231-40a3-9d92-d477366be08a",
   "metadata": {},
   "outputs": [],
   "source": [
    "#2. Profiling based on income. Creating new column named 'income_group'\n",
    "\n",
    "df_total_high_act.loc[df_total_high_act['income'] <= 50000, 'income_group'] = 'Low income '\n",
    "df_total_high_act.loc[(df_total_high_act['income'] > 50000) & (df_total_high_act['income'] <= 100000), 'income_group'] = 'Mid income'\n",
    "df_total_high_act.loc[(df_total_high_act['income'] >100000) & (df_total_high_act['income'] <= 300000), 'income_group'] = 'Mid-High income'\n",
    "df_total_high_act.loc[df_total_high_act['income'] > 300000, 'income_group'] = 'High income'"
   ]
  },
  {
   "cell_type": "code",
   "execution_count": 27,
   "id": "f087dff5-f869-4927-8851-4ab3fefa9c81",
   "metadata": {},
   "outputs": [
    {
     "data": {
      "text/html": [
       "<div>\n",
       "<style scoped>\n",
       "    .dataframe tbody tr th:only-of-type {\n",
       "        vertical-align: middle;\n",
       "    }\n",
       "\n",
       "    .dataframe tbody tr th {\n",
       "        vertical-align: top;\n",
       "    }\n",
       "\n",
       "    .dataframe thead th {\n",
       "        text-align: right;\n",
       "    }\n",
       "</style>\n",
       "<table border=\"1\" class=\"dataframe\">\n",
       "  <thead>\n",
       "    <tr style=\"text-align: right;\">\n",
       "      <th></th>\n",
       "      <th>Unnamed: 0</th>\n",
       "      <th>product_id</th>\n",
       "      <th>product_name</th>\n",
       "      <th>aisle_id</th>\n",
       "      <th>department_id</th>\n",
       "      <th>prices</th>\n",
       "      <th>order_id</th>\n",
       "      <th>user_id</th>\n",
       "      <th>order_number</th>\n",
       "      <th>order_dow</th>\n",
       "      <th>...</th>\n",
       "      <th>age</th>\n",
       "      <th>date_joined</th>\n",
       "      <th>n_dependants</th>\n",
       "      <th>marital_status</th>\n",
       "      <th>income</th>\n",
       "      <th>_merge</th>\n",
       "      <th>region</th>\n",
       "      <th>exclusion_flag</th>\n",
       "      <th>age_group</th>\n",
       "      <th>income_group</th>\n",
       "    </tr>\n",
       "  </thead>\n",
       "  <tbody>\n",
       "    <tr>\n",
       "      <th>0</th>\n",
       "      <td>0</td>\n",
       "      <td>1</td>\n",
       "      <td>Chocolate Sandwich Cookies</td>\n",
       "      <td>61</td>\n",
       "      <td>19</td>\n",
       "      <td>5.8</td>\n",
       "      <td>3139998</td>\n",
       "      <td>138</td>\n",
       "      <td>28</td>\n",
       "      <td>6</td>\n",
       "      <td>...</td>\n",
       "      <td>81</td>\n",
       "      <td>8/1/2019</td>\n",
       "      <td>1</td>\n",
       "      <td>married</td>\n",
       "      <td>49620</td>\n",
       "      <td>both</td>\n",
       "      <td>Midwest</td>\n",
       "      <td>Include</td>\n",
       "      <td>Senior</td>\n",
       "      <td>Low income</td>\n",
       "    </tr>\n",
       "    <tr>\n",
       "      <th>1</th>\n",
       "      <td>0</td>\n",
       "      <td>1</td>\n",
       "      <td>Chocolate Sandwich Cookies</td>\n",
       "      <td>61</td>\n",
       "      <td>19</td>\n",
       "      <td>5.8</td>\n",
       "      <td>1977647</td>\n",
       "      <td>138</td>\n",
       "      <td>30</td>\n",
       "      <td>6</td>\n",
       "      <td>...</td>\n",
       "      <td>81</td>\n",
       "      <td>8/1/2019</td>\n",
       "      <td>1</td>\n",
       "      <td>married</td>\n",
       "      <td>49620</td>\n",
       "      <td>both</td>\n",
       "      <td>Midwest</td>\n",
       "      <td>Include</td>\n",
       "      <td>Senior</td>\n",
       "      <td>Low income</td>\n",
       "    </tr>\n",
       "    <tr>\n",
       "      <th>2</th>\n",
       "      <td>0</td>\n",
       "      <td>1</td>\n",
       "      <td>Chocolate Sandwich Cookies</td>\n",
       "      <td>61</td>\n",
       "      <td>19</td>\n",
       "      <td>5.8</td>\n",
       "      <td>389851</td>\n",
       "      <td>709</td>\n",
       "      <td>2</td>\n",
       "      <td>0</td>\n",
       "      <td>...</td>\n",
       "      <td>66</td>\n",
       "      <td>6/16/2018</td>\n",
       "      <td>2</td>\n",
       "      <td>married</td>\n",
       "      <td>158302</td>\n",
       "      <td>both</td>\n",
       "      <td>Northeast</td>\n",
       "      <td>Include</td>\n",
       "      <td>Senior</td>\n",
       "      <td>Mid-High income</td>\n",
       "    </tr>\n",
       "    <tr>\n",
       "      <th>5</th>\n",
       "      <td>0</td>\n",
       "      <td>1</td>\n",
       "      <td>Chocolate Sandwich Cookies</td>\n",
       "      <td>61</td>\n",
       "      <td>19</td>\n",
       "      <td>5.8</td>\n",
       "      <td>1701441</td>\n",
       "      <td>777</td>\n",
       "      <td>16</td>\n",
       "      <td>1</td>\n",
       "      <td>...</td>\n",
       "      <td>51</td>\n",
       "      <td>1/4/2019</td>\n",
       "      <td>2</td>\n",
       "      <td>married</td>\n",
       "      <td>57797</td>\n",
       "      <td>both</td>\n",
       "      <td>West</td>\n",
       "      <td>Include</td>\n",
       "      <td>Middle-aged Adult</td>\n",
       "      <td>Mid income</td>\n",
       "    </tr>\n",
       "    <tr>\n",
       "      <th>6</th>\n",
       "      <td>0</td>\n",
       "      <td>1</td>\n",
       "      <td>Chocolate Sandwich Cookies</td>\n",
       "      <td>61</td>\n",
       "      <td>19</td>\n",
       "      <td>5.8</td>\n",
       "      <td>1871483</td>\n",
       "      <td>825</td>\n",
       "      <td>3</td>\n",
       "      <td>2</td>\n",
       "      <td>...</td>\n",
       "      <td>20</td>\n",
       "      <td>5/8/2019</td>\n",
       "      <td>3</td>\n",
       "      <td>living with parents and siblings</td>\n",
       "      <td>34171</td>\n",
       "      <td>both</td>\n",
       "      <td>South</td>\n",
       "      <td>Include</td>\n",
       "      <td>Young</td>\n",
       "      <td>Low income</td>\n",
       "    </tr>\n",
       "  </tbody>\n",
       "</table>\n",
       "<p>5 rows × 34 columns</p>\n",
       "</div>"
      ],
      "text/plain": [
       "   Unnamed: 0  product_id                product_name  aisle_id  \\\n",
       "0           0           1  Chocolate Sandwich Cookies        61   \n",
       "1           0           1  Chocolate Sandwich Cookies        61   \n",
       "2           0           1  Chocolate Sandwich Cookies        61   \n",
       "5           0           1  Chocolate Sandwich Cookies        61   \n",
       "6           0           1  Chocolate Sandwich Cookies        61   \n",
       "\n",
       "   department_id  prices  order_id  user_id  order_number  order_dow  ...  \\\n",
       "0             19     5.8   3139998      138            28          6  ...   \n",
       "1             19     5.8   1977647      138            30          6  ...   \n",
       "2             19     5.8    389851      709             2          0  ...   \n",
       "5             19     5.8   1701441      777            16          1  ...   \n",
       "6             19     5.8   1871483      825             3          2  ...   \n",
       "\n",
       "   age  date_joined  n_dependants                    marital_status  income  \\\n",
       "0   81     8/1/2019             1                           married   49620   \n",
       "1   81     8/1/2019             1                           married   49620   \n",
       "2   66    6/16/2018             2                           married  158302   \n",
       "5   51     1/4/2019             2                           married   57797   \n",
       "6   20     5/8/2019             3  living with parents and siblings   34171   \n",
       "\n",
       "  _merge     region exclusion_flag          age_group     income_group  \n",
       "0   both    Midwest        Include             Senior      Low income   \n",
       "1   both    Midwest        Include             Senior      Low income   \n",
       "2   both  Northeast        Include             Senior  Mid-High income  \n",
       "5   both       West        Include  Middle-aged Adult       Mid income  \n",
       "6   both      South        Include             Young       Low income   \n",
       "\n",
       "[5 rows x 34 columns]"
      ]
     },
     "execution_count": 27,
     "metadata": {},
     "output_type": "execute_result"
    }
   ],
   "source": [
    "# Checking creation of the new column 'income-group'\n",
    "\n",
    "df_total_high_act.head()"
   ]
  },
  {
   "cell_type": "code",
   "execution_count": 28,
   "id": "0c3e9433-9a74-44e2-b7dd-48afb3a0cda8",
   "metadata": {},
   "outputs": [
    {
     "data": {
      "text/plain": [
       "income_group\n",
       "Mid-High income    14106999\n",
       "Mid income         13394982\n",
       "Low income          3362554\n",
       "High income          100029\n",
       "Name: count, dtype: int64"
      ]
     },
     "execution_count": 28,
     "metadata": {},
     "output_type": "execute_result"
    }
   ],
   "source": [
    "# Counting data from new column 'age-group'\n",
    "\n",
    "df_total_high_act['income_group'].value_counts(dropna = False)"
   ]
  },
  {
   "cell_type": "markdown",
   "id": "3a8b023a-684b-435a-b934-d1cedd1635c5",
   "metadata": {},
   "source": [
    "**NOTE**: The mayority of the customer fall under the Low income flag ( <=100K a year). The second largest group are the Mid income (Between 100K to 300K a year)"
   ]
  },
  {
   "cell_type": "code",
   "execution_count": 29,
   "id": "ed4140bd-c071-4692-99cb-170ad2a3fba6",
   "metadata": {},
   "outputs": [
    {
     "data": {
      "image/png": "[encoded data removed]",
      "text/plain": [
       "<Figure size 640x480 with 1 Axes>"
      ]
     },
     "metadata": {},
     "output_type": "display_data"
    }
   ],
   "source": [
    "# Creating a histogram\n",
    "\n",
    "hist_income= df_total_high_act[('income')].plot.hist(bins=75)"
   ]
  },
  {
   "cell_type": "markdown",
   "id": "b5369584-68a9-44ad-ac33-c87bd1809b1e",
   "metadata": {},
   "source": [
    "# Export histogram on income distribution"
   ]
  },
  {
   "cell_type": "code",
   "execution_count": 30,
   "id": "c60e5b2e-129b-459a-8c08-be62ce86c661",
   "metadata": {},
   "outputs": [],
   "source": [
    "hist_income.figure.savefig(os.path.join(path, '04 Analysis','Visualizations', 'hist_income.png'))"
   ]
  },
  {
   "cell_type": "markdown",
   "id": "bca9e3c4-9851-4849-bd7a-b1b4cb8eab17",
   "metadata": {},
   "source": [
    "**NOTE**: The histogram appears to be left skewed with the higher frequency of income under 180K."
   ]
  },
  {
   "cell_type": "code",
   "execution_count": 31,
   "id": "412371b0-f3a2-479d-8bf3-e37329cdda40",
   "metadata": {},
   "outputs": [],
   "source": [
    "# 3. Profiling based on certain goods in the “department_id” column\n",
    "\n",
    "df_total_high_act.loc[df_total_high_act['department_id']== 8, 'department_group'] = 'Pet Owners'\n",
    "df_total_high_act.loc[df_total_high_act['department_id'].isin([3, 9]), 'department_group'] = 'With Gluten'\n",
    "df_total_high_act.loc[df_total_high_act['department_id']== 18, 'department_group'] = 'Parents'\n",
    "df_total_high_act.loc[df_total_high_act['department_id'].isin([1, 15, 19]), 'department_group'] = 'Fast Food'\n",
    "df_total_high_act.loc[df_total_high_act['department_id'].isin([17, 13, 10]), 'department_group'] = 'Family'\n",
    "df_total_high_act.loc[df_total_high_act['department_id'].isin([3,4,16]), 'department_group'] = 'Fresh goods'\n",
    "df_total_high_act.loc[df_total_high_act['department_id']== 20, 'department_group'] = 'High value Goods'\n",
    "df_total_high_act.loc[df_total_high_act['department_id'].isin([2,21]), 'department_group'] = 'Not Specified'"
   ]
  },
  {
   "cell_type": "code",
   "execution_count": 32,
   "id": "ba1ec9af-b9d1-4033-9a27-8a61bb682062",
   "metadata": {},
   "outputs": [
    {
     "data": {
      "text/plain": [
       "department_group\n",
       "Fresh goods         15377283\n",
       "Fast Food            5900211\n",
       "NaN                  4742456\n",
       "Family               2516013\n",
       "High value Goods     1003834\n",
       "With Gluten           822136\n",
       "Parents               410392\n",
       "Not Specified          99179\n",
       "Pet Owners             93060\n",
       "Name: count, dtype: int64"
      ]
     },
     "execution_count": 32,
     "metadata": {},
     "output_type": "execute_result"
    }
   ],
   "source": [
    "#Checking data\n",
    "\n",
    "df_total_high_act['department_group'].value_counts(dropna = False)\n"
   ]
  },
  {
   "cell_type": "code",
   "execution_count": 33,
   "id": "db91c509-574d-4d4b-aa9d-a7ac21170d99",
   "metadata": {},
   "outputs": [],
   "source": [
    "# 4. Profiling based on Orders_dow ( day of the week)\n",
    "\n",
    "df_total_high_act.loc[df_total_high_act['order_dow'].isin([0,6]), 'day_group'] = 'Weekend'\n",
    "df_total_high_act.loc[df_total_high_act['order_dow'].isin([1,2,3,4,5]), 'day_group'] = 'Weekday'"
   ]
  },
  {
   "cell_type": "code",
   "execution_count": 34,
   "id": "51940f35-c3c4-4728-948c-264ea78ac5f1",
   "metadata": {},
   "outputs": [
    {
     "data": {
      "text/plain": [
       "day_group\n",
       "Weekday    20764650\n",
       "Weekend    10199914\n",
       "Name: count, dtype: int64"
      ]
     },
     "execution_count": 34,
     "metadata": {},
     "output_type": "execute_result"
    }
   ],
   "source": [
    "#Checking data from new column  'day_group'\n",
    "\n",
    "df_total_high_act['day_group'].value_counts(dropna = False)"
   ]
  },
  {
   "cell_type": "markdown",
   "id": "dac9eb67-5e7b-4635-ba07-11e079e9158c",
   "metadata": {},
   "source": [
    "**NOTE**: 67% of the orders are completed during the week. Only 32.9 are done during the weekend"
   ]
  },
  {
   "cell_type": "code",
   "execution_count": 35,
   "id": "19199abb-2aa1-4799-8c16-a426fde5c051",
   "metadata": {},
   "outputs": [],
   "source": [
    "# 5. Profile based on order_hour_of_day \n",
    "\n",
    "df_total_high_act.loc[df_total_high_act['order_hour_of_day'] < 6, 'hour_group'] = 'Wee-hours Shopper'\n",
    "df_total_high_act.loc[(df_total_high_act['order_hour_of_day'] >= 6) & (df_total_high_act['order_hour_of_day'] <= 12), 'hour_group'] = 'Morning Shopper'\n",
    "df_total_high_act.loc[(df_total_high_act['order_hour_of_day'] > 12) & (df_total_high_act['order_hour_of_day'] <= 18), 'hour_group'] = 'Afternoon Shopper'\n",
    "df_total_high_act.loc[(df_total_high_act['order_hour_of_day'] > 18) & (df_total_high_act['order_hour_of_day'] <= 22), 'hour_group'] = 'Night Shopper'\n",
    "df_total_high_act.loc[df_total_high_act['order_hour_of_day'] > 22, 'hour_group'] = 'Wee-hours Shopper'"
   ]
  },
  {
   "cell_type": "code",
   "execution_count": 36,
   "id": "33fbd472-44cf-4d4f-a6a1-1820a7d5450d",
   "metadata": {},
   "outputs": [
    {
     "data": {
      "text/plain": [
       "hour_group\n",
       "Afternoon Shopper    13590355\n",
       "Morning Shopper      12927366\n",
       "Night Shopper         3494958\n",
       "Wee-hours Shopper      951885\n",
       "Name: count, dtype: int64"
      ]
     },
     "execution_count": 36,
     "metadata": {},
     "output_type": "execute_result"
    }
   ],
   "source": [
    "#Checking data from new column 'hour_group'\n",
    "\n",
    "df_total_high_act['hour_group'].value_counts(dropna = False)"
   ]
  },
  {
   "cell_type": "markdown",
   "id": "4cff6f31-da5f-413f-972f-0df59c4a3865",
   "metadata": {},
   "source": [
    "**NOTE**: 44% os clients prefer shopping between 12pm and 18pm. Followed by 'Morning Shoppers' with a 42% and 'Night Shopper' with 11%"
   ]
  },
  {
   "cell_type": "markdown",
   "id": "7ff9c465-fc26-4640-a6ea-9df9fa46ed54",
   "metadata": {},
   "source": [
    "# QUESTION 6. CREATE VISUALIZATIONS"
   ]
  },
  {
   "cell_type": "code",
   "execution_count": 37,
   "id": "be9ac8bc-6b15-49c3-b506-db361b12f433",
   "metadata": {},
   "outputs": [],
   "source": [
    "Age_group_counts = df_total_high_act['age_group'].value_counts()"
   ]
  },
  {
   "cell_type": "code",
   "execution_count": 38,
   "id": "c6dfb7bb-f895-4844-8801-ed3cfdb6165f",
   "metadata": {},
   "outputs": [
    {
     "data": {
      "text/plain": [
       "Text(0, 0.5, 'Count')"
      ]
     },
     "execution_count": 38,
     "metadata": {},
     "output_type": "execute_result"
    },
    {
     "data": {
      "image/png": "[encoded data removed]",
      "text/plain": [
       "<Figure size 500x500 with 1 Axes>"
      ]
     },
     "metadata": {},
     "output_type": "display_data"
    }
   ],
   "source": [
    "#Creating bar chart to visualise the different age groups \n",
    "\n",
    "Bar_Age=plt.figure(figsize=(5, 5))\n",
    "Age_group_counts.plot(kind='bar', color=['lightblue','skyblue','blue','darkblue'])\n",
    "\n",
    "# Add Title and tags\n",
    "plt.title('Age Group Distribution')\n",
    "plt.xlabel('Age Group')\n",
    "plt.ylabel('Count')"
   ]
  },
  {
   "cell_type": "code",
   "execution_count": 39,
   "id": "00e938a3-128e-4ff6-83a8-1b00fed77f8a",
   "metadata": {},
   "outputs": [],
   "source": [
    "#Export chart\n",
    "\n",
    "Bar_Age.figure.savefig(os.path.join(path, '04 Analysis','Visualizations', 'age_groups.png'))"
   ]
  },
  {
   "cell_type": "code",
   "execution_count": 40,
   "id": "bfefbf0e-4fe9-461c-b929-85d46f4e0348",
   "metadata": {},
   "outputs": [],
   "source": [
    "# Creating crosstab for region and income group\n",
    "\n",
    "income_region = pd.crosstab(df_total_high_act['region'], df_total_high_act['income_group'], dropna = False)"
   ]
  },
  {
   "cell_type": "code",
   "execution_count": 41,
   "id": "831372bf-b940-4c2b-b999-d3a04d65d998",
   "metadata": {},
   "outputs": [
    {
     "data": {
      "text/html": [
       "<div>\n",
       "<style scoped>\n",
       "    .dataframe tbody tr th:only-of-type {\n",
       "        vertical-align: middle;\n",
       "    }\n",
       "\n",
       "    .dataframe tbody tr th {\n",
       "        vertical-align: top;\n",
       "    }\n",
       "\n",
       "    .dataframe thead th {\n",
       "        text-align: right;\n",
       "    }\n",
       "</style>\n",
       "<table border=\"1\" class=\"dataframe\">\n",
       "  <thead>\n",
       "    <tr style=\"text-align: right;\">\n",
       "      <th>income_group</th>\n",
       "      <th>High income</th>\n",
       "      <th>Low income</th>\n",
       "      <th>Mid income</th>\n",
       "      <th>Mid-High income</th>\n",
       "    </tr>\n",
       "    <tr>\n",
       "      <th>region</th>\n",
       "      <th></th>\n",
       "      <th></th>\n",
       "      <th></th>\n",
       "      <th></th>\n",
       "    </tr>\n",
       "  </thead>\n",
       "  <tbody>\n",
       "    <tr>\n",
       "      <th>Midwest</th>\n",
       "      <td>30583</td>\n",
       "      <td>783764</td>\n",
       "      <td>3077656</td>\n",
       "      <td>3369510</td>\n",
       "    </tr>\n",
       "    <tr>\n",
       "      <th>Northeast</th>\n",
       "      <td>15435</td>\n",
       "      <td>587137</td>\n",
       "      <td>2361064</td>\n",
       "      <td>2501049</td>\n",
       "    </tr>\n",
       "    <tr>\n",
       "      <th>South</th>\n",
       "      <td>31528</td>\n",
       "      <td>1142572</td>\n",
       "      <td>4504996</td>\n",
       "      <td>4632043</td>\n",
       "    </tr>\n",
       "    <tr>\n",
       "      <th>West</th>\n",
       "      <td>22483</td>\n",
       "      <td>849081</td>\n",
       "      <td>3451266</td>\n",
       "      <td>3604397</td>\n",
       "    </tr>\n",
       "  </tbody>\n",
       "</table>\n",
       "</div>"
      ],
      "text/plain": [
       "income_group  High income  Low income   Mid income  Mid-High income\n",
       "region                                                             \n",
       "Midwest             30583       783764     3077656          3369510\n",
       "Northeast           15435       587137     2361064          2501049\n",
       "South               31528      1142572     4504996          4632043\n",
       "West                22483       849081     3451266          3604397"
      ]
     },
     "execution_count": 41,
     "metadata": {},
     "output_type": "execute_result"
    }
   ],
   "source": [
    "# Checking data\n",
    "\n",
    "income_region"
   ]
  },
  {
   "cell_type": "code",
   "execution_count": 42,
   "id": "3ebedfb7-17f3-46a8-b64a-944d216285f9",
   "metadata": {},
   "outputs": [
    {
     "data": {
      "text/plain": [
       "Text(0, 0.5, 'Income Group Count')"
      ]
     },
     "execution_count": 42,
     "metadata": {},
     "output_type": "execute_result"
    },
    {
     "data": {
      "text/plain": [
       "<Figure size 500x500 with 0 Axes>"
      ]
     },
     "metadata": {},
     "output_type": "display_data"
    },
    {
     "data": {
      "image/png": "[encoded data removed]",
      "text/plain": [
       "<Figure size 640x480 with 1 Axes>"
      ]
     },
     "metadata": {},
     "output_type": "display_data"
    }
   ],
   "source": [
    "# Creating a bar chart on Region and income group data\n",
    "\n",
    "#Creating bar chart to visualise the different age groups \n",
    "\n",
    "Income_bar=plt.figure(figsize=(5, 5))\n",
    "income_region.plot(kind='bar')\n",
    "\n",
    "# Add Title and tags\n",
    "plt.title('Region/Income Distribution')\n",
    "plt.xlabel('Region')\n",
    "plt.ylabel('Income Group Count')"
   ]
  },
  {
   "cell_type": "code",
   "execution_count": 43,
   "id": "d04a0ca2-06ca-481d-b4f6-50a5f6381e8d",
   "metadata": {},
   "outputs": [],
   "source": [
    "# Export bar chart \n",
    "\n",
    "Income_bar.figure.savefig(os.path.join(path, '04 Analysis','Visualizations', 'income_region.png'))"
   ]
  },
  {
   "cell_type": "code",
   "execution_count": 44,
   "id": "7b42b039-7be7-42a4-8b30-6f78cb8774f0",
   "metadata": {},
   "outputs": [],
   "source": [
    "# Creating crosstab for department goods and income group\n",
    "\n",
    "department_group_region = pd.crosstab(df_total_high_act['department_group'], df_total_high_act['region'], dropna = False)"
   ]
  },
  {
   "cell_type": "code",
   "execution_count": 45,
   "id": "19a831f1-5dc6-4baa-86a6-32ccfb4b9cba",
   "metadata": {},
   "outputs": [
    {
     "data": {
      "text/plain": [
       "Text(0, 0.5, 'Count')"
      ]
     },
     "execution_count": 45,
     "metadata": {},
     "output_type": "execute_result"
    },
    {
     "data": {
      "text/plain": [
       "<Figure size 500x500 with 0 Axes>"
      ]
     },
     "metadata": {},
     "output_type": "display_data"
    },
    {
     "data": {
      "image/png": "[encoded data removed]",
      "text/plain": [
       "<Figure size 640x480 with 1 Axes>"
      ]
     },
     "metadata": {},
     "output_type": "display_data"
    }
   ],
   "source": [
    "#Creating bar chart to visualise the department goods \n",
    "\n",
    "Depart_goods=plt.figure(figsize=(5, 5))\n",
    "department_group_region.plot(kind='bar')\n",
    "\n",
    "# Add Title and tags\n",
    "plt.title('Department Groups')\n",
    "plt.xlabel('Goods')\n",
    "plt.ylabel('Count')"
   ]
  },
  {
   "cell_type": "code",
   "execution_count": 46,
   "id": "089d7ce3-ac6a-4b9e-9cf5-c7586f40ce87",
   "metadata": {},
   "outputs": [],
   "source": [
    "# Creating crosstab between 'day_group' and 'income_group'\n",
    "\n",
    "income_day_group= pd.crosstab(df_total_high_act['day_group'], df_total_high_act['income_group'], dropna = False)"
   ]
  },
  {
   "cell_type": "code",
   "execution_count": 47,
   "id": "a4eb5d0c-ec56-4ef2-a540-4723c8dcc29e",
   "metadata": {},
   "outputs": [
    {
     "data": {
      "text/html": [
       "<div>\n",
       "<style scoped>\n",
       "    .dataframe tbody tr th:only-of-type {\n",
       "        vertical-align: middle;\n",
       "    }\n",
       "\n",
       "    .dataframe tbody tr th {\n",
       "        vertical-align: top;\n",
       "    }\n",
       "\n",
       "    .dataframe thead th {\n",
       "        text-align: right;\n",
       "    }\n",
       "</style>\n",
       "<table border=\"1\" class=\"dataframe\">\n",
       "  <thead>\n",
       "    <tr style=\"text-align: right;\">\n",
       "      <th>income_group</th>\n",
       "      <th>High income</th>\n",
       "      <th>Low income</th>\n",
       "      <th>Mid income</th>\n",
       "      <th>Mid-High income</th>\n",
       "    </tr>\n",
       "    <tr>\n",
       "      <th>day_group</th>\n",
       "      <th></th>\n",
       "      <th></th>\n",
       "      <th></th>\n",
       "      <th></th>\n",
       "    </tr>\n",
       "  </thead>\n",
       "  <tbody>\n",
       "    <tr>\n",
       "      <th>Weekday</th>\n",
       "      <td>72088</td>\n",
       "      <td>2472243</td>\n",
       "      <td>8880755</td>\n",
       "      <td>9339564</td>\n",
       "    </tr>\n",
       "    <tr>\n",
       "      <th>Weekend</th>\n",
       "      <td>27941</td>\n",
       "      <td>890311</td>\n",
       "      <td>4514227</td>\n",
       "      <td>4767435</td>\n",
       "    </tr>\n",
       "  </tbody>\n",
       "</table>\n",
       "</div>"
      ],
      "text/plain": [
       "income_group  High income  Low income   Mid income  Mid-High income\n",
       "day_group                                                          \n",
       "Weekday             72088      2472243     8880755          9339564\n",
       "Weekend             27941       890311     4514227          4767435"
      ]
     },
     "execution_count": 47,
     "metadata": {},
     "output_type": "execute_result"
    }
   ],
   "source": [
    "# Checking data from crosstab\n",
    "\n",
    "income_day_group"
   ]
  },
  {
   "cell_type": "code",
   "execution_count": 48,
   "id": "8a3a8bbc-1f58-4543-b492-a4e9bd7eade8",
   "metadata": {},
   "outputs": [
    {
     "data": {
      "text/plain": [
       "Text(0.5, 1.0, 'Income Group Purchase Behaviour')"
      ]
     },
     "execution_count": 48,
     "metadata": {},
     "output_type": "execute_result"
    },
    {
     "data": {
      "image/png": "[encoded data removed]",
      "text/plain": [
       "<Figure size 640x480 with 1 Axes>"
      ]
     },
     "metadata": {},
     "output_type": "display_data"
    }
   ],
   "source": [
    "# Creating bar chart ot visualize data\n",
    "\n",
    "income_day_group.plot.bar()\n",
    "plt.title('Income Group Purchase Behaviour')"
   ]
  },
  {
   "cell_type": "code",
   "execution_count": 49,
   "id": "306c6865-6b54-4554-8cdc-143d55e5f5c8",
   "metadata": {},
   "outputs": [],
   "source": [
    "# Show distribution on 'order of the day' column\n",
    "\n",
    "Order_hod = df_total_high_act['order_hour_of_day'].value_counts()"
   ]
  },
  {
   "cell_type": "code",
   "execution_count": 50,
   "id": "a16c0949-5401-44f8-98d7-ed33fc795de7",
   "metadata": {},
   "outputs": [
    {
     "data": {
      "text/plain": [
       "Text(0, 0.5, 'Frequency')"
      ]
     },
     "execution_count": 50,
     "metadata": {},
     "output_type": "execute_result"
    },
    {
     "data": {
      "image/png": "[encoded data removed]",
      "text/plain": [
       "<Figure size 500x500 with 1 Axes>"
      ]
     },
     "metadata": {},
     "output_type": "display_data"
    }
   ],
   "source": [
    "#Creating bar chart to visualise the different age groups \n",
    "\n",
    "Bar_hod=plt.figure(figsize=(5, 5))\n",
    "Order_hod.plot(kind='bar', color='blue')\n",
    "\n",
    "# Add Title and tags\n",
    "plt.title(' Purchase behaviour by Hour')\n",
    "plt.xlabel('Hour')\n",
    "plt.ylabel('Frequency')"
   ]
  },
  {
   "cell_type": "code",
   "execution_count": 51,
   "id": "96f6fc6d-f77c-4068-a7d5-8d18c98be4a4",
   "metadata": {},
   "outputs": [
    {
     "data": {
      "text/plain": [
       "<Figure size 640x480 with 0 Axes>"
      ]
     },
     "metadata": {},
     "output_type": "display_data"
    }
   ],
   "source": [
    "# Export chart\n",
    "\n",
    "plt.savefig(os.path.join(path, '04 Analysis','Visualizations', 'Purchase_hour.png'))"
   ]
  },
  {
   "cell_type": "code",
   "execution_count": 52,
   "id": "8869d8b9-28be-4988-9c77-498c0c81bcc9",
   "metadata": {},
   "outputs": [],
   "source": [
    "# Show distribution on 'order of the day' column\n",
    "\n",
    "Purchase_hour_group = df_total_high_act['hour_group'].value_counts()"
   ]
  },
  {
   "cell_type": "code",
   "execution_count": 53,
   "id": "dcb294ff-eb53-423e-9df4-410622939a4a",
   "metadata": {},
   "outputs": [
    {
     "data": {
      "text/plain": [
       "hour_group\n",
       "Afternoon Shopper    13590355\n",
       "Morning Shopper      12927366\n",
       "Night Shopper         3494958\n",
       "Wee-hours Shopper      951885\n",
       "Name: count, dtype: int64"
      ]
     },
     "execution_count": 53,
     "metadata": {},
     "output_type": "execute_result"
    }
   ],
   "source": [
    "# Checking data \n",
    "Purchase_hour_group "
   ]
  },
  {
   "cell_type": "code",
   "execution_count": 54,
   "id": "0e7c4782-ae90-443c-bd30-83c6195229f0",
   "metadata": {},
   "outputs": [
    {
     "data": {
      "text/plain": [
       "Text(0, 0.5, 'Frequency')"
      ]
     },
     "execution_count": 54,
     "metadata": {},
     "output_type": "execute_result"
    },
    {
     "data": {
      "image/png": "[encoded data removed]",
      "text/plain": [
       "<Figure size 500x500 with 1 Axes>"
      ]
     },
     "metadata": {},
     "output_type": "display_data"
    }
   ],
   "source": [
    "#Creating bar chart to visualise the different age groups \n",
    "\n",
    "Bar_hour_group=plt.figure(figsize=(5, 5))\n",
    "Purchase_hour_group.plot(kind='bar', color='green')\n",
    "\n",
    "# Add Title and tags\n",
    "plt.title(' Purchase behaviour by Hour group')\n",
    "plt.xlabel('Hour group')\n",
    "plt.ylabel('Frequency')"
   ]
  },
  {
   "cell_type": "code",
   "execution_count": 55,
   "id": "da1b9fbc-3b58-4d46-9830-764cc815c971",
   "metadata": {},
   "outputs": [],
   "source": [
    "#Export chart\n",
    "\n",
    "Bar_hour_group.figure.savefig(os.path.join(path,'04 Analysis','Visualizations', 'purchase_hour_group.png'))"
   ]
  },
  {
   "cell_type": "code",
   "execution_count": 56,
   "id": "87e3ceda-f795-4f3a-be46-f7ed279a73c1",
   "metadata": {},
   "outputs": [],
   "source": [
    "# Creating crosstab for age group and day group\n",
    "\n",
    "age_day_group = pd.crosstab(df_total_high_act['age_group'], df_total_high_act['day_group'], dropna = False)"
   ]
  },
  {
   "cell_type": "code",
   "execution_count": 57,
   "id": "8590289d-915b-48bc-8595-ad017d9f5967",
   "metadata": {},
   "outputs": [
    {
     "data": {
      "text/html": [
       "<div>\n",
       "<style scoped>\n",
       "    .dataframe tbody tr th:only-of-type {\n",
       "        vertical-align: middle;\n",
       "    }\n",
       "\n",
       "    .dataframe tbody tr th {\n",
       "        vertical-align: top;\n",
       "    }\n",
       "\n",
       "    .dataframe thead th {\n",
       "        text-align: right;\n",
       "    }\n",
       "</style>\n",
       "<table border=\"1\" class=\"dataframe\">\n",
       "  <thead>\n",
       "    <tr style=\"text-align: right;\">\n",
       "      <th>day_group</th>\n",
       "      <th>Weekday</th>\n",
       "      <th>Weekend</th>\n",
       "    </tr>\n",
       "    <tr>\n",
       "      <th>age_group</th>\n",
       "      <th></th>\n",
       "      <th></th>\n",
       "    </tr>\n",
       "  </thead>\n",
       "  <tbody>\n",
       "    <tr>\n",
       "      <th>Middle-aged Adult</th>\n",
       "      <td>9765493</td>\n",
       "      <td>4782224</td>\n",
       "    </tr>\n",
       "    <tr>\n",
       "      <th>Senior</th>\n",
       "      <td>6775612</td>\n",
       "      <td>3336995</td>\n",
       "    </tr>\n",
       "    <tr>\n",
       "      <th>Young</th>\n",
       "      <td>978882</td>\n",
       "      <td>475846</td>\n",
       "    </tr>\n",
       "    <tr>\n",
       "      <th>Young- Adult</th>\n",
       "      <td>3244663</td>\n",
       "      <td>1604849</td>\n",
       "    </tr>\n",
       "  </tbody>\n",
       "</table>\n",
       "</div>"
      ],
      "text/plain": [
       "day_group          Weekday  Weekend\n",
       "age_group                          \n",
       "Middle-aged Adult  9765493  4782224\n",
       "Senior             6775612  3336995\n",
       "Young               978882   475846\n",
       "Young- Adult       3244663  1604849"
      ]
     },
     "execution_count": 57,
     "metadata": {},
     "output_type": "execute_result"
    }
   ],
   "source": [
    "# checking crosstab data\n",
    "\n",
    "age_day_group"
   ]
  },
  {
   "cell_type": "code",
   "execution_count": 58,
   "id": "33388096-91ed-4e6d-a14a-ea58e1bc2a55",
   "metadata": {},
   "outputs": [
    {
     "data": {
      "text/plain": [
       "Text(0, 0.5, 'Frequency')"
      ]
     },
     "execution_count": 58,
     "metadata": {},
     "output_type": "execute_result"
    },
    {
     "data": {
      "text/plain": [
       "<Figure size 500x500 with 0 Axes>"
      ]
     },
     "metadata": {},
     "output_type": "display_data"
    },
    {
     "data": {
      "image/png": "[encoded data removed]",
      "text/plain": [
       "<Figure size 640x480 with 1 Axes>"
      ]
     },
     "metadata": {},
     "output_type": "display_data"
    }
   ],
   "source": [
    "#Creating bar chart to visualise the different age groups \n",
    "\n",
    "Bar_age_day_group=plt.figure(figsize=(5, 5))\n",
    "age_day_group.plot(kind='bar', color=['lightblue','skyblue','blue','darkblue'])\n",
    "\n",
    "# Add Title and tags\n",
    "plt.title(' Purchase behaviour by Age Group')\n",
    "plt.xlabel('Age group')\n",
    "plt.ylabel('Frequency')"
   ]
  },
  {
   "cell_type": "code",
   "execution_count": 59,
   "id": "6562e238-716e-45c6-9690-028837bbc540",
   "metadata": {},
   "outputs": [],
   "source": [
    "# Export chart\n",
    "Bar_age_day_group.figure.savefig(os.path.join(path,'04 Analysis','Visualizations', 'purchase_hour_group.png'))"
   ]
  },
  {
   "cell_type": "code",
   "execution_count": 60,
   "id": "3e8cfd4c-d773-45a1-ab21-8cbd908c913f",
   "metadata": {},
   "outputs": [],
   "source": [
    "# Creating crosstab for departament group and age group\n",
    "\n",
    "goods_per_age_group = pd.crosstab(df_total_high_act['age_group'], df_total_high_act['department_group'], dropna = False)"
   ]
  },
  {
   "cell_type": "code",
   "execution_count": 61,
   "id": "2feb6423-9c98-44fc-90d7-2edbadab8d2c",
   "metadata": {},
   "outputs": [
    {
     "data": {
      "text/plain": [
       "Text(0, 0.5, 'Count')"
      ]
     },
     "execution_count": 61,
     "metadata": {},
     "output_type": "execute_result"
    },
    {
     "data": {
      "text/plain": [
       "<Figure size 500x500 with 0 Axes>"
      ]
     },
     "metadata": {},
     "output_type": "display_data"
    },
    {
     "data": {
      "image/png": "[encoded data removed]",
      "text/plain": [
       "<Figure size 640x480 with 1 Axes>"
      ]
     },
     "metadata": {},
     "output_type": "display_data"
    }
   ],
   "source": [
    "#Creating bar chart to visualise the department goods \n",
    "\n",
    "bar_goods=plt.figure(figsize=(5, 5))\n",
    "goods_per_age_group.plot(kind='bar')\n",
    "\n",
    "# Add Title and tags\n",
    "plt.title('Purchase goods by age group')\n",
    "plt.xlabel('Goods')\n",
    "plt.ylabel('Count')\n"
   ]
  },
  {
   "cell_type": "code",
   "execution_count": 62,
   "id": "605c51ce-1a72-40ea-98d9-68e0b71a2ea2",
   "metadata": {},
   "outputs": [],
   "source": [
    "# Export chart \n",
    "\n",
    "bar_goods.figure.savefig(os.path.join(path,'04 Analysis','Visualizations', 'purchase_goods_age_group.png'))"
   ]
  },
  {
   "cell_type": "code",
   "execution_count": 63,
   "id": "2e356b53-2bf8-4086-963a-03885eec60b5",
   "metadata": {},
   "outputs": [],
   "source": [
    "#Additional check: \n",
    "# Upon data disparity between low/mid income and mid-high and high income filtering data on DF_high_income\n",
    "\n",
    "df_high_income = df_total_high_act[df_total_high_act['income_group'].isin(['High income', 'Mid-High income'])]"
   ]
  },
  {
   "cell_type": "code",
   "execution_count": 64,
   "id": "65aab2c4-ec86-4ff0-a2c6-aa7551724b63",
   "metadata": {},
   "outputs": [
    {
     "data": {
      "text/html": [
       "<div>\n",
       "<style scoped>\n",
       "    .dataframe tbody tr th:only-of-type {\n",
       "        vertical-align: middle;\n",
       "    }\n",
       "\n",
       "    .dataframe tbody tr th {\n",
       "        vertical-align: top;\n",
       "    }\n",
       "\n",
       "    .dataframe thead th {\n",
       "        text-align: right;\n",
       "    }\n",
       "</style>\n",
       "<table border=\"1\" class=\"dataframe\">\n",
       "  <thead>\n",
       "    <tr style=\"text-align: right;\">\n",
       "      <th>department_group</th>\n",
       "      <th>Family</th>\n",
       "      <th>Fast Food</th>\n",
       "      <th>Fresh goods</th>\n",
       "      <th>High value Goods</th>\n",
       "      <th>Not Specified</th>\n",
       "      <th>Parents</th>\n",
       "      <th>Pet Owners</th>\n",
       "      <th>With Gluten</th>\n",
       "      <th>NaN</th>\n",
       "    </tr>\n",
       "    <tr>\n",
       "      <th>income_group</th>\n",
       "      <th></th>\n",
       "      <th></th>\n",
       "      <th></th>\n",
       "      <th></th>\n",
       "      <th></th>\n",
       "      <th></th>\n",
       "      <th></th>\n",
       "      <th></th>\n",
       "      <th></th>\n",
       "    </tr>\n",
       "  </thead>\n",
       "  <tbody>\n",
       "    <tr>\n",
       "      <th>High income</th>\n",
       "      <td>11036</td>\n",
       "      <td>20466</td>\n",
       "      <td>41867</td>\n",
       "      <td>2805</td>\n",
       "      <td>282</td>\n",
       "      <td>697</td>\n",
       "      <td>747</td>\n",
       "      <td>2824</td>\n",
       "      <td>19305</td>\n",
       "    </tr>\n",
       "    <tr>\n",
       "      <th>Mid-High income</th>\n",
       "      <td>1163060</td>\n",
       "      <td>2557791</td>\n",
       "      <td>7128917</td>\n",
       "      <td>459284</td>\n",
       "      <td>44919</td>\n",
       "      <td>195999</td>\n",
       "      <td>44342</td>\n",
       "      <td>389885</td>\n",
       "      <td>2122802</td>\n",
       "    </tr>\n",
       "  </tbody>\n",
       "</table>\n",
       "</div>"
      ],
      "text/plain": [
       "department_group   Family  Fast Food  Fresh goods  High value Goods  \\\n",
       "income_group                                                          \n",
       "High income         11036      20466        41867              2805   \n",
       "Mid-High income   1163060    2557791      7128917            459284   \n",
       "\n",
       "department_group  Not Specified  Parents  Pet Owners  With Gluten      NaN  \n",
       "income_group                                                                \n",
       "High income                 282      697         747         2824    19305  \n",
       "Mid-High income           44919   195999       44342       389885  2122802  "
      ]
     },
     "execution_count": 64,
     "metadata": {},
     "output_type": "execute_result"
    }
   ],
   "source": [
    "# Agrupar los datos por tipo de producto y grupo de ingresos, y contar las frecuencias\n",
    "\n",
    "pd.crosstab(df_high_income['income_group'], df_total_high_act['department_group'], dropna = False)"
   ]
  },
  {
   "cell_type": "code",
   "execution_count": 65,
   "id": "077fa167-549a-40fb-8536-8d2682996e8c",
   "metadata": {},
   "outputs": [],
   "source": [
    "# Upon data disparity between low/mid income and mid-high and high income filtering data on DF_high_income\n",
    "\n",
    "df_low_income= df_total_high_act[df_total_high_act['income_group'].isin(['Low income', 'Mid income'])]"
   ]
  },
  {
   "cell_type": "code",
   "execution_count": 66,
   "id": "b671b4c2-6775-4c16-ba7d-819eb1aa5fcc",
   "metadata": {},
   "outputs": [
    {
     "data": {
      "text/html": [
       "<div>\n",
       "<style scoped>\n",
       "    .dataframe tbody tr th:only-of-type {\n",
       "        vertical-align: middle;\n",
       "    }\n",
       "\n",
       "    .dataframe tbody tr th {\n",
       "        vertical-align: top;\n",
       "    }\n",
       "\n",
       "    .dataframe thead th {\n",
       "        text-align: right;\n",
       "    }\n",
       "</style>\n",
       "<table border=\"1\" class=\"dataframe\">\n",
       "  <thead>\n",
       "    <tr style=\"text-align: right;\">\n",
       "      <th>department_group</th>\n",
       "      <th>Family</th>\n",
       "      <th>Fast Food</th>\n",
       "      <th>Fresh goods</th>\n",
       "      <th>High value Goods</th>\n",
       "      <th>Not Specified</th>\n",
       "      <th>Parents</th>\n",
       "      <th>Pet Owners</th>\n",
       "      <th>With Gluten</th>\n",
       "      <th>NaN</th>\n",
       "    </tr>\n",
       "    <tr>\n",
       "      <th>income_group</th>\n",
       "      <th></th>\n",
       "      <th></th>\n",
       "      <th></th>\n",
       "      <th></th>\n",
       "      <th></th>\n",
       "      <th></th>\n",
       "      <th></th>\n",
       "      <th></th>\n",
       "      <th></th>\n",
       "    </tr>\n",
       "  </thead>\n",
       "  <tbody>\n",
       "    <tr>\n",
       "      <th>Mid income</th>\n",
       "      <td>1083964</td>\n",
       "      <td>2468273</td>\n",
       "      <td>6771065</td>\n",
       "      <td>435297</td>\n",
       "      <td>43545</td>\n",
       "      <td>184456</td>\n",
       "      <td>39359</td>\n",
       "      <td>364946</td>\n",
       "      <td>2004077</td>\n",
       "    </tr>\n",
       "  </tbody>\n",
       "</table>\n",
       "</div>"
      ],
      "text/plain": [
       "department_group   Family  Fast Food  Fresh goods  High value Goods  \\\n",
       "income_group                                                          \n",
       "Mid income        1083964    2468273      6771065            435297   \n",
       "\n",
       "department_group  Not Specified  Parents  Pet Owners  With Gluten      NaN  \n",
       "income_group                                                                \n",
       "Mid income                43545   184456       39359       364946  2004077  "
      ]
     },
     "execution_count": 66,
     "metadata": {},
     "output_type": "execute_result"
    }
   ],
   "source": [
    "# Agrupar los datos por tipo de producto y grupo de ingresos, y contar las frecuencias\n",
    "\n",
    "pd.crosstab(df_low_income['income_group'], df_total_high_act['department_group'], dropna = False)"
   ]
  },
  {
   "cell_type": "markdown",
   "id": "2da8ebd2-ed19-448d-9ffd-1c116eed448a",
   "metadata": {},
   "source": [
    "# QUESTION 7 . Aggregate the max, mean, and min variables on a customer-profile level for usage frequency and expenditure"
   ]
  },
  {
   "cell_type": "code",
   "execution_count": 67,
   "id": "da3bac4f-82fc-4286-a4cb-5ab265f25197",
   "metadata": {},
   "outputs": [],
   "source": [
    "#DF was still presenting outliers of $14,900.00 and $99,999.00. Removing them to get the adequate max order\n",
    "\n",
    "df_total_high_act.loc[df_total_high_act['prices'] >100, 'prices'] = np.nan"
   ]
  },
  {
   "cell_type": "code",
   "execution_count": 68,
   "id": "2de15bda-c936-4384-88bf-909a7468db90",
   "metadata": {},
   "outputs": [
    {
     "data": {
      "text/html": [
       "<div>\n",
       "<style scoped>\n",
       "    .dataframe tbody tr th:only-of-type {\n",
       "        vertical-align: middle;\n",
       "    }\n",
       "\n",
       "    .dataframe tbody tr th {\n",
       "        vertical-align: top;\n",
       "    }\n",
       "\n",
       "    .dataframe thead th {\n",
       "        text-align: right;\n",
       "    }\n",
       "</style>\n",
       "<table border=\"1\" class=\"dataframe\">\n",
       "  <thead>\n",
       "    <tr style=\"text-align: right;\">\n",
       "      <th></th>\n",
       "      <th>Unnamed: 0</th>\n",
       "      <th>product_id</th>\n",
       "      <th>product_name</th>\n",
       "      <th>aisle_id</th>\n",
       "      <th>department_id</th>\n",
       "      <th>prices</th>\n",
       "      <th>order_id</th>\n",
       "      <th>user_id</th>\n",
       "      <th>order_number</th>\n",
       "      <th>order_dow</th>\n",
       "      <th>...</th>\n",
       "      <th>marital_status</th>\n",
       "      <th>income</th>\n",
       "      <th>_merge</th>\n",
       "      <th>region</th>\n",
       "      <th>exclusion_flag</th>\n",
       "      <th>age_group</th>\n",
       "      <th>income_group</th>\n",
       "      <th>department_group</th>\n",
       "      <th>day_group</th>\n",
       "      <th>hour_group</th>\n",
       "    </tr>\n",
       "  </thead>\n",
       "  <tbody>\n",
       "  </tbody>\n",
       "</table>\n",
       "<p>0 rows × 37 columns</p>\n",
       "</div>"
      ],
      "text/plain": [
       "Empty DataFrame\n",
       "Columns: [Unnamed: 0, product_id, product_name, aisle_id, department_id, prices, order_id, user_id, order_number, order_dow, order_hour_of_day, days_since_prior_order, add_to_cart_order, reordered, max_order, loyalty_flag, mean_product_price, spending_flag, median_days_between_orders, order_frequency, first_name, last_name, gender, state, age, date_joined, n_dependants, marital_status, income, _merge, region, exclusion_flag, age_group, income_group, department_group, day_group, hour_group]\n",
       "Index: []\n",
       "\n",
       "[0 rows x 37 columns]"
      ]
     },
     "execution_count": 68,
     "metadata": {},
     "output_type": "execute_result"
    }
   ],
   "source": [
    "#Checking removal the outliers\n",
    "\n",
    "df_total_high_act.loc[df_total_high_act['prices'] > 100]"
   ]
  },
  {
   "cell_type": "code",
   "execution_count": 69,
   "id": "3807b4b4-0ad5-48b4-bc70-2f9213fd7333",
   "metadata": {},
   "outputs": [],
   "source": [
    "# Calculating max, min, mean on customer usage frequency and expenditure\n",
    "#to calculate usage frequency  I am using 'days_since_prior_order' and 'prices'\n",
    "\n",
    "agg_age= df_total_high_act.groupby('age_group').agg({'days_since_prior_order':['mean','min','max'],'prices':['mean','min','max'],'income':['mean','min','max']})"
   ]
  },
  {
   "cell_type": "code",
   "execution_count": 70,
   "id": "8b37d3ad-9149-4da6-a6e4-3a95c33ba78a",
   "metadata": {},
   "outputs": [
    {
     "data": {
      "text/html": [
       "<div>\n",
       "<style scoped>\n",
       "    .dataframe tbody tr th:only-of-type {\n",
       "        vertical-align: middle;\n",
       "    }\n",
       "\n",
       "    .dataframe tbody tr th {\n",
       "        vertical-align: top;\n",
       "    }\n",
       "\n",
       "    .dataframe thead tr th {\n",
       "        text-align: left;\n",
       "    }\n",
       "\n",
       "    .dataframe thead tr:last-of-type th {\n",
       "        text-align: right;\n",
       "    }\n",
       "</style>\n",
       "<table border=\"1\" class=\"dataframe\">\n",
       "  <thead>\n",
       "    <tr>\n",
       "      <th></th>\n",
       "      <th colspan=\"3\" halign=\"left\">days_since_prior_order</th>\n",
       "      <th colspan=\"3\" halign=\"left\">prices</th>\n",
       "      <th colspan=\"3\" halign=\"left\">income</th>\n",
       "    </tr>\n",
       "    <tr>\n",
       "      <th></th>\n",
       "      <th>mean</th>\n",
       "      <th>min</th>\n",
       "      <th>max</th>\n",
       "      <th>mean</th>\n",
       "      <th>min</th>\n",
       "      <th>max</th>\n",
       "      <th>mean</th>\n",
       "      <th>min</th>\n",
       "      <th>max</th>\n",
       "    </tr>\n",
       "    <tr>\n",
       "      <th>age_group</th>\n",
       "      <th></th>\n",
       "      <th></th>\n",
       "      <th></th>\n",
       "      <th></th>\n",
       "      <th></th>\n",
       "      <th></th>\n",
       "      <th></th>\n",
       "      <th></th>\n",
       "      <th></th>\n",
       "    </tr>\n",
       "  </thead>\n",
       "  <tbody>\n",
       "    <tr>\n",
       "      <th>Middle-aged Adult</th>\n",
       "      <td>10.810764</td>\n",
       "      <td>0.0</td>\n",
       "      <td>30.0</td>\n",
       "      <td>7.790713</td>\n",
       "      <td>1.0</td>\n",
       "      <td>25.0</td>\n",
       "      <td>100939.427944</td>\n",
       "      <td>25903</td>\n",
       "      <td>592409</td>\n",
       "    </tr>\n",
       "    <tr>\n",
       "      <th>Senior</th>\n",
       "      <td>10.791879</td>\n",
       "      <td>0.0</td>\n",
       "      <td>30.0</td>\n",
       "      <td>7.796144</td>\n",
       "      <td>1.0</td>\n",
       "      <td>25.0</td>\n",
       "      <td>115992.086330</td>\n",
       "      <td>29001</td>\n",
       "      <td>593901</td>\n",
       "    </tr>\n",
       "    <tr>\n",
       "      <th>Young</th>\n",
       "      <td>10.879634</td>\n",
       "      <td>0.0</td>\n",
       "      <td>30.0</td>\n",
       "      <td>7.794831</td>\n",
       "      <td>1.0</td>\n",
       "      <td>25.0</td>\n",
       "      <td>70495.549805</td>\n",
       "      <td>25972</td>\n",
       "      <td>396364</td>\n",
       "    </tr>\n",
       "    <tr>\n",
       "      <th>Young- Adult</th>\n",
       "      <td>10.826524</td>\n",
       "      <td>0.0</td>\n",
       "      <td>30.0</td>\n",
       "      <td>7.777369</td>\n",
       "      <td>1.0</td>\n",
       "      <td>25.0</td>\n",
       "      <td>70614.783131</td>\n",
       "      <td>25937</td>\n",
       "      <td>392552</td>\n",
       "    </tr>\n",
       "  </tbody>\n",
       "</table>\n",
       "</div>"
      ],
      "text/plain": [
       "                  days_since_prior_order               prices             \\\n",
       "                                    mean  min   max      mean  min   max   \n",
       "age_group                                                                  \n",
       "Middle-aged Adult              10.810764  0.0  30.0  7.790713  1.0  25.0   \n",
       "Senior                         10.791879  0.0  30.0  7.796144  1.0  25.0   \n",
       "Young                          10.879634  0.0  30.0  7.794831  1.0  25.0   \n",
       "Young- Adult                   10.826524  0.0  30.0  7.777369  1.0  25.0   \n",
       "\n",
       "                          income                 \n",
       "                            mean    min     max  \n",
       "age_group                                        \n",
       "Middle-aged Adult  100939.427944  25903  592409  \n",
       "Senior             115992.086330  29001  593901  \n",
       "Young               70495.549805  25972  396364  \n",
       "Young- Adult        70614.783131  25937  392552  "
      ]
     },
     "execution_count": 70,
     "metadata": {},
     "output_type": "execute_result"
    }
   ],
   "source": [
    "# Checking data\n",
    "\n",
    "agg_age"
   ]
  },
  {
   "cell_type": "code",
   "execution_count": 71,
   "id": "d709dd70-bd35-496e-acff-8fadc5490f9e",
   "metadata": {},
   "outputs": [],
   "source": [
    "# Aggregation by income group\n",
    "\n",
    "agg_income= df_total_high_act.groupby('income_group').agg({'days_since_prior_order':['mean','min','max'],'prices':['mean','min','max'],'income':['mean','min','max']})"
   ]
  },
  {
   "cell_type": "code",
   "execution_count": 72,
   "id": "2f196233-c733-4260-b95a-80fcc95d5016",
   "metadata": {},
   "outputs": [
    {
     "data": {
      "text/html": [
       "<div>\n",
       "<style scoped>\n",
       "    .dataframe tbody tr th:only-of-type {\n",
       "        vertical-align: middle;\n",
       "    }\n",
       "\n",
       "    .dataframe tbody tr th {\n",
       "        vertical-align: top;\n",
       "    }\n",
       "\n",
       "    .dataframe thead tr th {\n",
       "        text-align: left;\n",
       "    }\n",
       "\n",
       "    .dataframe thead tr:last-of-type th {\n",
       "        text-align: right;\n",
       "    }\n",
       "</style>\n",
       "<table border=\"1\" class=\"dataframe\">\n",
       "  <thead>\n",
       "    <tr>\n",
       "      <th></th>\n",
       "      <th colspan=\"3\" halign=\"left\">days_since_prior_order</th>\n",
       "      <th colspan=\"3\" halign=\"left\">prices</th>\n",
       "      <th colspan=\"3\" halign=\"left\">income</th>\n",
       "    </tr>\n",
       "    <tr>\n",
       "      <th></th>\n",
       "      <th>mean</th>\n",
       "      <th>min</th>\n",
       "      <th>max</th>\n",
       "      <th>mean</th>\n",
       "      <th>min</th>\n",
       "      <th>max</th>\n",
       "      <th>mean</th>\n",
       "      <th>min</th>\n",
       "      <th>max</th>\n",
       "    </tr>\n",
       "    <tr>\n",
       "      <th>income_group</th>\n",
       "      <th></th>\n",
       "      <th></th>\n",
       "      <th></th>\n",
       "      <th></th>\n",
       "      <th></th>\n",
       "      <th></th>\n",
       "      <th></th>\n",
       "      <th></th>\n",
       "      <th></th>\n",
       "    </tr>\n",
       "  </thead>\n",
       "  <tbody>\n",
       "    <tr>\n",
       "      <th>High income</th>\n",
       "      <td>10.094693</td>\n",
       "      <td>0.0</td>\n",
       "      <td>30.0</td>\n",
       "      <td>7.755411</td>\n",
       "      <td>1.0</td>\n",
       "      <td>25.0</td>\n",
       "      <td>411626.859721</td>\n",
       "      <td>302234</td>\n",
       "      <td>593901</td>\n",
       "    </tr>\n",
       "    <tr>\n",
       "      <th>Low income</th>\n",
       "      <td>11.175808</td>\n",
       "      <td>0.0</td>\n",
       "      <td>30.0</td>\n",
       "      <td>6.707347</td>\n",
       "      <td>1.0</td>\n",
       "      <td>25.0</td>\n",
       "      <td>39817.430126</td>\n",
       "      <td>25903</td>\n",
       "      <td>49998</td>\n",
       "    </tr>\n",
       "    <tr>\n",
       "      <th>Mid income</th>\n",
       "      <td>10.762110</td>\n",
       "      <td>0.0</td>\n",
       "      <td>30.0</td>\n",
       "      <td>7.889856</td>\n",
       "      <td>1.0</td>\n",
       "      <td>25.0</td>\n",
       "      <td>76499.182515</td>\n",
       "      <td>50001</td>\n",
       "      <td>100000</td>\n",
       "    </tr>\n",
       "    <tr>\n",
       "      <th>Mid-High income</th>\n",
       "      <td>10.774496</td>\n",
       "      <td>0.0</td>\n",
       "      <td>30.0</td>\n",
       "      <td>7.954829</td>\n",
       "      <td>1.0</td>\n",
       "      <td>25.0</td>\n",
       "      <td>133738.695911</td>\n",
       "      <td>100001</td>\n",
       "      <td>299955</td>\n",
       "    </tr>\n",
       "  </tbody>\n",
       "</table>\n",
       "</div>"
      ],
      "text/plain": [
       "                days_since_prior_order               prices             \\\n",
       "                                  mean  min   max      mean  min   max   \n",
       "income_group                                                             \n",
       "High income                  10.094693  0.0  30.0  7.755411  1.0  25.0   \n",
       "Low income                   11.175808  0.0  30.0  6.707347  1.0  25.0   \n",
       "Mid income                   10.762110  0.0  30.0  7.889856  1.0  25.0   \n",
       "Mid-High income              10.774496  0.0  30.0  7.954829  1.0  25.0   \n",
       "\n",
       "                        income                  \n",
       "                          mean     min     max  \n",
       "income_group                                    \n",
       "High income      411626.859721  302234  593901  \n",
       "Low income        39817.430126   25903   49998  \n",
       "Mid income        76499.182515   50001  100000  \n",
       "Mid-High income  133738.695911  100001  299955  "
      ]
     },
     "execution_count": 72,
     "metadata": {},
     "output_type": "execute_result"
    }
   ],
   "source": [
    "#Checking data for agg_income\n",
    "\n",
    "agg_income"
   ]
  },
  {
   "cell_type": "code",
   "execution_count": 73,
   "id": "1ea4a756-5009-4896-adfb-63930c5a6fa4",
   "metadata": {},
   "outputs": [],
   "source": [
    "# Aggregation by household size\n",
    "\n",
    "agg_house= df_total_high_act.groupby('n_dependants').agg({'days_since_prior_order':['mean','min','max'],'prices':['mean','min','max'],'income':['mean','min','max']})"
   ]
  },
  {
   "cell_type": "code",
   "execution_count": 74,
   "id": "c147ff43-5ed9-4583-980a-fc9445c12689",
   "metadata": {},
   "outputs": [
    {
     "data": {
      "text/html": [
       "<div>\n",
       "<style scoped>\n",
       "    .dataframe tbody tr th:only-of-type {\n",
       "        vertical-align: middle;\n",
       "    }\n",
       "\n",
       "    .dataframe tbody tr th {\n",
       "        vertical-align: top;\n",
       "    }\n",
       "\n",
       "    .dataframe thead tr th {\n",
       "        text-align: left;\n",
       "    }\n",
       "\n",
       "    .dataframe thead tr:last-of-type th {\n",
       "        text-align: right;\n",
       "    }\n",
       "</style>\n",
       "<table border=\"1\" class=\"dataframe\">\n",
       "  <thead>\n",
       "    <tr>\n",
       "      <th></th>\n",
       "      <th colspan=\"3\" halign=\"left\">days_since_prior_order</th>\n",
       "      <th colspan=\"3\" halign=\"left\">prices</th>\n",
       "      <th colspan=\"3\" halign=\"left\">income</th>\n",
       "    </tr>\n",
       "    <tr>\n",
       "      <th></th>\n",
       "      <th>mean</th>\n",
       "      <th>min</th>\n",
       "      <th>max</th>\n",
       "      <th>mean</th>\n",
       "      <th>min</th>\n",
       "      <th>max</th>\n",
       "      <th>mean</th>\n",
       "      <th>min</th>\n",
       "      <th>max</th>\n",
       "    </tr>\n",
       "    <tr>\n",
       "      <th>n_dependants</th>\n",
       "      <th></th>\n",
       "      <th></th>\n",
       "      <th></th>\n",
       "      <th></th>\n",
       "      <th></th>\n",
       "      <th></th>\n",
       "      <th></th>\n",
       "      <th></th>\n",
       "      <th></th>\n",
       "    </tr>\n",
       "  </thead>\n",
       "  <tbody>\n",
       "    <tr>\n",
       "      <th>0</th>\n",
       "      <td>10.791951</td>\n",
       "      <td>0.0</td>\n",
       "      <td>30.0</td>\n",
       "      <td>7.789550</td>\n",
       "      <td>1.0</td>\n",
       "      <td>25.0</td>\n",
       "      <td>99896.801937</td>\n",
       "      <td>25903</td>\n",
       "      <td>584097</td>\n",
       "    </tr>\n",
       "    <tr>\n",
       "      <th>1</th>\n",
       "      <td>10.802001</td>\n",
       "      <td>0.0</td>\n",
       "      <td>30.0</td>\n",
       "      <td>7.795910</td>\n",
       "      <td>1.0</td>\n",
       "      <td>25.0</td>\n",
       "      <td>99476.758266</td>\n",
       "      <td>25937</td>\n",
       "      <td>579397</td>\n",
       "    </tr>\n",
       "    <tr>\n",
       "      <th>2</th>\n",
       "      <td>10.830997</td>\n",
       "      <td>0.0</td>\n",
       "      <td>30.0</td>\n",
       "      <td>7.784014</td>\n",
       "      <td>1.0</td>\n",
       "      <td>25.0</td>\n",
       "      <td>99649.519142</td>\n",
       "      <td>25911</td>\n",
       "      <td>593901</td>\n",
       "    </tr>\n",
       "    <tr>\n",
       "      <th>3</th>\n",
       "      <td>10.816223</td>\n",
       "      <td>0.0</td>\n",
       "      <td>30.0</td>\n",
       "      <td>7.792886</td>\n",
       "      <td>1.0</td>\n",
       "      <td>25.0</td>\n",
       "      <td>99679.813181</td>\n",
       "      <td>25941</td>\n",
       "      <td>591089</td>\n",
       "    </tr>\n",
       "  </tbody>\n",
       "</table>\n",
       "</div>"
      ],
      "text/plain": [
       "             days_since_prior_order               prices             \\\n",
       "                               mean  min   max      mean  min   max   \n",
       "n_dependants                                                          \n",
       "0                         10.791951  0.0  30.0  7.789550  1.0  25.0   \n",
       "1                         10.802001  0.0  30.0  7.795910  1.0  25.0   \n",
       "2                         10.830997  0.0  30.0  7.784014  1.0  25.0   \n",
       "3                         10.816223  0.0  30.0  7.792886  1.0  25.0   \n",
       "\n",
       "                    income                 \n",
       "                      mean    min     max  \n",
       "n_dependants                               \n",
       "0             99896.801937  25903  584097  \n",
       "1             99476.758266  25937  579397  \n",
       "2             99649.519142  25911  593901  \n",
       "3             99679.813181  25941  591089  "
      ]
     },
     "execution_count": 74,
     "metadata": {},
     "output_type": "execute_result"
    }
   ],
   "source": [
    "# Checking data for agg_house\n",
    "\n",
    "agg_house"
   ]
  },
  {
   "cell_type": "code",
   "execution_count": 75,
   "id": "05526224-9ce0-4e1f-b723-f9e4e467b7d5",
   "metadata": {},
   "outputs": [],
   "source": [
    "# Aggregation by marital_status\n",
    "\n",
    "agg_marital_status= df_total_high_act.groupby('marital_status').agg({'days_since_prior_order':['mean','min','max'],'prices':['mean','min','max'],'income':['mean','min','max']})"
   ]
  },
  {
   "cell_type": "code",
   "execution_count": 76,
   "id": "e84943d8-1516-41f3-a95b-cd8854c080c4",
   "metadata": {},
   "outputs": [
    {
     "data": {
      "text/html": [
       "<div>\n",
       "<style scoped>\n",
       "    .dataframe tbody tr th:only-of-type {\n",
       "        vertical-align: middle;\n",
       "    }\n",
       "\n",
       "    .dataframe tbody tr th {\n",
       "        vertical-align: top;\n",
       "    }\n",
       "\n",
       "    .dataframe thead tr th {\n",
       "        text-align: left;\n",
       "    }\n",
       "\n",
       "    .dataframe thead tr:last-of-type th {\n",
       "        text-align: right;\n",
       "    }\n",
       "</style>\n",
       "<table border=\"1\" class=\"dataframe\">\n",
       "  <thead>\n",
       "    <tr>\n",
       "      <th></th>\n",
       "      <th colspan=\"3\" halign=\"left\">days_since_prior_order</th>\n",
       "      <th colspan=\"3\" halign=\"left\">prices</th>\n",
       "      <th colspan=\"3\" halign=\"left\">income</th>\n",
       "    </tr>\n",
       "    <tr>\n",
       "      <th></th>\n",
       "      <th>mean</th>\n",
       "      <th>min</th>\n",
       "      <th>max</th>\n",
       "      <th>mean</th>\n",
       "      <th>min</th>\n",
       "      <th>max</th>\n",
       "      <th>mean</th>\n",
       "      <th>min</th>\n",
       "      <th>max</th>\n",
       "    </tr>\n",
       "    <tr>\n",
       "      <th>marital_status</th>\n",
       "      <th></th>\n",
       "      <th></th>\n",
       "      <th></th>\n",
       "      <th></th>\n",
       "      <th></th>\n",
       "      <th></th>\n",
       "      <th></th>\n",
       "      <th></th>\n",
       "      <th></th>\n",
       "    </tr>\n",
       "  </thead>\n",
       "  <tbody>\n",
       "    <tr>\n",
       "      <th>divorced/widowed</th>\n",
       "      <td>10.750328</td>\n",
       "      <td>0.0</td>\n",
       "      <td>30.0</td>\n",
       "      <td>7.801014</td>\n",
       "      <td>1.0</td>\n",
       "      <td>25.0</td>\n",
       "      <td>115969.768975</td>\n",
       "      <td>29011</td>\n",
       "      <td>578251</td>\n",
       "    </tr>\n",
       "    <tr>\n",
       "      <th>living with parents and siblings</th>\n",
       "      <td>10.750995</td>\n",
       "      <td>0.0</td>\n",
       "      <td>30.0</td>\n",
       "      <td>7.800604</td>\n",
       "      <td>1.0</td>\n",
       "      <td>25.0</td>\n",
       "      <td>70870.404339</td>\n",
       "      <td>25937</td>\n",
       "      <td>396364</td>\n",
       "    </tr>\n",
       "    <tr>\n",
       "      <th>married</th>\n",
       "      <td>10.820875</td>\n",
       "      <td>0.0</td>\n",
       "      <td>30.0</td>\n",
       "      <td>7.790278</td>\n",
       "      <td>1.0</td>\n",
       "      <td>25.0</td>\n",
       "      <td>101559.437850</td>\n",
       "      <td>25911</td>\n",
       "      <td>593901</td>\n",
       "    </tr>\n",
       "    <tr>\n",
       "      <th>single</th>\n",
       "      <td>10.813571</td>\n",
       "      <td>0.0</td>\n",
       "      <td>30.0</td>\n",
       "      <td>7.783597</td>\n",
       "      <td>1.0</td>\n",
       "      <td>25.0</td>\n",
       "      <td>91550.918195</td>\n",
       "      <td>25903</td>\n",
       "      <td>584097</td>\n",
       "    </tr>\n",
       "  </tbody>\n",
       "</table>\n",
       "</div>"
      ],
      "text/plain": [
       "                                 days_since_prior_order               prices  \\\n",
       "                                                   mean  min   max      mean   \n",
       "marital_status                                                                 \n",
       "divorced/widowed                              10.750328  0.0  30.0  7.801014   \n",
       "living with parents and siblings              10.750995  0.0  30.0  7.800604   \n",
       "married                                       10.820875  0.0  30.0  7.790278   \n",
       "single                                        10.813571  0.0  30.0  7.783597   \n",
       "\n",
       "                                                    income                 \n",
       "                                  min   max           mean    min     max  \n",
       "marital_status                                                             \n",
       "divorced/widowed                  1.0  25.0  115969.768975  29011  578251  \n",
       "living with parents and siblings  1.0  25.0   70870.404339  25937  396364  \n",
       "married                           1.0  25.0  101559.437850  25911  593901  \n",
       "single                            1.0  25.0   91550.918195  25903  584097  "
      ]
     },
     "execution_count": 76,
     "metadata": {},
     "output_type": "execute_result"
    }
   ],
   "source": [
    "# Checking data for agg_house\n",
    "\n",
    "agg_marital_status\n"
   ]
  },
  {
   "cell_type": "markdown",
   "id": "e966087e-7fef-47de-8a0b-f67e6122d88d",
   "metadata": {},
   "source": [
    "# QUESTION. 8 COMPARE CUSTOMER PROFILES WITH REGIONS AND DEPARTMENTS"
   ]
  },
  {
   "cell_type": "code",
   "execution_count": 77,
   "id": "3a1691ac-91bf-46be-ae40-9506e64b90c8",
   "metadata": {},
   "outputs": [],
   "source": [
    "# importing DF with department goods information\n",
    "\n",
    "df_departments= pd.read_csv(os.path.join(path, '02 Data', 'Prepared data', 'department_wrangled.csv'))"
   ]
  },
  {
   "cell_type": "code",
   "execution_count": 78,
   "id": "4b714ee0-2948-43c9-9ba0-f1e1a6aef68a",
   "metadata": {},
   "outputs": [
    {
     "data": {
      "text/html": [
       "<div>\n",
       "<style scoped>\n",
       "    .dataframe tbody tr th:only-of-type {\n",
       "        vertical-align: middle;\n",
       "    }\n",
       "\n",
       "    .dataframe tbody tr th {\n",
       "        vertical-align: top;\n",
       "    }\n",
       "\n",
       "    .dataframe thead th {\n",
       "        text-align: right;\n",
       "    }\n",
       "</style>\n",
       "<table border=\"1\" class=\"dataframe\">\n",
       "  <thead>\n",
       "    <tr style=\"text-align: right;\">\n",
       "      <th></th>\n",
       "      <th>Unnamed: 0</th>\n",
       "      <th>department</th>\n",
       "    </tr>\n",
       "  </thead>\n",
       "  <tbody>\n",
       "    <tr>\n",
       "      <th>0</th>\n",
       "      <td>1</td>\n",
       "      <td>frozen</td>\n",
       "    </tr>\n",
       "    <tr>\n",
       "      <th>1</th>\n",
       "      <td>2</td>\n",
       "      <td>other</td>\n",
       "    </tr>\n",
       "    <tr>\n",
       "      <th>2</th>\n",
       "      <td>3</td>\n",
       "      <td>bakery</td>\n",
       "    </tr>\n",
       "    <tr>\n",
       "      <th>3</th>\n",
       "      <td>4</td>\n",
       "      <td>produce</td>\n",
       "    </tr>\n",
       "    <tr>\n",
       "      <th>4</th>\n",
       "      <td>5</td>\n",
       "      <td>alcohol</td>\n",
       "    </tr>\n",
       "  </tbody>\n",
       "</table>\n",
       "</div>"
      ],
      "text/plain": [
       "   Unnamed: 0 department\n",
       "0           1     frozen\n",
       "1           2      other\n",
       "2           3     bakery\n",
       "3           4    produce\n",
       "4           5    alcohol"
      ]
     },
     "execution_count": 78,
     "metadata": {},
     "output_type": "execute_result"
    }
   ],
   "source": [
    "#Checking df_departments data\n",
    "\n",
    "df_departments.head(5)"
   ]
  },
  {
   "cell_type": "code",
   "execution_count": 79,
   "id": "be8eee40-af6d-4165-ad68-11db90682703",
   "metadata": {},
   "outputs": [],
   "source": [
    "# Renaming 'unnamed' column as 'department_id'\n",
    "\n",
    "df_departments.rename(columns={'Unnamed: 0': 'department_id'}, inplace=True)"
   ]
  },
  {
   "cell_type": "code",
   "execution_count": 80,
   "id": "b1e2f65f-e36a-4bd4-89c7-5a58f5bb72e1",
   "metadata": {},
   "outputs": [
    {
     "data": {
      "text/html": [
       "<div>\n",
       "<style scoped>\n",
       "    .dataframe tbody tr th:only-of-type {\n",
       "        vertical-align: middle;\n",
       "    }\n",
       "\n",
       "    .dataframe tbody tr th {\n",
       "        vertical-align: top;\n",
       "    }\n",
       "\n",
       "    .dataframe thead th {\n",
       "        text-align: right;\n",
       "    }\n",
       "</style>\n",
       "<table border=\"1\" class=\"dataframe\">\n",
       "  <thead>\n",
       "    <tr style=\"text-align: right;\">\n",
       "      <th></th>\n",
       "      <th>department_id</th>\n",
       "      <th>department</th>\n",
       "    </tr>\n",
       "  </thead>\n",
       "  <tbody>\n",
       "    <tr>\n",
       "      <th>0</th>\n",
       "      <td>1</td>\n",
       "      <td>frozen</td>\n",
       "    </tr>\n",
       "    <tr>\n",
       "      <th>1</th>\n",
       "      <td>2</td>\n",
       "      <td>other</td>\n",
       "    </tr>\n",
       "    <tr>\n",
       "      <th>2</th>\n",
       "      <td>3</td>\n",
       "      <td>bakery</td>\n",
       "    </tr>\n",
       "    <tr>\n",
       "      <th>3</th>\n",
       "      <td>4</td>\n",
       "      <td>produce</td>\n",
       "    </tr>\n",
       "    <tr>\n",
       "      <th>4</th>\n",
       "      <td>5</td>\n",
       "      <td>alcohol</td>\n",
       "    </tr>\n",
       "  </tbody>\n",
       "</table>\n",
       "</div>"
      ],
      "text/plain": [
       "   department_id department\n",
       "0              1     frozen\n",
       "1              2      other\n",
       "2              3     bakery\n",
       "3              4    produce\n",
       "4              5    alcohol"
      ]
     },
     "execution_count": 80,
     "metadata": {},
     "output_type": "execute_result"
    }
   ],
   "source": [
    "#Checking changes\n",
    "\n",
    "df_departments.head(5)\n"
   ]
  },
  {
   "cell_type": "code",
   "execution_count": 81,
   "id": "a5c6128a-5ab7-4499-8179-f0b9adadd188",
   "metadata": {},
   "outputs": [],
   "source": [
    "#Merging data based on key column department_id\n",
    "\n",
    "df_total_high_dept = df_total_high_act.merge(df_departments, on = 'department_id', indicator = 'merge1')"
   ]
  },
  {
   "cell_type": "code",
   "execution_count": 82,
   "id": "561f144b-5e29-4aa7-b015-386d53df88cc",
   "metadata": {},
   "outputs": [
    {
     "data": {
      "text/html": [
       "<div>\n",
       "<style scoped>\n",
       "    .dataframe tbody tr th:only-of-type {\n",
       "        vertical-align: middle;\n",
       "    }\n",
       "\n",
       "    .dataframe tbody tr th {\n",
       "        vertical-align: top;\n",
       "    }\n",
       "\n",
       "    .dataframe thead th {\n",
       "        text-align: right;\n",
       "    }\n",
       "</style>\n",
       "<table border=\"1\" class=\"dataframe\">\n",
       "  <thead>\n",
       "    <tr style=\"text-align: right;\">\n",
       "      <th></th>\n",
       "      <th>Unnamed: 0</th>\n",
       "      <th>product_id</th>\n",
       "      <th>product_name</th>\n",
       "      <th>aisle_id</th>\n",
       "      <th>department_id</th>\n",
       "      <th>prices</th>\n",
       "      <th>order_id</th>\n",
       "      <th>user_id</th>\n",
       "      <th>order_number</th>\n",
       "      <th>order_dow</th>\n",
       "      <th>...</th>\n",
       "      <th>_merge</th>\n",
       "      <th>region</th>\n",
       "      <th>exclusion_flag</th>\n",
       "      <th>age_group</th>\n",
       "      <th>income_group</th>\n",
       "      <th>department_group</th>\n",
       "      <th>day_group</th>\n",
       "      <th>hour_group</th>\n",
       "      <th>department</th>\n",
       "      <th>merge1</th>\n",
       "    </tr>\n",
       "  </thead>\n",
       "  <tbody>\n",
       "    <tr>\n",
       "      <th>0</th>\n",
       "      <td>0</td>\n",
       "      <td>1</td>\n",
       "      <td>Chocolate Sandwich Cookies</td>\n",
       "      <td>61</td>\n",
       "      <td>19</td>\n",
       "      <td>5.8</td>\n",
       "      <td>3139998</td>\n",
       "      <td>138</td>\n",
       "      <td>28</td>\n",
       "      <td>6</td>\n",
       "      <td>...</td>\n",
       "      <td>both</td>\n",
       "      <td>Midwest</td>\n",
       "      <td>Include</td>\n",
       "      <td>Senior</td>\n",
       "      <td>Low income</td>\n",
       "      <td>Fast Food</td>\n",
       "      <td>Weekend</td>\n",
       "      <td>Morning Shopper</td>\n",
       "      <td>snacks</td>\n",
       "      <td>both</td>\n",
       "    </tr>\n",
       "    <tr>\n",
       "      <th>1</th>\n",
       "      <td>0</td>\n",
       "      <td>1</td>\n",
       "      <td>Chocolate Sandwich Cookies</td>\n",
       "      <td>61</td>\n",
       "      <td>19</td>\n",
       "      <td>5.8</td>\n",
       "      <td>1977647</td>\n",
       "      <td>138</td>\n",
       "      <td>30</td>\n",
       "      <td>6</td>\n",
       "      <td>...</td>\n",
       "      <td>both</td>\n",
       "      <td>Midwest</td>\n",
       "      <td>Include</td>\n",
       "      <td>Senior</td>\n",
       "      <td>Low income</td>\n",
       "      <td>Fast Food</td>\n",
       "      <td>Weekend</td>\n",
       "      <td>Afternoon Shopper</td>\n",
       "      <td>snacks</td>\n",
       "      <td>both</td>\n",
       "    </tr>\n",
       "    <tr>\n",
       "      <th>2</th>\n",
       "      <td>0</td>\n",
       "      <td>1</td>\n",
       "      <td>Chocolate Sandwich Cookies</td>\n",
       "      <td>61</td>\n",
       "      <td>19</td>\n",
       "      <td>5.8</td>\n",
       "      <td>389851</td>\n",
       "      <td>709</td>\n",
       "      <td>2</td>\n",
       "      <td>0</td>\n",
       "      <td>...</td>\n",
       "      <td>both</td>\n",
       "      <td>Northeast</td>\n",
       "      <td>Include</td>\n",
       "      <td>Senior</td>\n",
       "      <td>Mid-High income</td>\n",
       "      <td>Fast Food</td>\n",
       "      <td>Weekend</td>\n",
       "      <td>Night Shopper</td>\n",
       "      <td>snacks</td>\n",
       "      <td>both</td>\n",
       "    </tr>\n",
       "    <tr>\n",
       "      <th>3</th>\n",
       "      <td>0</td>\n",
       "      <td>1</td>\n",
       "      <td>Chocolate Sandwich Cookies</td>\n",
       "      <td>61</td>\n",
       "      <td>19</td>\n",
       "      <td>5.8</td>\n",
       "      <td>1701441</td>\n",
       "      <td>777</td>\n",
       "      <td>16</td>\n",
       "      <td>1</td>\n",
       "      <td>...</td>\n",
       "      <td>both</td>\n",
       "      <td>West</td>\n",
       "      <td>Include</td>\n",
       "      <td>Middle-aged Adult</td>\n",
       "      <td>Mid income</td>\n",
       "      <td>Fast Food</td>\n",
       "      <td>Weekday</td>\n",
       "      <td>Morning Shopper</td>\n",
       "      <td>snacks</td>\n",
       "      <td>both</td>\n",
       "    </tr>\n",
       "    <tr>\n",
       "      <th>4</th>\n",
       "      <td>0</td>\n",
       "      <td>1</td>\n",
       "      <td>Chocolate Sandwich Cookies</td>\n",
       "      <td>61</td>\n",
       "      <td>19</td>\n",
       "      <td>5.8</td>\n",
       "      <td>1871483</td>\n",
       "      <td>825</td>\n",
       "      <td>3</td>\n",
       "      <td>2</td>\n",
       "      <td>...</td>\n",
       "      <td>both</td>\n",
       "      <td>South</td>\n",
       "      <td>Include</td>\n",
       "      <td>Young</td>\n",
       "      <td>Low income</td>\n",
       "      <td>Fast Food</td>\n",
       "      <td>Weekday</td>\n",
       "      <td>Afternoon Shopper</td>\n",
       "      <td>snacks</td>\n",
       "      <td>both</td>\n",
       "    </tr>\n",
       "  </tbody>\n",
       "</table>\n",
       "<p>5 rows × 39 columns</p>\n",
       "</div>"
      ],
      "text/plain": [
       "   Unnamed: 0  product_id                product_name  aisle_id  \\\n",
       "0           0           1  Chocolate Sandwich Cookies        61   \n",
       "1           0           1  Chocolate Sandwich Cookies        61   \n",
       "2           0           1  Chocolate Sandwich Cookies        61   \n",
       "3           0           1  Chocolate Sandwich Cookies        61   \n",
       "4           0           1  Chocolate Sandwich Cookies        61   \n",
       "\n",
       "   department_id  prices  order_id  user_id  order_number  order_dow  ...  \\\n",
       "0             19     5.8   3139998      138            28          6  ...   \n",
       "1             19     5.8   1977647      138            30          6  ...   \n",
       "2             19     5.8    389851      709             2          0  ...   \n",
       "3             19     5.8   1701441      777            16          1  ...   \n",
       "4             19     5.8   1871483      825             3          2  ...   \n",
       "\n",
       "   _merge     region  exclusion_flag          age_group     income_group  \\\n",
       "0    both    Midwest         Include             Senior      Low income    \n",
       "1    both    Midwest         Include             Senior      Low income    \n",
       "2    both  Northeast         Include             Senior  Mid-High income   \n",
       "3    both       West         Include  Middle-aged Adult       Mid income   \n",
       "4    both      South         Include             Young       Low income    \n",
       "\n",
       "  department_group  day_group         hour_group  department merge1  \n",
       "0        Fast Food    Weekend    Morning Shopper      snacks   both  \n",
       "1        Fast Food    Weekend  Afternoon Shopper      snacks   both  \n",
       "2        Fast Food    Weekend      Night Shopper      snacks   both  \n",
       "3        Fast Food    Weekday    Morning Shopper      snacks   both  \n",
       "4        Fast Food    Weekday  Afternoon Shopper      snacks   both  \n",
       "\n",
       "[5 rows x 39 columns]"
      ]
     },
     "execution_count": 82,
     "metadata": {},
     "output_type": "execute_result"
    }
   ],
   "source": [
    "# Checking merging process and new column 'merge1'\n",
    "\n",
    "df_total_high_dept.head(5)"
   ]
  },
  {
   "cell_type": "code",
   "execution_count": 83,
   "id": "6020c265-40a6-40ac-ba95-f5ccc902dbe6",
   "metadata": {},
   "outputs": [
    {
     "data": {
      "text/plain": [
       "Unnamed: 0                       int64\n",
       "product_id                       int64\n",
       "product_name                    object\n",
       "aisle_id                         int64\n",
       "department_id                    int64\n",
       "prices                         float64\n",
       "order_id                         int64\n",
       "user_id                          int64\n",
       "order_number                     int64\n",
       "order_dow                        int64\n",
       "order_hour_of_day                int64\n",
       "days_since_prior_order         float64\n",
       "add_to_cart_order                int64\n",
       "reordered                        int64\n",
       "max_order                        int64\n",
       "loyalty_flag                    object\n",
       "mean_product_price             float64\n",
       "spending_flag                   object\n",
       "median_days_between_orders     float64\n",
       "order_frequency                 object\n",
       "first_name                      object\n",
       "last_name                       object\n",
       "gender                          object\n",
       "state                           object\n",
       "age                              int64\n",
       "date_joined                     object\n",
       "n_dependants                     int64\n",
       "marital_status                  object\n",
       "income                           int64\n",
       "_merge                        category\n",
       "region                          object\n",
       "exclusion_flag                  object\n",
       "age_group                       object\n",
       "income_group                    object\n",
       "department_group                object\n",
       "day_group                       object\n",
       "hour_group                      object\n",
       "department                      object\n",
       "merge1                        category\n",
       "dtype: object"
      ]
     },
     "execution_count": 83,
     "metadata": {},
     "output_type": "execute_result"
    }
   ],
   "source": [
    "df_total_high_dept.dtypes"
   ]
  },
  {
   "cell_type": "code",
   "execution_count": 84,
   "id": "92fab336-bbf2-449d-9d64-4c2b90079ff2",
   "metadata": {},
   "outputs": [
    {
     "data": {
      "text/plain": [
       "department\n",
       "produce            9079273\n",
       "dairy eggs         5177182\n",
       "snacks             2766406\n",
       "beverages          2571901\n",
       "frozen             2121731\n",
       "pantry             1782705\n",
       "bakery             1120828\n",
       "canned goods       1012074\n",
       "deli               1003834\n",
       "dry goods pasta     822136\n",
       "household           699857\n",
       "meat seafood        674781\n",
       "breakfast           670850\n",
       "personal care       424306\n",
       "babies              410392\n",
       "international       255991\n",
       "alcohol             144627\n",
       "pets                 93060\n",
       "missing              64768\n",
       "other                34411\n",
       "bulk                 33451\n",
       "Name: count, dtype: int64"
      ]
     },
     "execution_count": 84,
     "metadata": {},
     "output_type": "execute_result"
    }
   ],
   "source": [
    "# Checking column 'department' data\n",
    "\n",
    "df_total_high_dept['department'].value_counts()"
   ]
  },
  {
   "cell_type": "code",
   "execution_count": 85,
   "id": "74cb926b-e66b-4ee6-8af6-9ebcb6192f92",
   "metadata": {},
   "outputs": [
    {
     "data": {
      "image/png": "[encoded data removed]",
      "text/plain": [
       "<Figure size 640x480 with 1 Axes>"
      ]
     },
     "metadata": {},
     "output_type": "display_data"
    }
   ],
   "source": [
    "#Creating a bar chart on the 'department' data distribution\n",
    "\n",
    "bar= df_total_high_dept.department.value_counts().sort_values().plot(kind = 'barh')"
   ]
  },
  {
   "cell_type": "code",
   "execution_count": 86,
   "id": "270d7369-a6c1-4a74-934d-45e47e0b3d98",
   "metadata": {},
   "outputs": [],
   "source": [
    "# Exporting chart\n",
    "\n",
    "bar.figure.savefig(os.path.join(path, '04 Analysis', 'Visualizations', 'Bar_department.png'))"
   ]
  },
  {
   "cell_type": "code",
   "execution_count": 87,
   "id": "67821fb5-11ca-4679-ba48-7f7810fc71df",
   "metadata": {},
   "outputs": [],
   "source": [
    "# Creating crosstab for region and department\n",
    "\n",
    "region_department = pd.crosstab(df_total_high_dept['region'], df_total_high_dept['department'], dropna = False)"
   ]
  },
  {
   "cell_type": "code",
   "execution_count": 88,
   "id": "e41e0108-b4cd-495e-9ec8-67aaecb1afc6",
   "metadata": {},
   "outputs": [
    {
     "data": {
      "text/html": [
       "<div>\n",
       "<style scoped>\n",
       "    .dataframe tbody tr th:only-of-type {\n",
       "        vertical-align: middle;\n",
       "    }\n",
       "\n",
       "    .dataframe tbody tr th {\n",
       "        vertical-align: top;\n",
       "    }\n",
       "\n",
       "    .dataframe thead th {\n",
       "        text-align: right;\n",
       "    }\n",
       "</style>\n",
       "<table border=\"1\" class=\"dataframe\">\n",
       "  <thead>\n",
       "    <tr style=\"text-align: right;\">\n",
       "      <th>department</th>\n",
       "      <th>alcohol</th>\n",
       "      <th>babies</th>\n",
       "      <th>bakery</th>\n",
       "      <th>beverages</th>\n",
       "      <th>breakfast</th>\n",
       "      <th>bulk</th>\n",
       "      <th>canned goods</th>\n",
       "      <th>dairy eggs</th>\n",
       "      <th>deli</th>\n",
       "      <th>dry goods pasta</th>\n",
       "      <th>...</th>\n",
       "      <th>household</th>\n",
       "      <th>international</th>\n",
       "      <th>meat seafood</th>\n",
       "      <th>missing</th>\n",
       "      <th>other</th>\n",
       "      <th>pantry</th>\n",
       "      <th>personal care</th>\n",
       "      <th>pets</th>\n",
       "      <th>produce</th>\n",
       "      <th>snacks</th>\n",
       "    </tr>\n",
       "    <tr>\n",
       "      <th>region</th>\n",
       "      <th></th>\n",
       "      <th></th>\n",
       "      <th></th>\n",
       "      <th></th>\n",
       "      <th></th>\n",
       "      <th></th>\n",
       "      <th></th>\n",
       "      <th></th>\n",
       "      <th></th>\n",
       "      <th></th>\n",
       "      <th></th>\n",
       "      <th></th>\n",
       "      <th></th>\n",
       "      <th></th>\n",
       "      <th></th>\n",
       "      <th></th>\n",
       "      <th></th>\n",
       "      <th></th>\n",
       "      <th></th>\n",
       "      <th></th>\n",
       "      <th></th>\n",
       "    </tr>\n",
       "  </thead>\n",
       "  <tbody>\n",
       "    <tr>\n",
       "      <th>Midwest</th>\n",
       "      <td>34043</td>\n",
       "      <td>95741</td>\n",
       "      <td>261753</td>\n",
       "      <td>598979</td>\n",
       "      <td>156155</td>\n",
       "      <td>7929</td>\n",
       "      <td>237459</td>\n",
       "      <td>1212490</td>\n",
       "      <td>234464</td>\n",
       "      <td>193463</td>\n",
       "      <td>...</td>\n",
       "      <td>166992</td>\n",
       "      <td>60666</td>\n",
       "      <td>158260</td>\n",
       "      <td>15563</td>\n",
       "      <td>7983</td>\n",
       "      <td>420334</td>\n",
       "      <td>100398</td>\n",
       "      <td>21358</td>\n",
       "      <td>2134115</td>\n",
       "      <td>645143</td>\n",
       "    </tr>\n",
       "    <tr>\n",
       "      <th>Northeast</th>\n",
       "      <td>25017</td>\n",
       "      <td>72712</td>\n",
       "      <td>199300</td>\n",
       "      <td>462929</td>\n",
       "      <td>117904</td>\n",
       "      <td>5599</td>\n",
       "      <td>176936</td>\n",
       "      <td>914616</td>\n",
       "      <td>178398</td>\n",
       "      <td>143817</td>\n",
       "      <td>...</td>\n",
       "      <td>124604</td>\n",
       "      <td>44678</td>\n",
       "      <td>118571</td>\n",
       "      <td>11512</td>\n",
       "      <td>6268</td>\n",
       "      <td>312731</td>\n",
       "      <td>74765</td>\n",
       "      <td>17734</td>\n",
       "      <td>1593004</td>\n",
       "      <td>493154</td>\n",
       "    </tr>\n",
       "    <tr>\n",
       "      <th>South</th>\n",
       "      <td>48813</td>\n",
       "      <td>139511</td>\n",
       "      <td>371620</td>\n",
       "      <td>859419</td>\n",
       "      <td>223172</td>\n",
       "      <td>11180</td>\n",
       "      <td>337458</td>\n",
       "      <td>1723016</td>\n",
       "      <td>333620</td>\n",
       "      <td>272813</td>\n",
       "      <td>...</td>\n",
       "      <td>230061</td>\n",
       "      <td>84649</td>\n",
       "      <td>224120</td>\n",
       "      <td>21787</td>\n",
       "      <td>11579</td>\n",
       "      <td>591754</td>\n",
       "      <td>142496</td>\n",
       "      <td>29909</td>\n",
       "      <td>3027476</td>\n",
       "      <td>916780</td>\n",
       "    </tr>\n",
       "    <tr>\n",
       "      <th>West</th>\n",
       "      <td>36754</td>\n",
       "      <td>102428</td>\n",
       "      <td>288155</td>\n",
       "      <td>650574</td>\n",
       "      <td>173619</td>\n",
       "      <td>8743</td>\n",
       "      <td>260221</td>\n",
       "      <td>1327060</td>\n",
       "      <td>257352</td>\n",
       "      <td>212043</td>\n",
       "      <td>...</td>\n",
       "      <td>178200</td>\n",
       "      <td>65998</td>\n",
       "      <td>173830</td>\n",
       "      <td>15906</td>\n",
       "      <td>8581</td>\n",
       "      <td>457886</td>\n",
       "      <td>106647</td>\n",
       "      <td>24059</td>\n",
       "      <td>2324678</td>\n",
       "      <td>711329</td>\n",
       "    </tr>\n",
       "  </tbody>\n",
       "</table>\n",
       "<p>4 rows × 21 columns</p>\n",
       "</div>"
      ],
      "text/plain": [
       "department  alcohol  babies  bakery  beverages  breakfast   bulk  \\\n",
       "region                                                             \n",
       "Midwest       34043   95741  261753     598979     156155   7929   \n",
       "Northeast     25017   72712  199300     462929     117904   5599   \n",
       "South         48813  139511  371620     859419     223172  11180   \n",
       "West          36754  102428  288155     650574     173619   8743   \n",
       "\n",
       "department  canned goods  dairy eggs    deli  dry goods pasta  ...  household  \\\n",
       "region                                                         ...              \n",
       "Midwest           237459     1212490  234464           193463  ...     166992   \n",
       "Northeast         176936      914616  178398           143817  ...     124604   \n",
       "South             337458     1723016  333620           272813  ...     230061   \n",
       "West              260221     1327060  257352           212043  ...     178200   \n",
       "\n",
       "department  international  meat seafood  missing  other  pantry  \\\n",
       "region                                                            \n",
       "Midwest             60666        158260    15563   7983  420334   \n",
       "Northeast           44678        118571    11512   6268  312731   \n",
       "South               84649        224120    21787  11579  591754   \n",
       "West                65998        173830    15906   8581  457886   \n",
       "\n",
       "department  personal care   pets  produce  snacks  \n",
       "region                                             \n",
       "Midwest            100398  21358  2134115  645143  \n",
       "Northeast           74765  17734  1593004  493154  \n",
       "South              142496  29909  3027476  916780  \n",
       "West               106647  24059  2324678  711329  \n",
       "\n",
       "[4 rows x 21 columns]"
      ]
     },
     "execution_count": 88,
     "metadata": {},
     "output_type": "execute_result"
    }
   ],
   "source": [
    "#Checking data\n",
    "region_department"
   ]
  },
  {
   "cell_type": "code",
   "execution_count": 89,
   "id": "616d6540-89fc-4fa0-859a-aed0a836eddb",
   "metadata": {},
   "outputs": [
    {
     "data": {
      "text/plain": [
       "Text(0, 0.5, 'Count')"
      ]
     },
     "execution_count": 89,
     "metadata": {},
     "output_type": "execute_result"
    },
    {
     "data": {
      "text/plain": [
       "<Figure size 3000x2000 with 0 Axes>"
      ]
     },
     "metadata": {},
     "output_type": "display_data"
    },
    {
     "data": {
      "image/png": "[encoded data removed]",
      "text/plain": [
       "<Figure size 640x480 with 1 Axes>"
      ]
     },
     "metadata": {},
     "output_type": "display_data"
    }
   ],
   "source": [
    "#Creating bar chart to visualise the data distribution\n",
    "\n",
    "bar_goods=plt.figure(figsize=(30,20))\n",
    "region_department.plot(kind='bar')\n",
    "\n",
    "# Add Title and tags\n",
    "plt.title('Purchase goods by age group')\n",
    "plt.xlabel('Goods')\n",
    "plt.ylabel('Count')"
   ]
  },
  {
   "cell_type": "code",
   "execution_count": 90,
   "id": "f9307245-6a4e-4945-afb1-542bd59465f6",
   "metadata": {},
   "outputs": [],
   "source": [
    "# As the graphic contains too much information I am selecting the departments with over 100K counts\n",
    "\n",
    "departments_of_interest = ['produce', 'dairy eggs', 'snacks', 'beverages', 'frozen', 'pantry', 'bakery', 'canned food', 'deli']"
   ]
  },
  {
   "cell_type": "code",
   "execution_count": 91,
   "id": "545c44e6-5667-4506-9b8c-8c67a32bf168",
   "metadata": {},
   "outputs": [],
   "source": [
    "# Filtering DF including only the department information needed\n",
    "\n",
    "filter_df_total_high_dept= df_total_high_dept[df_total_high_dept['department'].isin(departments_of_interest)]"
   ]
  },
  {
   "cell_type": "code",
   "execution_count": 92,
   "id": "c96b7213-38ed-494d-ad7a-f323344b7329",
   "metadata": {},
   "outputs": [],
   "source": [
    "# Create the crosstab\n",
    "\n",
    "region_department2 = pd.crosstab(filter_df_total_high_dept['region'], filter_df_total_high_dept['department'], dropna=False)"
   ]
  },
  {
   "cell_type": "code",
   "execution_count": 93,
   "id": "cc408055-37d6-49f5-a1fc-cc43211b8600",
   "metadata": {},
   "outputs": [
    {
     "data": {
      "text/plain": [
       "Text(0, 0.5, 'Count')"
      ]
     },
     "execution_count": 93,
     "metadata": {},
     "output_type": "execute_result"
    },
    {
     "data": {
      "text/plain": [
       "<Figure size 1500x600 with 0 Axes>"
      ]
     },
     "metadata": {},
     "output_type": "display_data"
    },
    {
     "data": {
      "image/png": "[encoded data removed]",
      "text/plain": [
       "<Figure size 640x480 with 1 Axes>"
      ]
     },
     "metadata": {},
     "output_type": "display_data"
    }
   ],
   "source": [
    "#Creating bar chart to visualise the data distribution\n",
    "\n",
    "bar_goods=plt.figure(figsize=(15,6))\n",
    "region_department2.plot(kind='bar')\n",
    "\n",
    "# Add Title and tags\n",
    "plt.title('Purchase goods by region')\n",
    "plt.xlabel('Goods')\n",
    "plt.ylabel('Count')"
   ]
  },
  {
   "cell_type": "markdown",
   "id": "dcc791e8-13c7-4616-a86d-137553e53e0d",
   "metadata": {},
   "source": [
    "# OBSERVATIONS\n",
    "\n",
    "**Midwest**: Produce goods have the highest count, followed by dairy eggs and snacks. Deli, and bakery have relatively lower counts. **Northeast**: Produce goods have the highest count, followed by dairy eggs and snacks. Deli, and bakery have relatively lower counts. **South**: Produce goods have the highest count, followed by dairy eggs and snacks. Deli, and bakery have relatively lower counts. **West**: Produce goods have the highest count, followed by dairy eggs and snacks. Deli, and bakery have relatively lower counts.\r\n",
    "*\r\n",
    "Overall, Produce is the most frequently purchased across all regions, with dairy eggs and snacks also being popular. Bakery and Deli items have lower purchase counts in comparis*on."
   ]
  },
  {
   "cell_type": "markdown",
   "id": "ca4b2d81-9a3c-43e2-8fbb-1ac679a1bbfc",
   "metadata": {},
   "source": [
    "# QUESTION 9. ADDITTIONAL CHARTS"
   ]
  },
  {
   "cell_type": "code",
   "execution_count": 94,
   "id": "64f51213-3aa1-406a-b39d-942f4dbcb7d5",
   "metadata": {},
   "outputs": [],
   "source": [
    "# Creating crosstab to anlyse distribution between age groups and regions\n",
    "\n",
    "age_region=pd.crosstab(df_total_high_dept['region'],df_total_high_dept['age_group'],dropna=False)"
   ]
  },
  {
   "cell_type": "code",
   "execution_count": 95,
   "id": "7cd0301f-f471-45a1-886c-60e3eb1784ea",
   "metadata": {},
   "outputs": [
    {
     "data": {
      "text/html": [
       "<div>\n",
       "<style scoped>\n",
       "    .dataframe tbody tr th:only-of-type {\n",
       "        vertical-align: middle;\n",
       "    }\n",
       "\n",
       "    .dataframe tbody tr th {\n",
       "        vertical-align: top;\n",
       "    }\n",
       "\n",
       "    .dataframe thead th {\n",
       "        text-align: right;\n",
       "    }\n",
       "</style>\n",
       "<table border=\"1\" class=\"dataframe\">\n",
       "  <thead>\n",
       "    <tr style=\"text-align: right;\">\n",
       "      <th>age_group</th>\n",
       "      <th>Middle-aged Adult</th>\n",
       "      <th>Senior</th>\n",
       "      <th>Young</th>\n",
       "      <th>Young- Adult</th>\n",
       "    </tr>\n",
       "    <tr>\n",
       "      <th>region</th>\n",
       "      <th></th>\n",
       "      <th></th>\n",
       "      <th></th>\n",
       "      <th></th>\n",
       "    </tr>\n",
       "  </thead>\n",
       "  <tbody>\n",
       "    <tr>\n",
       "      <th>Midwest</th>\n",
       "      <td>3443696</td>\n",
       "      <td>2356770</td>\n",
       "      <td>340217</td>\n",
       "      <td>1120830</td>\n",
       "    </tr>\n",
       "    <tr>\n",
       "      <th>Northeast</th>\n",
       "      <td>2544196</td>\n",
       "      <td>1809013</td>\n",
       "      <td>253481</td>\n",
       "      <td>857995</td>\n",
       "    </tr>\n",
       "    <tr>\n",
       "      <th>South</th>\n",
       "      <td>4823008</td>\n",
       "      <td>3361229</td>\n",
       "      <td>494075</td>\n",
       "      <td>1632827</td>\n",
       "    </tr>\n",
       "    <tr>\n",
       "      <th>West</th>\n",
       "      <td>3736817</td>\n",
       "      <td>2585595</td>\n",
       "      <td>366955</td>\n",
       "      <td>1237860</td>\n",
       "    </tr>\n",
       "  </tbody>\n",
       "</table>\n",
       "</div>"
      ],
      "text/plain": [
       "age_group  Middle-aged Adult   Senior  Young   Young- Adult\n",
       "region                                                     \n",
       "Midwest              3443696  2356770  340217       1120830\n",
       "Northeast            2544196  1809013  253481        857995\n",
       "South                4823008  3361229  494075       1632827\n",
       "West                 3736817  2585595  366955       1237860"
      ]
     },
     "execution_count": 95,
     "metadata": {},
     "output_type": "execute_result"
    }
   ],
   "source": [
    "# Checking data \n",
    "\n",
    "age_region"
   ]
  },
  {
   "cell_type": "code",
   "execution_count": 96,
   "id": "f5753f7b-2bea-4fc5-a5c4-01b6691cf219",
   "metadata": {},
   "outputs": [
    {
     "data": {
      "image/png": "[encoded data removed]",
      "text/plain": [
       "<Figure size 1000x600 with 1 Axes>"
      ]
     },
     "metadata": {},
     "output_type": "display_data"
    }
   ],
   "source": [
    "#Creating chart\n",
    "\n",
    "age_region.plot(kind='bar', stacked=True, figsize=(10, 6))\n",
    "\n",
    "# Title and tags\n",
    "plt.title('Age distribution by Region')\n",
    "plt.xlabel('Region')\n",
    "plt.ylabel('Age_Group Count')\n",
    "\n",
    "# Exporting data\n",
    "\n",
    "plt.savefig(os.path.join(path, '04 Analysis', 'Visualizations', 'age_region.png'))"
   ]
  },
  {
   "cell_type": "code",
   "execution_count": 97,
   "id": "4783dc13-e860-4d59-ac83-5dff38e21a8d",
   "metadata": {},
   "outputs": [],
   "source": [
    "# Creating crosstab to anlyse distribution between marital_status and regions\n",
    "\n",
    "marital_region=pd.crosstab(df_total_high_dept['region'],df_total_high_dept['marital_status'],dropna=False)"
   ]
  },
  {
   "cell_type": "code",
   "execution_count": 98,
   "id": "2d7cee3a-c5fb-4281-af3c-5bcca3f2e33c",
   "metadata": {},
   "outputs": [
    {
     "data": {
      "text/html": [
       "<div>\n",
       "<style scoped>\n",
       "    .dataframe tbody tr th:only-of-type {\n",
       "        vertical-align: middle;\n",
       "    }\n",
       "\n",
       "    .dataframe tbody tr th {\n",
       "        vertical-align: top;\n",
       "    }\n",
       "\n",
       "    .dataframe thead th {\n",
       "        text-align: right;\n",
       "    }\n",
       "</style>\n",
       "<table border=\"1\" class=\"dataframe\">\n",
       "  <thead>\n",
       "    <tr style=\"text-align: right;\">\n",
       "      <th>marital_status</th>\n",
       "      <th>divorced/widowed</th>\n",
       "      <th>living with parents and siblings</th>\n",
       "      <th>married</th>\n",
       "      <th>single</th>\n",
       "    </tr>\n",
       "    <tr>\n",
       "      <th>region</th>\n",
       "      <th></th>\n",
       "      <th></th>\n",
       "      <th></th>\n",
       "      <th></th>\n",
       "    </tr>\n",
       "  </thead>\n",
       "  <tbody>\n",
       "    <tr>\n",
       "      <th>Midwest</th>\n",
       "      <td>617198</td>\n",
       "      <td>351435</td>\n",
       "      <td>5087262</td>\n",
       "      <td>1205618</td>\n",
       "    </tr>\n",
       "    <tr>\n",
       "      <th>Northeast</th>\n",
       "      <td>478767</td>\n",
       "      <td>256430</td>\n",
       "      <td>3853773</td>\n",
       "      <td>875715</td>\n",
       "    </tr>\n",
       "    <tr>\n",
       "      <th>South</th>\n",
       "      <td>877314</td>\n",
       "      <td>505457</td>\n",
       "      <td>7223749</td>\n",
       "      <td>1704619</td>\n",
       "    </tr>\n",
       "    <tr>\n",
       "      <th>West</th>\n",
       "      <td>671992</td>\n",
       "      <td>367850</td>\n",
       "      <td>5578927</td>\n",
       "      <td>1308458</td>\n",
       "    </tr>\n",
       "  </tbody>\n",
       "</table>\n",
       "</div>"
      ],
      "text/plain": [
       "marital_status  divorced/widowed  living with parents and siblings  married  \\\n",
       "region                                                                        \n",
       "Midwest                   617198                            351435  5087262   \n",
       "Northeast                 478767                            256430  3853773   \n",
       "South                     877314                            505457  7223749   \n",
       "West                      671992                            367850  5578927   \n",
       "\n",
       "marital_status   single  \n",
       "region                   \n",
       "Midwest         1205618  \n",
       "Northeast        875715  \n",
       "South           1704619  \n",
       "West            1308458  "
      ]
     },
     "execution_count": 98,
     "metadata": {},
     "output_type": "execute_result"
    }
   ],
   "source": [
    "# Checking data \n",
    "\n",
    "marital_region"
   ]
  },
  {
   "cell_type": "code",
   "execution_count": 99,
   "id": "1611a08a-8552-4a42-8332-6c4886c94c1e",
   "metadata": {},
   "outputs": [
    {
     "data": {
      "image/png": "[encoded data removed]",
      "text/plain": [
       "<Figure size 1000x600 with 1 Axes>"
      ]
     },
     "metadata": {},
     "output_type": "display_data"
    }
   ],
   "source": [
    "#Creating chart \n",
    "\n",
    "marital_region.plot(kind='bar', stacked=True, figsize=(10, 6))\n",
    "\n",
    "# Title and tags\n",
    "plt.title('Marital Status by Region')\n",
    "plt.xlabel('Region')\n",
    "plt.ylabel('Age_Group Count')\n",
    "\n",
    "#Exporting data\n",
    "\n",
    "plt.savefig(os.path.join(path, '04 Analysis', 'Visualizations', 'marital_region.png'))"
   ]
  },
  {
   "cell_type": "code",
   "execution_count": 100,
   "id": "504ea6f1-34a6-4fdb-9bc2-645ab4e1cee4",
   "metadata": {},
   "outputs": [],
   "source": [
    "# Creating crosstab to anlyse distribution between loyalty_card and Spender_flag\n",
    "\n",
    "loyalty_spending=pd.crosstab(df_total_high_dept['loyalty_flag'],df_total_high_dept['spending_flag'],dropna=False)\n"
   ]
  },
  {
   "cell_type": "code",
   "execution_count": 101,
   "id": "1dba268c-e763-4a3a-98bb-919595371fcf",
   "metadata": {},
   "outputs": [
    {
     "data": {
      "text/html": [
       "<div>\n",
       "<style scoped>\n",
       "    .dataframe tbody tr th:only-of-type {\n",
       "        vertical-align: middle;\n",
       "    }\n",
       "\n",
       "    .dataframe tbody tr th {\n",
       "        vertical-align: top;\n",
       "    }\n",
       "\n",
       "    .dataframe thead th {\n",
       "        text-align: right;\n",
       "    }\n",
       "</style>\n",
       "<table border=\"1\" class=\"dataframe\">\n",
       "  <thead>\n",
       "    <tr style=\"text-align: right;\">\n",
       "      <th>spending_flag</th>\n",
       "      <th>High spender</th>\n",
       "      <th>Low spender</th>\n",
       "    </tr>\n",
       "    <tr>\n",
       "      <th>loyalty_flag</th>\n",
       "      <th></th>\n",
       "      <th></th>\n",
       "    </tr>\n",
       "  </thead>\n",
       "  <tbody>\n",
       "    <tr>\n",
       "      <th>Loyal customer</th>\n",
       "      <td>216600</td>\n",
       "      <td>10067493</td>\n",
       "    </tr>\n",
       "    <tr>\n",
       "      <th>New customer</th>\n",
       "      <td>84011</td>\n",
       "      <td>4719684</td>\n",
       "    </tr>\n",
       "    <tr>\n",
       "      <th>Regular customer</th>\n",
       "      <td>302814</td>\n",
       "      <td>15573962</td>\n",
       "    </tr>\n",
       "  </tbody>\n",
       "</table>\n",
       "</div>"
      ],
      "text/plain": [
       "spending_flag     High spender  Low spender\n",
       "loyalty_flag                               \n",
       "Loyal customer          216600     10067493\n",
       "New customer             84011      4719684\n",
       "Regular customer        302814     15573962"
      ]
     },
     "execution_count": 101,
     "metadata": {},
     "output_type": "execute_result"
    }
   ],
   "source": [
    "# Checking data on loyalty_spending\n",
    "\n",
    "loyalty_spending"
   ]
  },
  {
   "cell_type": "code",
   "execution_count": 102,
   "id": "f6f2054c-b129-4777-b22c-98e6a3171d36",
   "metadata": {},
   "outputs": [
    {
     "data": {
      "image/png": "[encoded data removed]",
      "text/plain": [
       "<Figure size 1000x500 with 1 Axes>"
      ]
     },
     "metadata": {},
     "output_type": "display_data"
    }
   ],
   "source": [
    "#Creating chart \n",
    "\n",
    "loyalty_spending.plot(kind='bar', figsize=(10,5))\n",
    "\n",
    "# Title and tags\n",
    "plt.title('Loyalty and spending')\n",
    "plt.xlabel('spending_flag')\n",
    "plt.ylabel('loyalty_flag')\n",
    "\n",
    "#Exporting\n",
    "plt.savefig(os.path.join(path, '04 Analysis', 'Visualizations', 'loyalty_spending.png'))"
   ]
  },
  {
   "cell_type": "code",
   "execution_count": 103,
   "id": "056d7b2b-4ea6-4b80-b8ae-de3c457beded",
   "metadata": {},
   "outputs": [],
   "source": [
    "# Creating crosstab to check teh order_frequency and age_groups\n",
    "\n",
    "order_age=pd.crosstab(df_total_high_dept['order_frequency'],df_total_high_dept['age_group'],dropna=False)"
   ]
  },
  {
   "cell_type": "code",
   "execution_count": 104,
   "id": "5698d451-4be8-4bb8-b935-d1ff635338a7",
   "metadata": {},
   "outputs": [
    {
     "data": {
      "text/html": [
       "<div>\n",
       "<style scoped>\n",
       "    .dataframe tbody tr th:only-of-type {\n",
       "        vertical-align: middle;\n",
       "    }\n",
       "\n",
       "    .dataframe tbody tr th {\n",
       "        vertical-align: top;\n",
       "    }\n",
       "\n",
       "    .dataframe thead th {\n",
       "        text-align: right;\n",
       "    }\n",
       "</style>\n",
       "<table border=\"1\" class=\"dataframe\">\n",
       "  <thead>\n",
       "    <tr style=\"text-align: right;\">\n",
       "      <th>age_group</th>\n",
       "      <th>Middle-aged Adult</th>\n",
       "      <th>Senior</th>\n",
       "      <th>Young</th>\n",
       "      <th>Young- Adult</th>\n",
       "    </tr>\n",
       "    <tr>\n",
       "      <th>order_frequency</th>\n",
       "      <th></th>\n",
       "      <th></th>\n",
       "      <th></th>\n",
       "      <th></th>\n",
       "    </tr>\n",
       "  </thead>\n",
       "  <tbody>\n",
       "    <tr>\n",
       "      <th>Frequent customer</th>\n",
       "      <td>9945153</td>\n",
       "      <td>6941627</td>\n",
       "      <td>997289</td>\n",
       "      <td>3320407</td>\n",
       "    </tr>\n",
       "    <tr>\n",
       "      <th>Non-frequent customer</th>\n",
       "      <td>1363788</td>\n",
       "      <td>942929</td>\n",
       "      <td>139424</td>\n",
       "      <td>448834</td>\n",
       "    </tr>\n",
       "    <tr>\n",
       "      <th>Regular customer</th>\n",
       "      <td>3238776</td>\n",
       "      <td>2228051</td>\n",
       "      <td>318015</td>\n",
       "      <td>1080271</td>\n",
       "    </tr>\n",
       "  </tbody>\n",
       "</table>\n",
       "</div>"
      ],
      "text/plain": [
       "age_group              Middle-aged Adult   Senior  Young   Young- Adult\n",
       "order_frequency                                                        \n",
       "Frequent customer                9945153  6941627  997289       3320407\n",
       "Non-frequent customer            1363788   942929  139424        448834\n",
       "Regular customer                 3238776  2228051  318015       1080271"
      ]
     },
     "execution_count": 104,
     "metadata": {},
     "output_type": "execute_result"
    }
   ],
   "source": [
    "# Checking data on loyalty_spending\n",
    "\n",
    "order_age"
   ]
  },
  {
   "cell_type": "code",
   "execution_count": 105,
   "id": "0a4f482c-d278-4431-a85c-293014510e8e",
   "metadata": {},
   "outputs": [
    {
     "data": {
      "image/png": "[encoded data removed]",
      "text/plain": [
       "<Figure size 1500x800 with 1 Axes>"
      ]
     },
     "metadata": {},
     "output_type": "display_data"
    }
   ],
   "source": [
    "#Creating chart \n",
    "\n",
    "order_age.plot(kind='bar', figsize=(15,8))\n",
    "\n",
    "# Title and tags\n",
    "plt.title('Order frequency versus age groups')\n",
    "plt.savefig(os.path.join(path, '04 Analysis', 'Visualizations', 'order_age.png'))"
   ]
  },
  {
   "cell_type": "code",
   "execution_count": 106,
   "id": "dfd2de54-5d18-42ea-a11f-601d4f2f0105",
   "metadata": {},
   "outputs": [],
   "source": [
    "# Creating crosstab to check the region and order_frequency\n",
    "\n",
    "region_frequency=pd.crosstab(df_total_high_dept['region'],df_total_high_dept['order_frequency'],dropna=False)"
   ]
  },
  {
   "cell_type": "code",
   "execution_count": 107,
   "id": "eb0ce64b-3f1e-4bfe-ad5e-6203e4339ce5",
   "metadata": {},
   "outputs": [
    {
     "data": {
      "text/html": [
       "<div>\n",
       "<style scoped>\n",
       "    .dataframe tbody tr th:only-of-type {\n",
       "        vertical-align: middle;\n",
       "    }\n",
       "\n",
       "    .dataframe tbody tr th {\n",
       "        vertical-align: top;\n",
       "    }\n",
       "\n",
       "    .dataframe thead th {\n",
       "        text-align: right;\n",
       "    }\n",
       "</style>\n",
       "<table border=\"1\" class=\"dataframe\">\n",
       "  <thead>\n",
       "    <tr style=\"text-align: right;\">\n",
       "      <th>order_frequency</th>\n",
       "      <th>Frequent customer</th>\n",
       "      <th>Non-frequent customer</th>\n",
       "      <th>Regular customer</th>\n",
       "    </tr>\n",
       "    <tr>\n",
       "      <th>region</th>\n",
       "      <th></th>\n",
       "      <th></th>\n",
       "      <th></th>\n",
       "    </tr>\n",
       "  </thead>\n",
       "  <tbody>\n",
       "    <tr>\n",
       "      <th>Midwest</th>\n",
       "      <td>4935393</td>\n",
       "      <td>690030</td>\n",
       "      <td>1636090</td>\n",
       "    </tr>\n",
       "    <tr>\n",
       "      <th>Northeast</th>\n",
       "      <td>3740982</td>\n",
       "      <td>496911</td>\n",
       "      <td>1226792</td>\n",
       "    </tr>\n",
       "    <tr>\n",
       "      <th>South</th>\n",
       "      <td>7073789</td>\n",
       "      <td>968006</td>\n",
       "      <td>2269344</td>\n",
       "    </tr>\n",
       "    <tr>\n",
       "      <th>West</th>\n",
       "      <td>5454312</td>\n",
       "      <td>740028</td>\n",
       "      <td>1732887</td>\n",
       "    </tr>\n",
       "  </tbody>\n",
       "</table>\n",
       "</div>"
      ],
      "text/plain": [
       "order_frequency  Frequent customer  Non-frequent customer  Regular customer\n",
       "region                                                                     \n",
       "Midwest                    4935393                 690030           1636090\n",
       "Northeast                  3740982                 496911           1226792\n",
       "South                      7073789                 968006           2269344\n",
       "West                       5454312                 740028           1732887"
      ]
     },
     "execution_count": 107,
     "metadata": {},
     "output_type": "execute_result"
    }
   ],
   "source": [
    "# Checking data from region_frequency\n",
    "\n",
    "region_frequency"
   ]
  },
  {
   "cell_type": "code",
   "execution_count": 108,
   "id": "30c3d953-f888-4aa4-bb1c-9560c47937c1",
   "metadata": {},
   "outputs": [
    {
     "data": {
      "image/png": "[encoded data removed]",
      "text/plain": [
       "<Figure size 1500x800 with 1 Axes>"
      ]
     },
     "metadata": {},
     "output_type": "display_data"
    }
   ],
   "source": [
    "#Creating chart for region_frequency\n",
    "\n",
    "region_frequency.plot(kind='bar', figsize=(15,8))\n",
    "\n",
    "# Title and tags\n",
    "plt.title('Order frequency per region')\n",
    "plt.savefig(os.path.join(path, '04 Analysis', 'Visualizations', 'region_frequency.png'))"
   ]
  },
  {
   "cell_type": "code",
   "execution_count": 109,
   "id": "15aa800b-d594-4af8-9635-6d3755ea56e6",
   "metadata": {},
   "outputs": [],
   "source": [
    "# Creating crosstab to check the region and spending flag\n",
    "\n",
    "region_spending_flag=pd.crosstab(df_total_high_dept['region'],df_total_high_dept['spending_flag'],dropna=False)"
   ]
  },
  {
   "cell_type": "code",
   "execution_count": 110,
   "id": "c8655716-4181-4c3b-bff2-3fcf5140ee4a",
   "metadata": {},
   "outputs": [
    {
     "data": {
      "text/html": [
       "<div>\n",
       "<style scoped>\n",
       "    .dataframe tbody tr th:only-of-type {\n",
       "        vertical-align: middle;\n",
       "    }\n",
       "\n",
       "    .dataframe tbody tr th {\n",
       "        vertical-align: top;\n",
       "    }\n",
       "\n",
       "    .dataframe thead th {\n",
       "        text-align: right;\n",
       "    }\n",
       "</style>\n",
       "<table border=\"1\" class=\"dataframe\">\n",
       "  <thead>\n",
       "    <tr style=\"text-align: right;\">\n",
       "      <th>spending_flag</th>\n",
       "      <th>High spender</th>\n",
       "      <th>Low spender</th>\n",
       "    </tr>\n",
       "    <tr>\n",
       "      <th>region</th>\n",
       "      <th></th>\n",
       "      <th></th>\n",
       "    </tr>\n",
       "  </thead>\n",
       "  <tbody>\n",
       "    <tr>\n",
       "      <th>Midwest</th>\n",
       "      <td>148678</td>\n",
       "      <td>7112835</td>\n",
       "    </tr>\n",
       "    <tr>\n",
       "      <th>Northeast</th>\n",
       "      <td>103120</td>\n",
       "      <td>5361565</td>\n",
       "    </tr>\n",
       "    <tr>\n",
       "      <th>South</th>\n",
       "      <td>199339</td>\n",
       "      <td>10111800</td>\n",
       "    </tr>\n",
       "    <tr>\n",
       "      <th>West</th>\n",
       "      <td>152288</td>\n",
       "      <td>7774939</td>\n",
       "    </tr>\n",
       "  </tbody>\n",
       "</table>\n",
       "</div>"
      ],
      "text/plain": [
       "spending_flag  High spender  Low spender\n",
       "region                                  \n",
       "Midwest              148678      7112835\n",
       "Northeast            103120      5361565\n",
       "South                199339     10111800\n",
       "West                 152288      7774939"
      ]
     },
     "execution_count": 110,
     "metadata": {},
     "output_type": "execute_result"
    }
   ],
   "source": [
    "# Checking data from region_spending_flag\n",
    "\n",
    "region_spending_flag"
   ]
  },
  {
   "cell_type": "code",
   "execution_count": 111,
   "id": "bcf2f231-ef90-4880-96bd-ca1ebae77676",
   "metadata": {},
   "outputs": [
    {
     "data": {
      "image/png": "[encoded data removed]",
      "text/plain": [
       "<Figure size 1500x800 with 1 Axes>"
      ]
     },
     "metadata": {},
     "output_type": "display_data"
    }
   ],
   "source": [
    "#Creating chart for region_spending_flag\n",
    "\n",
    "region_spending_flag.plot(kind='bar', figsize=(15,8))\n",
    "\n",
    "# Title and tags\n",
    "plt.title('Spending Flag per region')\n",
    "plt.savefig(os.path.join(path, '04 Analysis', 'Visualizations', 'region_spending_flag.png'))"
   ]
  },
  {
   "cell_type": "code",
   "execution_count": null,
   "id": "548b5c2a-20fd-483c-8ed7-ea2811a40508",
   "metadata": {},
   "outputs": [],
   "source": []
  },
  {
   "cell_type": "code",
   "execution_count": null,
   "id": "f5cb7d46-2590-4af1-97e4-1b140fe9232b",
   "metadata": {},
   "outputs": [],
   "source": []
  },
  {
   "cell_type": "code",
   "execution_count": null,
   "id": "7fe919de-a22d-4cc3-a1eb-87a368d3a644",
   "metadata": {},
   "outputs": [],
   "source": []
  },
  {
   "cell_type": "code",
   "execution_count": null,
   "id": "527b0da9-2dc4-40ed-a767-b34747cd6a52",
   "metadata": {},
   "outputs": [],
   "source": []
  },
  {
   "cell_type": "code",
   "execution_count": null,
   "id": "e785d4f3-2795-4f42-a89e-39666aed0220",
   "metadata": {},
   "outputs": [],
   "source": []
  },
  {
   "cell_type": "code",
   "execution_count": null,
   "id": "f8b9e78a-30ce-4f90-8a2c-113ca3818a1f",
   "metadata": {},
   "outputs": [],
   "source": []
  },
  {
   "cell_type": "code",
   "execution_count": null,
   "id": "99a5d276-a8d4-4d70-98e6-2925fede4b63",
   "metadata": {},
   "outputs": [],
   "source": []
  },
  {
   "cell_type": "markdown",
   "id": "ca9ba8a4-eca3-40c6-900c-8f1b4c61cef7",
   "metadata": {},
   "source": []
  }
 ],
 "metadata": {
  "kernelspec": {
   "display_name": "Python 3 (ipykernel)",
   "language": "python",
   "name": "python3"
  },
  "language_info": {
   "codemirror_mode": {
    "name": "ipython",
    "version": 3
   },
   "file_extension": ".py",
   "mimetype": "text/x-python",
   "name": "python",
   "nbconvert_exporter": "python",
   "pygments_lexer": "ipython3",
   "version": "3.11.7"
  }
 },
 "nbformat": 4,
 "nbformat_minor": 5
}
