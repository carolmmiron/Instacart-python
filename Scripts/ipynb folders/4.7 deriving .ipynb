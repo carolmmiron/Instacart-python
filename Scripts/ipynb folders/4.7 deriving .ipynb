{
 "cells": [
  {
   "cell_type": "markdown",
   "id": "1eee8bd7-269a-494f-8986-58d797504d67",
   "metadata": {},
   "source": [
    "# ANWERS 4.7 DERIVING"
   ]
  },
  {
   "cell_type": "code",
   "execution_count": null,
   "id": "2697119e-8852-499d-b2a6-13255309f954",
   "metadata": {},
   "outputs": [],
   "source": [
    "#Import libraries\n",
    "\n",
    "import pandas as pd\n",
    "import numpy as np\n",
    "import os"
   ]
  },
  {
   "cell_type": "code",
   "execution_count": null,
   "id": "90ed3922-a200-4ae9-89d0-27afe25e9687",
   "metadata": {},
   "outputs": [],
   "source": [
    "#create a shortcut to access the Instacart Basket data as path\n",
    "\n",
    "path= r'C:\\\\Users\\\\carol\\\\Documents\\\\20.06 Instacart Basket Analysis'"
   ]
  },
  {
   "cell_type": "code",
   "execution_count": null,
   "id": "4d919a25-5f57-45e3-8ceb-a04bd1e2f36b",
   "metadata": {},
   "outputs": [],
   "source": [
    "# import ords_products_merge DF \n",
    "\n",
    "ords_prods_merge = pd.read_pickle(os.path.join(path,'02 Data','Prepared Data','orders_products_merge.pkl'))"
   ]
  },
  {
   "cell_type": "markdown",
   "id": "39b0ef88-a395-405f-a9fd-d6714cda933d",
   "metadata": {},
   "source": [
    "# Create a SUBSET for 1 000 000 rows"
   ]
  },
  {
   "cell_type": "code",
   "execution_count": null,
   "id": "0f298850-2164-489e-98b4-7b2a5abca3c8",
   "metadata": {},
   "outputs": [],
   "source": [
    "df = ords_prods_merge[:1000000]"
   ]
  },
  {
   "cell_type": "code",
   "execution_count": null,
   "id": "7339dffa-1b0a-4edd-b7b0-7b4969d366e0",
   "metadata": {},
   "outputs": [],
   "source": [
    "# checking the df shape \n",
    "df.shape"
   ]
  },
  {
   "cell_type": "code",
   "execution_count": null,
   "id": "3a174257-0b43-4c64-b86d-157fa5f313fd",
   "metadata": {},
   "outputs": [],
   "source": [
    "#Creating a price tag label\n",
    "\n",
    "def price_label (row):\n",
    "    \n",
    "    if row['prices']<= 5:\n",
    "        return 'Low-range product'\n",
    "    elif (row['prices']> 5) and (row['prices']<= 15):\n",
    "        return 'Mid-range product'\n",
    "    elif row['prices']> 15:\n",
    "        return 'High-range product'\n",
    "    else: return 'Not enough data' "
   ]
  },
  {
   "cell_type": "code",
   "execution_count": null,
   "id": "f97791dd-403b-4936-adac-8564b0041962",
   "metadata": {},
   "outputs": [],
   "source": [
    "df['price_range'] = df.apply(price_label, axis=1)"
   ]
  },
  {
   "cell_type": "code",
   "execution_count": null,
   "id": "6f77b8f6-75ef-4b7f-97f2-04022b2467a6",
   "metadata": {},
   "outputs": [],
   "source": [
    "# Check price_range value counts\n",
    "\n",
    "df['price_range'].value_counts(dropna=False)"
   ]
  },
  {
   "cell_type": "code",
   "execution_count": null,
   "id": "17861322-0df6-4b82-bb8f-b1265ecb1ac3",
   "metadata": {},
   "outputs": [],
   "source": [
    "#Check the maximus MAX function to review price\n",
    "\n",
    "df['prices'].max()\n"
   ]
  },
  {
   "cell_type": "markdown",
   "id": "42aa9e57-3f2f-468b-b30a-ddb9124b223c",
   "metadata": {},
   "source": [
    "# USING IF-STATEMENT WITH THE LOC() FUNCTION "
   ]
  },
  {
   "cell_type": "code",
   "execution_count": null,
   "id": "5d0ee3f1-9960-44db-b598-f81620ccbea5",
   "metadata": {},
   "outputs": [],
   "source": [
    "df.loc[df['prices']> 15,'price_range_loc']='High range product'\n",
    "df.loc[(df['prices']<= 15)&(df['prices']>5),'price_range_loc']='Mid range product'\n",
    "df.loc[df['prices']<= 5,'price_range_loc']='Low range product'\n",
    "df['price_range_loc'].value_counts(dropna=False)"
   ]
  },
  {
   "cell_type": "markdown",
   "id": "2a1930cf-b787-494e-a179-4672b7e9bbb3",
   "metadata": {},
   "source": [
    "# STEP 1. CREATE 'PRICE_LABEL' COLUMN"
   ]
  },
  {
   "cell_type": "code",
   "execution_count": null,
   "id": "65442624-ed5d-4511-a173-81ec62b060db",
   "metadata": {},
   "outputs": [],
   "source": [
    "# USING IF-STATEMENT WITH THE LOC() FUNCTION on ords_prods_merge\n",
    "\n",
    "ords_prods_merge.loc[ords_prods_merge['prices'] > 15,'price_range_loc']='High-range product'\n",
    "ords_prods_merge.loc[(ords_prods_merge['prices'] <= 15) & (ords_prods_merge['prices'] > 5 ),'price_range_loc']= 'Mid-Range product'\n",
    "ords_prods_merge.loc[ords_prods_merge['prices'] <=5, 'price_range_loc']= 'Low-range product'\n",
    "ords_prods_merge['price_range_loc'].value_counts(dropna=False)"
   ]
  },
  {
   "cell_type": "code",
   "execution_count": null,
   "id": "fe3b9059-8d05-4dc5-96e1-527cb560c15e",
   "metadata": {},
   "outputs": [],
   "source": [
    "# Using For-Loops with the Instacart DF\n",
    "ords_prods_merge['order_dow'].value_counts(dropna=False)"
   ]
  },
  {
   "cell_type": "markdown",
   "id": "7908ee5d-639d-4d2b-ae5e-a8e07cd799a9",
   "metadata": {},
   "source": [
    "# STEP 2. CREATE AND 'BUSIEST_DAY' COLUMN"
   ]
  },
  {
   "cell_type": "code",
   "execution_count": null,
   "id": "f88cc2b6-8ba7-46f1-8289-3f063faeca32",
   "metadata": {},
   "outputs": [],
   "source": [
    "results=[]\n",
    "\n",
    "for value in ords_prods_merge ['order_dow']:\n",
    "    if value == 0:\n",
    "        results.append('Busiest day')\n",
    "    elif value == 4:\n",
    "        results.append('Least busy')\n",
    "    else:\n",
    "        results.append('Regularly busy')"
   ]
  },
  {
   "cell_type": "code",
   "execution_count": null,
   "id": "b6ae6f31-6063-4ae4-9e2e-36533b6b96fb",
   "metadata": {},
   "outputs": [],
   "source": [
    "# Add the new column to the DataFrame \n",
    "\n",
    "ords_prods_merge['Busiest day'] = results\n",
    "ords_prods_merge['Busiest day'].value_counts(dropna=False)"
   ]
  },
  {
   "cell_type": "code",
   "execution_count": null,
   "id": "c20ba6ea-3346-4658-bf4e-fabf66109424",
   "metadata": {},
   "outputs": [],
   "source": [
    "print(\"Frequency of 'Busiest day':\")\n"
   ]
  },
  {
   "cell_type": "code",
   "execution_count": null,
   "id": "cb1a31fd-122f-4b32-9286-8201adab15bd",
   "metadata": {},
   "outputs": [],
   "source": [
    "# Print the frequency of the original 'order_dow' column\n",
    "\n",
    "print(\"\\nFrequency of 'order_dow':\")\n",
    "print(ords_prods_merge['order_dow'].value_counts())"
   ]
  },
  {
   "cell_type": "markdown",
   "id": "a2852984-79c5-424b-8b44-f187ba22bc2e",
   "metadata": {},
   "source": [
    "# STEP 3: CREATE LABEL for the two 'Busiest days' and 'Slowest days'"
   ]
  },
  {
   "cell_type": "code",
   "execution_count": null,
   "id": "62e28725-9055-459b-8a72-27cfa52e5c6c",
   "metadata": {},
   "outputs": [],
   "source": [
    "#Identify the busiest hours of the day\n",
    "\n",
    "ords_prods_merge['order_hour_of_day'].value_counts(dropna=False)"
   ]
  },
  {
   "cell_type": "markdown",
   "id": "032968d6-02ff-49c7-ba1a-fd0b690be95b",
   "metadata": {},
   "source": [
    "**NOTE** there are 24 inputs. For the time period labels I will set up the 'Most orders' with the 1st 8 results. 'Fewest orders' with the last 8 resulst and the remaining as ' Average orders'"
   ]
  },
  {
   "cell_type": "code",
   "execution_count": null,
   "id": "fec3d748-1446-4dc7-aa2c-9258e8101f4b",
   "metadata": {},
   "outputs": [],
   "source": []
  }
 ],
 "metadata": {
  "kernelspec": {
   "display_name": "Python 3 (ipykernel)",
   "language": "python",
   "name": "python3"
  },
  "language_info": {
   "codemirror_mode": {
    "name": "ipython",
    "version": 3
   },
   "file_extension": ".py",
   "mimetype": "text/x-python",
   "name": "python",
   "nbconvert_exporter": "python",
   "pygments_lexer": "ipython3",
   "version": "3.11.7"
  }
 },
 "nbformat": 4,
 "nbformat_minor": 5
}
