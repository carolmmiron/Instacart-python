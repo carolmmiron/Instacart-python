{
 "cells": [
  {
   "cell_type": "markdown",
   "id": "48358c98-7d0d-4401-8f9d-ab2f2d0de7be",
   "metadata": {},
   "source": [
    "# ANSWERS 4.9 PART 1"
   ]
  },
  {
   "cell_type": "markdown",
   "id": "8e054c13-2374-4cd3-b04f-93349beb9601",
   "metadata": {},
   "source": [
    "# QUESTION 3: IMPORT LIBRARIES"
   ]
  },
  {
   "cell_type": "code",
   "execution_count": 7,
   "id": "b6497dc6-a5dc-4a97-baf1-c58a149a8bbe",
   "metadata": {},
   "outputs": [],
   "source": [
    "# Import libraries\n",
    "\n",
    "import pandas as pd\n",
    "import numpy as np\n",
    "import os\n",
    "import matplotlib.pyplot as plt\n",
    "import seaborn as sns\n",
    "import scipy"
   ]
  },
  {
   "cell_type": "code",
   "execution_count": 8,
   "id": "a61ce6d0-f101-4e65-ad0f-759c1ca4a56c",
   "metadata": {},
   "outputs": [],
   "source": [
    "# Creating path asa shortcut to access the Instacart Basket data\n",
    "\n",
    "path = r'C:\\Users\\carol\\Documents\\20.06 Instacart Basket Analysis'"
   ]
  },
  {
   "cell_type": "code",
   "execution_count": 9,
   "id": "8e5523df-30dd-4e6b-8e75-f05f19b39744",
   "metadata": {},
   "outputs": [],
   "source": [
    "# Importing data from customers.csv \n",
    "\n",
    "customers = pd.read_csv(os.path.join(path,'02 Data','Original Data','customers.csv'))"
   ]
  },
  {
   "cell_type": "markdown",
   "id": "2ff637fd-f7c2-4cda-b119-44ecdb1a7ebb",
   "metadata": {},
   "source": [
    "# QUESTION 4. WRANGLE DATA"
   ]
  },
  {
   "cell_type": "code",
   "execution_count": 10,
   "id": "98246b64-d1df-4119-9630-3ed393380888",
   "metadata": {},
   "outputs": [
    {
     "data": {
      "text/html": [
       "<div>\n",
       "<style scoped>\n",
       "    .dataframe tbody tr th:only-of-type {\n",
       "        vertical-align: middle;\n",
       "    }\n",
       "\n",
       "    .dataframe tbody tr th {\n",
       "        vertical-align: top;\n",
       "    }\n",
       "\n",
       "    .dataframe thead th {\n",
       "        text-align: right;\n",
       "    }\n",
       "</style>\n",
       "<table border=\"1\" class=\"dataframe\">\n",
       "  <thead>\n",
       "    <tr style=\"text-align: right;\">\n",
       "      <th></th>\n",
       "      <th>user_id</th>\n",
       "      <th>First Name</th>\n",
       "      <th>Surnam</th>\n",
       "      <th>Gender</th>\n",
       "      <th>STATE</th>\n",
       "      <th>Age</th>\n",
       "      <th>date_joined</th>\n",
       "      <th>n_dependants</th>\n",
       "      <th>fam_status</th>\n",
       "      <th>income</th>\n",
       "    </tr>\n",
       "  </thead>\n",
       "  <tbody>\n",
       "    <tr>\n",
       "      <th>0</th>\n",
       "      <td>26711</td>\n",
       "      <td>Deborah</td>\n",
       "      <td>Esquivel</td>\n",
       "      <td>Female</td>\n",
       "      <td>Missouri</td>\n",
       "      <td>48</td>\n",
       "      <td>1/1/2017</td>\n",
       "      <td>3</td>\n",
       "      <td>married</td>\n",
       "      <td>165665</td>\n",
       "    </tr>\n",
       "    <tr>\n",
       "      <th>1</th>\n",
       "      <td>33890</td>\n",
       "      <td>Patricia</td>\n",
       "      <td>Hart</td>\n",
       "      <td>Female</td>\n",
       "      <td>New Mexico</td>\n",
       "      <td>36</td>\n",
       "      <td>1/1/2017</td>\n",
       "      <td>0</td>\n",
       "      <td>single</td>\n",
       "      <td>59285</td>\n",
       "    </tr>\n",
       "    <tr>\n",
       "      <th>2</th>\n",
       "      <td>65803</td>\n",
       "      <td>Kenneth</td>\n",
       "      <td>Farley</td>\n",
       "      <td>Male</td>\n",
       "      <td>Idaho</td>\n",
       "      <td>35</td>\n",
       "      <td>1/1/2017</td>\n",
       "      <td>2</td>\n",
       "      <td>married</td>\n",
       "      <td>99568</td>\n",
       "    </tr>\n",
       "    <tr>\n",
       "      <th>3</th>\n",
       "      <td>125935</td>\n",
       "      <td>Michelle</td>\n",
       "      <td>Hicks</td>\n",
       "      <td>Female</td>\n",
       "      <td>Iowa</td>\n",
       "      <td>40</td>\n",
       "      <td>1/1/2017</td>\n",
       "      <td>0</td>\n",
       "      <td>single</td>\n",
       "      <td>42049</td>\n",
       "    </tr>\n",
       "    <tr>\n",
       "      <th>4</th>\n",
       "      <td>130797</td>\n",
       "      <td>Ann</td>\n",
       "      <td>Gilmore</td>\n",
       "      <td>Female</td>\n",
       "      <td>Maryland</td>\n",
       "      <td>26</td>\n",
       "      <td>1/1/2017</td>\n",
       "      <td>1</td>\n",
       "      <td>married</td>\n",
       "      <td>40374</td>\n",
       "    </tr>\n",
       "  </tbody>\n",
       "</table>\n",
       "</div>"
      ],
      "text/plain": [
       "   user_id First Name    Surnam  Gender       STATE  Age date_joined  \\\n",
       "0    26711    Deborah  Esquivel  Female    Missouri   48    1/1/2017   \n",
       "1    33890   Patricia      Hart  Female  New Mexico   36    1/1/2017   \n",
       "2    65803    Kenneth    Farley    Male       Idaho   35    1/1/2017   \n",
       "3   125935   Michelle     Hicks  Female        Iowa   40    1/1/2017   \n",
       "4   130797        Ann   Gilmore  Female    Maryland   26    1/1/2017   \n",
       "\n",
       "   n_dependants fam_status  income  \n",
       "0             3    married  165665  \n",
       "1             0     single   59285  \n",
       "2             2    married   99568  \n",
       "3             0     single   42049  \n",
       "4             1    married   40374  "
      ]
     },
     "execution_count": 10,
     "metadata": {},
     "output_type": "execute_result"
    }
   ],
   "source": [
    "# Review customers.csv heading \n",
    "\n",
    "customers.head()"
   ]
  },
  {
   "cell_type": "code",
   "execution_count": 11,
   "id": "8245c0c0-18f7-46a9-8569-4ea8dc628510",
   "metadata": {},
   "outputs": [
    {
     "data": {
      "text/plain": [
       "<bound method NDFrame.describe of        First Name    Surnam  Gender           STATE  Age date_joined  \\\n",
       "0         Deborah  Esquivel  Female        Missouri   48    1/1/2017   \n",
       "1        Patricia      Hart  Female      New Mexico   36    1/1/2017   \n",
       "2         Kenneth    Farley    Male           Idaho   35    1/1/2017   \n",
       "3        Michelle     Hicks  Female            Iowa   40    1/1/2017   \n",
       "4             Ann   Gilmore  Female        Maryland   26    1/1/2017   \n",
       "...           ...       ...     ...             ...  ...         ...   \n",
       "206204       Lisa      Case  Female  North Carolina   44    4/1/2020   \n",
       "206205     Jeremy   Robbins    Male          Hawaii   62    4/1/2020   \n",
       "206206      Doris  Richmond  Female        Missouri   66    4/1/2020   \n",
       "206207       Rose   Rollins  Female      California   27    4/1/2020   \n",
       "206208    Cynthia     Noble  Female        New York   55    4/1/2020   \n",
       "\n",
       "        n_dependants fam_status  income  \n",
       "0                  3    married  165665  \n",
       "1                  0     single   59285  \n",
       "2                  2    married   99568  \n",
       "3                  0     single   42049  \n",
       "4                  1    married   40374  \n",
       "...              ...        ...     ...  \n",
       "206204             1    married  148828  \n",
       "206205             3    married  168639  \n",
       "206206             2    married   53374  \n",
       "206207             1    married   99799  \n",
       "206208             1    married   57095  \n",
       "\n",
       "[206209 rows x 9 columns]>"
      ]
     },
     "execution_count": 11,
     "metadata": {},
     "output_type": "execute_result"
    }
   ],
   "source": [
    "# Review descriptive analisys to identify any annomalies ( removing user ID that as a numeric number is not usefull for thr description)\n",
    "\n",
    "customers.drop(columns=['user_id']).describe"
   ]
  },
  {
   "cell_type": "markdown",
   "id": "b78dc0ab-9918-4dab-a167-277e7f57e7a1",
   "metadata": {},
   "source": [
    "**NOTE** Age ,number of dependants and income (mean, median and max) seems aligment. Although the max amount of income is far from the mean and median."
   ]
  },
  {
   "cell_type": "code",
   "execution_count": 12,
   "id": "7f9b1b05-d433-4ac1-9e8c-c6bffd15f283",
   "metadata": {},
   "outputs": [],
   "source": [
    "# Aligning column names \n",
    "\n",
    "customers.rename(columns = {'First Name' : 'first_name'}, inplace = True)"
   ]
  },
  {
   "cell_type": "code",
   "execution_count": 13,
   "id": "241c3f23-edcc-4c31-8b2b-cca2a8492ddd",
   "metadata": {},
   "outputs": [],
   "source": [
    "# Rename Surnam as last_name\n",
    "\n",
    "customers.rename(columns = {'Surnam' : 'last_name'}, inplace = True)"
   ]
  },
  {
   "cell_type": "code",
   "execution_count": 14,
   "id": "c3f65179-13d4-4fec-b770-290e8c652f73",
   "metadata": {},
   "outputs": [],
   "source": [
    "# Rename STATE as state\n",
    "\n",
    "customers.rename(columns = {'STATE' : 'state'}, inplace = True)"
   ]
  },
  {
   "cell_type": "code",
   "execution_count": 15,
   "id": "532e00fb-8c24-42c6-8362-a066bbfdabfe",
   "metadata": {},
   "outputs": [],
   "source": [
    "# Rename Age as age\n",
    "\n",
    "customers.rename(columns = {'Age' : 'age'}, inplace = True)"
   ]
  },
  {
   "cell_type": "code",
   "execution_count": 16,
   "id": "e3095d01-49e1-4259-a2d7-a51505fb6b52",
   "metadata": {},
   "outputs": [],
   "source": [
    "# Rename Genre as gender\n",
    "\n",
    "customers.rename(columns = {'Gender' : 'gender'}, inplace = True)"
   ]
  },
  {
   "cell_type": "code",
   "execution_count": 17,
   "id": "8c147eb2-0a9e-4c77-b3f0-d4c0df5592b7",
   "metadata": {},
   "outputs": [],
   "source": [
    "# Rename fam_status as marital_status\n",
    "\n",
    "customers.rename(columns = {'fam_status' : 'marital_status'}, inplace = True)"
   ]
  },
  {
   "cell_type": "code",
   "execution_count": 18,
   "id": "ae4830c3-9305-495a-b89b-ec9f6eb53a5a",
   "metadata": {},
   "outputs": [
    {
     "data": {
      "text/html": [
       "<div>\n",
       "<style scoped>\n",
       "    .dataframe tbody tr th:only-of-type {\n",
       "        vertical-align: middle;\n",
       "    }\n",
       "\n",
       "    .dataframe tbody tr th {\n",
       "        vertical-align: top;\n",
       "    }\n",
       "\n",
       "    .dataframe thead th {\n",
       "        text-align: right;\n",
       "    }\n",
       "</style>\n",
       "<table border=\"1\" class=\"dataframe\">\n",
       "  <thead>\n",
       "    <tr style=\"text-align: right;\">\n",
       "      <th></th>\n",
       "      <th>user_id</th>\n",
       "      <th>first_name</th>\n",
       "      <th>last_name</th>\n",
       "      <th>gender</th>\n",
       "      <th>state</th>\n",
       "      <th>age</th>\n",
       "      <th>date_joined</th>\n",
       "      <th>n_dependants</th>\n",
       "      <th>marital_status</th>\n",
       "      <th>income</th>\n",
       "    </tr>\n",
       "  </thead>\n",
       "  <tbody>\n",
       "    <tr>\n",
       "      <th>0</th>\n",
       "      <td>26711</td>\n",
       "      <td>Deborah</td>\n",
       "      <td>Esquivel</td>\n",
       "      <td>Female</td>\n",
       "      <td>Missouri</td>\n",
       "      <td>48</td>\n",
       "      <td>1/1/2017</td>\n",
       "      <td>3</td>\n",
       "      <td>married</td>\n",
       "      <td>165665</td>\n",
       "    </tr>\n",
       "    <tr>\n",
       "      <th>1</th>\n",
       "      <td>33890</td>\n",
       "      <td>Patricia</td>\n",
       "      <td>Hart</td>\n",
       "      <td>Female</td>\n",
       "      <td>New Mexico</td>\n",
       "      <td>36</td>\n",
       "      <td>1/1/2017</td>\n",
       "      <td>0</td>\n",
       "      <td>single</td>\n",
       "      <td>59285</td>\n",
       "    </tr>\n",
       "    <tr>\n",
       "      <th>2</th>\n",
       "      <td>65803</td>\n",
       "      <td>Kenneth</td>\n",
       "      <td>Farley</td>\n",
       "      <td>Male</td>\n",
       "      <td>Idaho</td>\n",
       "      <td>35</td>\n",
       "      <td>1/1/2017</td>\n",
       "      <td>2</td>\n",
       "      <td>married</td>\n",
       "      <td>99568</td>\n",
       "    </tr>\n",
       "    <tr>\n",
       "      <th>3</th>\n",
       "      <td>125935</td>\n",
       "      <td>Michelle</td>\n",
       "      <td>Hicks</td>\n",
       "      <td>Female</td>\n",
       "      <td>Iowa</td>\n",
       "      <td>40</td>\n",
       "      <td>1/1/2017</td>\n",
       "      <td>0</td>\n",
       "      <td>single</td>\n",
       "      <td>42049</td>\n",
       "    </tr>\n",
       "    <tr>\n",
       "      <th>4</th>\n",
       "      <td>130797</td>\n",
       "      <td>Ann</td>\n",
       "      <td>Gilmore</td>\n",
       "      <td>Female</td>\n",
       "      <td>Maryland</td>\n",
       "      <td>26</td>\n",
       "      <td>1/1/2017</td>\n",
       "      <td>1</td>\n",
       "      <td>married</td>\n",
       "      <td>40374</td>\n",
       "    </tr>\n",
       "  </tbody>\n",
       "</table>\n",
       "</div>"
      ],
      "text/plain": [
       "   user_id first_name last_name  gender       state  age date_joined  \\\n",
       "0    26711    Deborah  Esquivel  Female    Missouri   48    1/1/2017   \n",
       "1    33890   Patricia      Hart  Female  New Mexico   36    1/1/2017   \n",
       "2    65803    Kenneth    Farley    Male       Idaho   35    1/1/2017   \n",
       "3   125935   Michelle     Hicks  Female        Iowa   40    1/1/2017   \n",
       "4   130797        Ann   Gilmore  Female    Maryland   26    1/1/2017   \n",
       "\n",
       "   n_dependants marital_status  income  \n",
       "0             3        married  165665  \n",
       "1             0         single   59285  \n",
       "2             2        married   99568  \n",
       "3             0         single   42049  \n",
       "4             1        married   40374  "
      ]
     },
     "execution_count": 18,
     "metadata": {},
     "output_type": "execute_result"
    }
   ],
   "source": [
    "# checking new column names\n",
    "\n",
    "customers.head()"
   ]
  },
  {
   "cell_type": "markdown",
   "id": "2c954b6d-81de-406e-822e-392c15093aaf",
   "metadata": {},
   "source": [
    "**NOTE**6 values were modified to align column name format. I am not dropping any columns. I only completed the descriptive analysis without the user ID but the column will remain as part of the DF"
   ]
  },
  {
   "cell_type": "markdown",
   "id": "8afa94f0-373f-46f7-a9ae-c9e3b335ee93",
   "metadata": {},
   "source": [
    "# QUESTION 5. DATA QUALITY"
   ]
  },
  {
   "cell_type": "code",
   "execution_count": 19,
   "id": "647e5444-cb91-471c-aff1-362e818f30d6",
   "metadata": {},
   "outputs": [
    {
     "data": {
      "text/plain": [
       "user_id               0\n",
       "first_name        11259\n",
       "last_name             0\n",
       "gender                0\n",
       "state                 0\n",
       "age                   0\n",
       "date_joined           0\n",
       "n_dependants          0\n",
       "marital_status        0\n",
       "income                0\n",
       "dtype: int64"
      ]
     },
     "execution_count": 19,
     "metadata": {},
     "output_type": "execute_result"
    }
   ],
   "source": [
    "# Review any missing values\n",
    "\n",
    "customers.isnull().sum()"
   ]
  },
  {
   "cell_type": "markdown",
   "id": "32143a3b-5569-495e-8b78-5c3f8a41e45f",
   "metadata": {},
   "source": [
    "**NOTE**  There seems to be 11,259 null values under column first_names"
   ]
  },
  {
   "cell_type": "code",
   "execution_count": 20,
   "id": "dbb13ea4-964d-43bf-a843-558e8043e086",
   "metadata": {},
   "outputs": [],
   "source": [
    "# Reviwing any duplicates\n",
    "\n",
    "df_dups = customers[customers.duplicated()]"
   ]
  },
  {
   "cell_type": "code",
   "execution_count": 21,
   "id": "4ea234cb-8cb1-4e48-b094-2a14aa7bc65c",
   "metadata": {},
   "outputs": [
    {
     "data": {
      "text/html": [
       "<div>\n",
       "<style scoped>\n",
       "    .dataframe tbody tr th:only-of-type {\n",
       "        vertical-align: middle;\n",
       "    }\n",
       "\n",
       "    .dataframe tbody tr th {\n",
       "        vertical-align: top;\n",
       "    }\n",
       "\n",
       "    .dataframe thead th {\n",
       "        text-align: right;\n",
       "    }\n",
       "</style>\n",
       "<table border=\"1\" class=\"dataframe\">\n",
       "  <thead>\n",
       "    <tr style=\"text-align: right;\">\n",
       "      <th></th>\n",
       "      <th>user_id</th>\n",
       "      <th>first_name</th>\n",
       "      <th>last_name</th>\n",
       "      <th>gender</th>\n",
       "      <th>state</th>\n",
       "      <th>age</th>\n",
       "      <th>date_joined</th>\n",
       "      <th>n_dependants</th>\n",
       "      <th>marital_status</th>\n",
       "      <th>income</th>\n",
       "    </tr>\n",
       "  </thead>\n",
       "  <tbody>\n",
       "  </tbody>\n",
       "</table>\n",
       "</div>"
      ],
      "text/plain": [
       "Empty DataFrame\n",
       "Columns: [user_id, first_name, last_name, gender, state, age, date_joined, n_dependants, marital_status, income]\n",
       "Index: []"
      ]
     },
     "execution_count": 21,
     "metadata": {},
     "output_type": "execute_result"
    }
   ],
   "source": [
    "df_dups"
   ]
  },
  {
   "cell_type": "markdown",
   "id": "c8c6e109-2a7e-4a2f-9616-0eaeed438c80",
   "metadata": {},
   "source": [
    "**NOTE** no duplicated data were found"
   ]
  },
  {
   "cell_type": "code",
   "execution_count": 22,
   "id": "03df817c-db74-4e89-b425-c2cf617572bc",
   "metadata": {},
   "outputs": [
    {
     "data": {
      "text/plain": [
       "user_id            int64\n",
       "first_name        object\n",
       "last_name         object\n",
       "gender            object\n",
       "state             object\n",
       "age                int64\n",
       "date_joined       object\n",
       "n_dependants       int64\n",
       "marital_status    object\n",
       "income             int64\n",
       "dtype: object"
      ]
     },
     "execution_count": 22,
     "metadata": {},
     "output_type": "execute_result"
    }
   ],
   "source": [
    "# Checking data types: \n",
    "\n",
    "customers.dtypes"
   ]
  },
  {
   "cell_type": "code",
   "execution_count": 23,
   "id": "07e84b3d-7607-4dca-87d1-d72b4334d1e8",
   "metadata": {},
   "outputs": [
    {
     "name": "stderr",
     "output_type": "stream",
     "text": [
      "C:\\Users\\carol\\AppData\\Local\\Temp\\ipykernel_2188\\3951281631.py:4: FutureWarning: DataFrame.applymap has been deprecated. Use DataFrame.map instead.\n",
      "  weird = (customers[[col]].applymap(type) != customers[[col]].iloc[0].apply(type)).any(axis = 1)\n",
      "C:\\Users\\carol\\AppData\\Local\\Temp\\ipykernel_2188\\3951281631.py:4: FutureWarning: DataFrame.applymap has been deprecated. Use DataFrame.map instead.\n",
      "  weird = (customers[[col]].applymap(type) != customers[[col]].iloc[0].apply(type)).any(axis = 1)\n",
      "C:\\Users\\carol\\AppData\\Local\\Temp\\ipykernel_2188\\3951281631.py:4: FutureWarning: DataFrame.applymap has been deprecated. Use DataFrame.map instead.\n",
      "  weird = (customers[[col]].applymap(type) != customers[[col]].iloc[0].apply(type)).any(axis = 1)\n",
      "C:\\Users\\carol\\AppData\\Local\\Temp\\ipykernel_2188\\3951281631.py:4: FutureWarning: DataFrame.applymap has been deprecated. Use DataFrame.map instead.\n",
      "  weird = (customers[[col]].applymap(type) != customers[[col]].iloc[0].apply(type)).any(axis = 1)\n",
      "C:\\Users\\carol\\AppData\\Local\\Temp\\ipykernel_2188\\3951281631.py:4: FutureWarning: DataFrame.applymap has been deprecated. Use DataFrame.map instead.\n",
      "  weird = (customers[[col]].applymap(type) != customers[[col]].iloc[0].apply(type)).any(axis = 1)\n",
      "C:\\Users\\carol\\AppData\\Local\\Temp\\ipykernel_2188\\3951281631.py:4: FutureWarning: DataFrame.applymap has been deprecated. Use DataFrame.map instead.\n",
      "  weird = (customers[[col]].applymap(type) != customers[[col]].iloc[0].apply(type)).any(axis = 1)\n",
      "C:\\Users\\carol\\AppData\\Local\\Temp\\ipykernel_2188\\3951281631.py:4: FutureWarning: DataFrame.applymap has been deprecated. Use DataFrame.map instead.\n",
      "  weird = (customers[[col]].applymap(type) != customers[[col]].iloc[0].apply(type)).any(axis = 1)\n",
      "C:\\Users\\carol\\AppData\\Local\\Temp\\ipykernel_2188\\3951281631.py:4: FutureWarning: DataFrame.applymap has been deprecated. Use DataFrame.map instead.\n",
      "  weird = (customers[[col]].applymap(type) != customers[[col]].iloc[0].apply(type)).any(axis = 1)\n",
      "C:\\Users\\carol\\AppData\\Local\\Temp\\ipykernel_2188\\3951281631.py:4: FutureWarning: DataFrame.applymap has been deprecated. Use DataFrame.map instead.\n",
      "  weird = (customers[[col]].applymap(type) != customers[[col]].iloc[0].apply(type)).any(axis = 1)\n"
     ]
    },
    {
     "name": "stdout",
     "output_type": "stream",
     "text": [
      "first_name\n"
     ]
    },
    {
     "name": "stderr",
     "output_type": "stream",
     "text": [
      "C:\\Users\\carol\\AppData\\Local\\Temp\\ipykernel_2188\\3951281631.py:4: FutureWarning: DataFrame.applymap has been deprecated. Use DataFrame.map instead.\n",
      "  weird = (customers[[col]].applymap(type) != customers[[col]].iloc[0].apply(type)).any(axis = 1)\n"
     ]
    }
   ],
   "source": [
    "# Checking for any mixed-type columns\n",
    "\n",
    "for col in customers.columns.tolist():\n",
    "  weird = (customers[[col]].applymap(type) != customers[[col]].iloc[0].apply(type)).any(axis = 1)\n",
    "  if len (customers[weird]) > 0:\n",
    "    print (col)"
   ]
  },
  {
   "cell_type": "markdown",
   "id": "ed947125-8734-42d3-9701-c70c2167a6ba",
   "metadata": {},
   "source": [
    "**NOTE**: Column first_name seems to have some mixed type\r\n",
    "\r\n"
   ]
  },
  {
   "cell_type": "code",
   "execution_count": 24,
   "id": "be86433e-d7d0-4d23-b42c-9489b45c97ad",
   "metadata": {},
   "outputs": [],
   "source": [
    "# As the column contains name changing too a string\n",
    "\n",
    "customers['first_name'] = customers['first_name'].astype('str')"
   ]
  },
  {
   "cell_type": "code",
   "execution_count": 25,
   "id": "ab254baf-212e-4f24-abeb-40c52ac8a087",
   "metadata": {},
   "outputs": [
    {
     "name": "stderr",
     "output_type": "stream",
     "text": [
      "C:\\Users\\carol\\AppData\\Local\\Temp\\ipykernel_2188\\3056519848.py:4: FutureWarning: DataFrame.applymap has been deprecated. Use DataFrame.map instead.\n",
      "  weird = (customers[[col]].applymap(type) != customers[[col]].iloc[0].apply(type)).any(axis = 1)\n",
      "C:\\Users\\carol\\AppData\\Local\\Temp\\ipykernel_2188\\3056519848.py:4: FutureWarning: DataFrame.applymap has been deprecated. Use DataFrame.map instead.\n",
      "  weird = (customers[[col]].applymap(type) != customers[[col]].iloc[0].apply(type)).any(axis = 1)\n",
      "C:\\Users\\carol\\AppData\\Local\\Temp\\ipykernel_2188\\3056519848.py:4: FutureWarning: DataFrame.applymap has been deprecated. Use DataFrame.map instead.\n",
      "  weird = (customers[[col]].applymap(type) != customers[[col]].iloc[0].apply(type)).any(axis = 1)\n",
      "C:\\Users\\carol\\AppData\\Local\\Temp\\ipykernel_2188\\3056519848.py:4: FutureWarning: DataFrame.applymap has been deprecated. Use DataFrame.map instead.\n",
      "  weird = (customers[[col]].applymap(type) != customers[[col]].iloc[0].apply(type)).any(axis = 1)\n",
      "C:\\Users\\carol\\AppData\\Local\\Temp\\ipykernel_2188\\3056519848.py:4: FutureWarning: DataFrame.applymap has been deprecated. Use DataFrame.map instead.\n",
      "  weird = (customers[[col]].applymap(type) != customers[[col]].iloc[0].apply(type)).any(axis = 1)\n",
      "C:\\Users\\carol\\AppData\\Local\\Temp\\ipykernel_2188\\3056519848.py:4: FutureWarning: DataFrame.applymap has been deprecated. Use DataFrame.map instead.\n",
      "  weird = (customers[[col]].applymap(type) != customers[[col]].iloc[0].apply(type)).any(axis = 1)\n",
      "C:\\Users\\carol\\AppData\\Local\\Temp\\ipykernel_2188\\3056519848.py:4: FutureWarning: DataFrame.applymap has been deprecated. Use DataFrame.map instead.\n",
      "  weird = (customers[[col]].applymap(type) != customers[[col]].iloc[0].apply(type)).any(axis = 1)\n",
      "C:\\Users\\carol\\AppData\\Local\\Temp\\ipykernel_2188\\3056519848.py:4: FutureWarning: DataFrame.applymap has been deprecated. Use DataFrame.map instead.\n",
      "  weird = (customers[[col]].applymap(type) != customers[[col]].iloc[0].apply(type)).any(axis = 1)\n",
      "C:\\Users\\carol\\AppData\\Local\\Temp\\ipykernel_2188\\3056519848.py:4: FutureWarning: DataFrame.applymap has been deprecated. Use DataFrame.map instead.\n",
      "  weird = (customers[[col]].applymap(type) != customers[[col]].iloc[0].apply(type)).any(axis = 1)\n",
      "C:\\Users\\carol\\AppData\\Local\\Temp\\ipykernel_2188\\3056519848.py:4: FutureWarning: DataFrame.applymap has been deprecated. Use DataFrame.map instead.\n",
      "  weird = (customers[[col]].applymap(type) != customers[[col]].iloc[0].apply(type)).any(axis = 1)\n"
     ]
    }
   ],
   "source": [
    "# Re-Checking for any mixed-type columns\n",
    "\n",
    "for col in customers.columns.tolist():\n",
    "  weird = (customers[[col]].applymap(type) != customers[[col]].iloc[0].apply(type)).any(axis = 1)\n",
    "  if len (customers[weird]) > 0:\n",
    "    print (col)\n"
   ]
  },
  {
   "cell_type": "markdown",
   "id": "d0cd1b7e-efcc-438f-b41a-ae0886c96907",
   "metadata": {},
   "source": [
    "**NOTE**: first_name mix type has been addressed."
   ]
  },
  {
   "cell_type": "markdown",
   "id": "654746e0-bbad-4e25-93c5-e5bfb8a8d950",
   "metadata": {},
   "source": [
    "# QUESTION 6. COMBINE CUSTOMERS DATA WITH THE PREPARED DATA"
   ]
  },
  {
   "cell_type": "code",
   "execution_count": 26,
   "id": "57502d81-ed71-4587-9b6b-95c43b41d406",
   "metadata": {},
   "outputs": [],
   "source": [
    "# Importing data from ords_prods_grouped \n",
    "\n",
    "ords_prods_grouped = pd.read_pickle(os.path.join(path, '02 Data', 'Prepared Data', 'ords_prods_grouped.pkl'))"
   ]
  },
  {
   "cell_type": "code",
   "execution_count": 27,
   "id": "b066db74-c72d-4fd9-a6a2-51f8ea2deea9",
   "metadata": {},
   "outputs": [
    {
     "data": {
      "text/plain": [
       "Unnamed: 0                       int64\n",
       "product_id                       int64\n",
       "product_name                    object\n",
       "aisle_id                         int64\n",
       "department_id                    int64\n",
       "prices                         float64\n",
       "order_id                         int64\n",
       "user_id                          int64\n",
       "eval_set                        object\n",
       "order_number                     int64\n",
       "order_dow                        int64\n",
       "order_hour_of_day                int64\n",
       "days_since_prior_order         float64\n",
       "add_to_cart_order                int64\n",
       "reordered                        int64\n",
       "_merge                        category\n",
       "max_order                        int64\n",
       "loyalty_flag                    object\n",
       "mean_product_price             float64\n",
       "spending_flag                   object\n",
       "median_days_between_orders     float64\n",
       "order_frequency                 object\n",
       "dtype: object"
      ]
     },
     "execution_count": 27,
     "metadata": {},
     "output_type": "execute_result"
    }
   ],
   "source": [
    "# Checking ords_prods_grouped data types\n",
    "\n",
    "ords_prods_grouped.dtypes"
   ]
  },
  {
   "cell_type": "markdown",
   "id": "4291b375-92f6-4314-b129-994939ca91b7",
   "metadata": {},
   "source": [
    "**NOTE**: key type on both DF are the user ID"
   ]
  },
  {
   "cell_type": "code",
   "execution_count": 28,
   "id": "8f0ec18e-7d86-4a6e-abaf-95d89314a2b3",
   "metadata": {},
   "outputs": [],
   "source": [
    "#dropping 'eval_set' and '_merge' columns\n",
    "\n",
    "ords_prods_grouped = ords_prods_grouped.drop(columns=['_merge','eval_set'])"
   ]
  },
  {
   "cell_type": "code",
   "execution_count": null,
   "id": "4323e3ba-f143-49d7-8d9a-17830e3c8358",
   "metadata": {},
   "outputs": [],
   "source": [
    "# Merge ords_prods_grouped with customers data\n",
    "\n",
    "ords_prods_grouped_merge = ords_prods_grouped.merge(customers, on = 'user_id', indicator = True)"
   ]
  },
  {
   "cell_type": "markdown",
   "id": "0aceb116-5f49-4ef6-93a3-1fe2d1d12b0a",
   "metadata": {},
   "source": [
    "# QUESTION 8. EXPORT NEW DF AS PICKLE"
   ]
  },
  {
   "cell_type": "code",
   "execution_count": null,
   "id": "e53b7053-3582-4f58-af1a-c57bc988ed02",
   "metadata": {},
   "outputs": [],
   "source": [
    "#Export ords_prods_cust_agg as pickle\n",
    "\n",
    "ords_prods_grouped_merge.to_pickle(os.path.join(path,'02 Data','Prepared Data','ords_prods_cust_agg.pkl'))"
   ]
  }
 ],
 "metadata": {
  "kernelspec": {
   "display_name": "Python 3 (ipykernel)",
   "language": "python",
   "name": "python3"
  },
  "language_info": {
   "codemirror_mode": {
    "name": "ipython",
    "version": 3
   },
   "file_extension": ".py",
   "mimetype": "text/x-python",
   "name": "python",
   "nbconvert_exporter": "python",
   "pygments_lexer": "ipython3",
   "version": "3.11.7"
  }
 },
 "nbformat": 4,
 "nbformat_minor": 5
}
