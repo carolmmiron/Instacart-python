{
 "cells": [
  {
   "cell_type": "markdown",
   "id": "e2739f0c-fe31-4883-a688-5bc458bd05ca",
   "metadata": {},
   "source": [
    "# ANSWERS 4.6 PART 1"
   ]
  },
  {
   "cell_type": "code",
   "execution_count": null,
   "id": "58126366-b0d0-4ff2-a8b4-17316f7f6228",
   "metadata": {},
   "outputs": [],
   "source": [
    "# Import libraries\n",
    "\n",
    "import pandas as pd\n",
    "import numpy as np\n",
    "import os"
   ]
  },
  {
   "cell_type": "code",
   "execution_count": null,
   "id": "3061bcd7-63e7-408d-895e-5f2745989a3a",
   "metadata": {},
   "outputs": [],
   "source": [
    "#create a shortcut to access the Instacart Basket data as path\n",
    "path= r'C:\\\\Users\\\\carol\\\\Documents\\\\20.06 Instacart Basket Analysis'"
   ]
  },
  {
   "cell_type": "code",
   "execution_count": null,
   "id": "ee6822a9-5f9d-4d47-9ea7-bded5dd0f8ff",
   "metadata": {},
   "outputs": [],
   "source": [
    "# import product.csv file using path variable\n",
    "df_ords_prior = pd.read_csv(os.path.join(path,'02 Data','Original Data','orders_products_prior.csv'), index_col = False)"
   ]
  },
  {
   "cell_type": "code",
   "execution_count": null,
   "id": "9291ae54-632f-411d-87b0-23dccde3afa8",
   "metadata": {},
   "outputs": [],
   "source": [
    "# Check df_ords_prior output\n",
    "\n",
    "df_ords_prior.head()"
   ]
  },
  {
   "cell_type": "code",
   "execution_count": null,
   "id": "e404d9cc-ced2-4618-a8ef-1fe2f324b40c",
   "metadata": {},
   "outputs": [],
   "source": [
    "#Check df size (shape)\n",
    "\n",
    "df_ords_prior.shape"
   ]
  },
  {
   "cell_type": "code",
   "execution_count": null,
   "id": "7191aa63-fdba-4493-b74b-7275942c9999",
   "metadata": {},
   "outputs": [],
   "source": [
    "#Import df_ords (df_ords from the Original data)\n",
    "\n",
    "df_ords=pd.read_csv(os.path.join(path,'02 Data','Original Data','orders.csv'))"
   ]
  },
  {
   "cell_type": "code",
   "execution_count": null,
   "id": "14f57d90-0827-47df-87b2-8982f4b55b3e",
   "metadata": {},
   "outputs": [],
   "source": [
    "#Check df size (shape)\n",
    "\n",
    "df_ords.shape"
   ]
  },
  {
   "cell_type": "markdown",
   "id": "f718caf6-77ef-4a8e-99dd-f7e011add2ca",
   "metadata": {},
   "source": [
    "# STEP 1 MERGE WITH DF ORDER_PRODUCT_PRIOR"
   ]
  },
  {
   "cell_type": "code",
   "execution_count": null,
   "id": "ce00a42a-8644-4991-8d83-36104515aa71",
   "metadata": {},
   "outputs": [],
   "source": [
    "#Create a new DF df_merge_large by merging df_ords and df_ords_prior\n",
    "#incluide indicator TRUE for a full match\n",
    "\n",
    "df_merged_large = df_ords.merge(df_ords_prior, on = 'order_id', indicator = True)"
   ]
  },
  {
   "cell_type": "code",
   "execution_count": null,
   "id": "ff756bb1-25f5-410b-825e-6c4471b5c0ff",
   "metadata": {},
   "outputs": [],
   "source": [
    "#checking df_merge_large data\n",
    "\n",
    "df_merged_large.head()"
   ]
  },
  {
   "cell_type": "code",
   "execution_count": null,
   "id": "275f22c4-413d-4092-a073-0f75dfabc3f1",
   "metadata": {},
   "outputs": [],
   "source": [
    "#checking df_merge_large column merge ( count inputs)\n",
    "\n",
    "df_merged_large['_merge'].value_counts()"
   ]
  },
  {
   "cell_type": "code",
   "execution_count": null,
   "id": "dd7caddc-24ba-4d8b-a98f-ec00956f369e",
   "metadata": {},
   "outputs": [],
   "source": []
  },
  {
   "cell_type": "code",
   "execution_count": null,
   "id": "bbdf43ce-c600-4fe1-91bc-9bd35c7c1116",
   "metadata": {},
   "outputs": [],
   "source": []
  },
  {
   "cell_type": "code",
   "execution_count": null,
   "id": "d3351078-ccd4-4e21-afeb-04757bcd1ce5",
   "metadata": {},
   "outputs": [],
   "source": []
  },
  {
   "cell_type": "code",
   "execution_count": null,
   "id": "80b0cab1-0689-4752-abdb-b22a5021369e",
   "metadata": {},
   "outputs": [],
   "source": []
  }
 ],
 "metadata": {
  "kernelspec": {
   "display_name": "Python 3 (ipykernel)",
   "language": "python",
   "name": "python3"
  },
  "language_info": {
   "codemirror_mode": {
    "name": "ipython",
    "version": 3
   },
   "file_extension": ".py",
   "mimetype": "text/x-python",
   "name": "python",
   "nbconvert_exporter": "python",
   "pygments_lexer": "ipython3",
   "version": "3.11.7"
  }
 },
 "nbformat": 4,
 "nbformat_minor": 5
}
